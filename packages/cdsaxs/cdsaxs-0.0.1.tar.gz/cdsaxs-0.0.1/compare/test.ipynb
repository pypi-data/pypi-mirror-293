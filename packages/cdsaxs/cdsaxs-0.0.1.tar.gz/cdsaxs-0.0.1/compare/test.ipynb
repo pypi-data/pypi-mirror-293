{
 "cells": [
  {
   "cell_type": "code",
   "execution_count": 1,
   "metadata": {},
   "outputs": [
    {
     "data": {
      "text/plain": [
       "(121,)"
      ]
     },
     "execution_count": 1,
     "metadata": {},
     "output_type": "execute_result"
    },
    {
     "data": {
      "image/png": "[encoded data removed]",
      "text/plain": [
       "<Figure size 640x480 with 1 Axes>"
      ]
     },
     "metadata": {},
     "output_type": "display_data"
    }
   ],
   "source": [
    "from fit import cmaes\n",
    "import numpy as np\n",
    "import os\n",
    "import time\n",
    "import matplotlib.pyplot as plt\n",
    "\n",
    "data = np.load('/nobackup/nd276333/Workspace/cdsaxs/data/champs00_p112nm_num2_02.npy')\n",
    "\n",
    "qys = data[:,0]\n",
    "qzs = data[:,1]\n",
    "intensity = data[:,2]\n",
    "\n",
    "i = 100\n",
    "l = 20\n",
    "qys = qys[0:121]\n",
    "qzs = qzs[0:121]\n",
    "intensity = intensity[0:121]\n",
    "plt.scatter(qzs, intensity)\n",
    "\n",
    "np.shape(intensity)"
   ]
  },
  {
   "cell_type": "markdown",
   "metadata": {},
   "source": [
    "# New Code"
   ]
  },
  {
   "cell_type": "code",
   "execution_count": 2,
   "metadata": {},
   "outputs": [
    {
     "name": "stderr",
     "output_type": "stream",
     "text": [
      "/nobackup/nd276333/emcee_env/lib/python3.11/site-packages/deap/creator.py:185: RuntimeWarning: A class named 'FitnessMin' has already been created and it will be overwritten. Consider deleting previous creation of that class or rename it.\n",
      "  warnings.warn(\"A class named '{0}' has already been created and it \"\n",
      "/nobackup/nd276333/emcee_env/lib/python3.11/site-packages/deap/creator.py:185: RuntimeWarning: A class named 'Individual' has already been created and it will be overwritten. Consider deleting previous creation of that class or rename it.\n",
      "  warnings.warn(\"A class named '{0}' has already been created and it \"\n"
     ]
    }
   ],
   "source": [
    "import cdsaxs\n",
    "from cdsaxs.simulations.stacked_trapezoid import StackedTrapezoidSimulation\n",
    "\n",
    "langles = np.asarray([31.97,80.44,69.50, 89.97, 86.63,58.07])\n",
    "initial_params = {'heights': {'value': 4.24, 'variation': 1E-2},\n",
    "                    # 'langles': {'value': langles, 'variation': 4E-1},\n",
    "                    'rangles': {'value': langles, 'variation': 4E-2},\n",
    "                    'y_start': {'value': 0, 'variation': 1E-2},\n",
    "                    'bot_cd': {'value': 55.25, 'variation': 1E-2},\n",
    "                    'dwx': {'value': 0.95, 'variation': 1E-4},\n",
    "                    'dwz': {'value': 1.96, 'variation': 1E-4},\n",
    "                    'i0': {'value': 0.07, 'variation': 1E-3},\n",
    "                    'bkg_cste': {'value':2.14, 'variation': 1E-3}\n",
    "\n",
    "                    }\n",
    "\n",
    "\n",
    "from cdsaxs.fitter import Fitter\n",
    "Simulation2 = StackedTrapezoidSimulation(use_gpu=False, qys=qys, qzs=qzs, initial_guess=initial_params)\n",
    "\n",
    "Fitter1 = Fitter(Simulation=Simulation2, exp_data=intensity)\n"
   ]
  },
  {
   "cell_type": "code",
   "execution_count": 3,
   "metadata": {},
   "outputs": [
    {
     "name": "stdout",
     "output_type": "stream",
     "text": [
      "Start CMAES\n",
      "gen\tnevals\tavg \tstd \tmin \tmax \tfin\n",
      "1  \t10    \tNone\tNone\tNone\tNone\t0  \n",
      "2  \t10    \tNone\tNone\tNone\tNone\t0  \n",
      "Iteration terminated due to ngen criterion after 2 gens\n",
      "('best', [-119.27516402551323, 16.60063170758686, -68.9704393961334, 18.45428794893623, -76.60524231613705, -174.44870814180942, -103.20401405559127, 77.86488625360069, -93.79184822648519, -5.905684840294949, 74.96450714240427, 232.7710198503357, 37.814540325667174], inf)\n"
     ]
    },
    {
     "name": "stderr",
     "output_type": "stream",
     "text": [
      "/nobackup/nd276333/Workspace/cdsaxs/src/cdsaxs/residual.py:127: RuntimeWarning: divide by zero encountered in log10\n",
      "  error = self.xp.nansum(self.xp.abs((self.xp.log10(exp_i_array) - self.xp.log10(sim_i_array))), axis=1)\n",
      "/nobackup/nd276333/Workspace/cdsaxs/src/cdsaxs/fitter.py:289: RuntimeWarning: invalid value encountered in scalar divide\n",
      "  if(n_infs / fitness_arr.shape[0] > 0.5):\n"
     ]
    }
   ],
   "source": [
    "bestfit, fitness = Fitter1.cmaes(sigma=100, ngen=2, popsize=10, mu=10, n_default=13, restarts=0, tolhistfun=10E-5, ftarget=None, restart_from_best=True, verbose=True)"
   ]
  },
  {
   "cell_type": "markdown",
   "metadata": {},
   "source": [
    "# Old Code"
   ]
  },
  {
   "cell_type": "code",
   "execution_count": 4,
   "metadata": {},
   "outputs": [],
   "source": [
    "# Define initial parameters and multiples\n",
    "dwx = 0.95\n",
    "dwz = 1.96\n",
    "i0 = 0.07\n",
    "bkg = 2.14\n",
    "height = 4.24\n",
    "bot_cd = 55.25\n",
    "swa = [31.97,80.44,69.50, 89.97, 86.63,58.07]\n",
    "\n",
    "initial_guess = np.array([dwx, dwz, i0, bkg, height, bot_cd] + swa)\n",
    "multiples = [1E-8, 1E-8, 1E-8, 1E-7, 1E-7, 1E-7] + len(swa) * [1E-5]\n",
    "\n",
    "# Check if the number of initial guesses matches the number of multiples\n",
    "assert len(initial_guess) == len(multiples), f'Number of adds ({len(initial_guess)}) is different from number of multiples ({len(multiples)})'\n",
    "\n",
    "# Define data arrays\n",
    "data = intensity\n",
    "\n",
    "# Define a range of population sizes\n",
    "# nbpop = np.arange(10, 700, 50)\n",
    "nbpop = [10, 11]\n",
    "\n",
    "best_corr, best_fitness = cmaes(data=data, qxs=qys, qzs=qzs, sigma=100, ngen=2, popsize=10, mu=10,\n",
    "                                        n_default=len(initial_guess), restarts=0, verbose=True, tolhistfun=5e-5,\n",
    "                                        initial_guess=initial_guess, ftarget=None, dir_save=None)\n"
   ]
  }
 ],
 "metadata": {
  "kernelspec": {
   "display_name": "Python 3",
   "language": "python",
   "name": "python3"
  },
  "language_info": {
   "codemirror_mode": {
    "name": "ipython",
    "version": 3
   },
   "file_extension": ".py",
   "mimetype": "text/x-python",
   "name": "python",
   "nbconvert_exporter": "python",
   "pygments_lexer": "ipython3",
   "version": "3.11.8"
  }
 },
 "nbformat": 4,
 "nbformat_minor": 2
}
