{
 "cells": [
  {
   "cell_type": "markdown",
   "metadata": {},
   "source": [
    "# How to create a simulation Model for cdsaxs?"
   ]
  },
  {
   "cell_type": "markdown",
   "metadata": {},
   "source": [
    "First let's start by doing necessary imports (make sure that cdsaxs is installed in your environment)."
   ]
  },
  {
   "cell_type": "code",
   "execution_count": 7,
   "metadata": {},
   "outputs": [],
   "source": [
    "import numpy as np\n",
    "import pandas as pd\n",
    "from cdsaxs.simulations.base import Simulation, Geometry"
   ]
  },
  {
   "cell_type": "markdown",
   "metadata": {},
   "source": [
    "### Create the Simulation Class\n",
    "\n",
    "   Your simulation class should inherit from the `Simulation` protocol. This class is where the core logic of your simulation resides. It should use the geometric data from the `Geometry` class to set up and run the simulation.\n",
    "\n",
    "   Ensure that the `simulate_diffraction` method is implemented to perform the simulation. Depending on the complexity of your model, this method might involve extensive calculations or integrations.\n",
    "\n",
    "   If your simulation will be used in conjunction with a `Fitter` class, make sure to implement the `set_from_fitter` method. This will enable your simulation to correctly handle data provided by the `Fitter` and return results in a format that the `Fitter` can use.\n"
   ]
  },
  {
   "cell_type": "code",
   "execution_count": 8,
   "metadata": {},
   "outputs": [],
   "source": [
    "class CylinderSimulation(Simulation):\n",
    "    \"\"\"A class representing a simulation of a cylinder for diffraction pattern calculation.\"\"\"\n",
    "\n",
    "    def __init__(self, qys, qzs, from_fitter=False, initial_guess=None):\n",
    "        \"\"\"Initializes the CylinderSimulation object.\n",
    "\n",
    "        Args:\n",
    "            qys (array-like): The q-values in the y-direction for diffraction calculation.\n",
    "            qzs (array-like): The q-values in the z-direction for diffraction calculation.\n",
    "            from_fitter (bool, optional): Indicates if the parameters should be taken from the fitter. Defaults to False.\n",
    "\n",
    "        \"\"\"\n",
    "        self.qys = qys\n",
    "        self.qzs = qzs\n",
    "        self.from_fitter = from_fitter\n",
    "        self.CylinderGeometry = CylinderGeometry(from_fitter=from_fitter, initial_guess=initial_guess)\n",
    "        self.CylinderDiffraction = CylinderDiffraction(CylinderGeometry=self.CylinderGeometry)\n",
    "\n",
    "    def simulate_diffraction(self, params=None):\n",
    "        \"\"\"Simulates the diffraction pattern of the cylinder.\n",
    "\n",
    "        Args:\n",
    "            params (dict, optional): Parameters for the cylinder. Defaults to None.\n",
    "        Returns:\n",
    "            intensity (array-like): A 2D array of floats containing the intensity.\n",
    "        \"\"\"        \n",
    "        intensity = self.CylinderDiffraction.calculate_intensity(self.qys, self.qzs, params)\n",
    "\n",
    "        if not self.from_fitter:\n",
    "            return intensity[0]\n",
    "\n",
    "        return intensity\n",
    "    \n",
    "    def set_from_fitter(self, from_fitter):\n",
    "        \"\"\"Sets the parameters of the simulation from the fitter.\n",
    "\n",
    "        Args:\n",
    "            from_fitter (Fitter): The fitter object.\n",
    "        \"\"\"\n",
    "        self.from_fitter = from_fitter\n",
    "        self.CylinderGeometry.from_fitter = from_fitter\n",
    "        #You can also use this method to do all the intialization neccesary for fitting.\n",
    "        self.CylinderGeometry.set_initial_guess_dataframe()\n",
    "\n",
    "    @property\n",
    "    def geometry(self):\n",
    "        \"\"\"Returns the geometry of the simulation. This is necessary so that any external object can access the geometry of the simulation\n",
    "        without having to know the internal structure of the simulation object.\n",
    "\n",
    "        Returns:\n",
    "            CylinderGeometry: The geometry of the simulation.\n",
    "        \"\"\"\n",
    "        return self.CylinderGeometry"
   ]
  },
  {
   "cell_type": "markdown",
   "metadata": {},
   "source": [
    "### Define the Geometry Class\n",
    "\n",
    "   Create a class that implements the `Geometry` protocol. This class should define the specific geometric properties of the system being simulated. For example, in a model of stacked trapezoids, this class would define the dimensions, angles, and positions of the trapezoids.\n",
    "\n",
    "   Implement the `convert_to_dataframe` method to organize the input parameters into a structured format suitable for the simulation. This method is crucial for ensuring that the parameters can be easily interpreted and manipulated by the `Fitter` class.\n"
   ]
  },
  {
   "cell_type": "code",
   "execution_count": 9,
   "metadata": {},
   "outputs": [],
   "source": [
    "class CylinderGeometry(Geometry):\n",
    "    \"\"\"A class representing the geometry of a cylinder.\"\"\"\n",
    "\n",
    "    def __init__(self, from_fitter=False, initial_guess=None):\n",
    "        \"\"\"Initializes the CylinderGeometry object.\n",
    "\n",
    "        Args:\n",
    "            from_fitter (bool, optional): Indicates if the parameters should be taken from the fitter. Defaults to False.\n",
    "        \"\"\"\n",
    "        self.from_fitter = from_fitter\n",
    "        self.initial_guess = initial_guess\n",
    "        self.initial_guess_dataframe = None\n",
    "\n",
    "    def set_initial_guess_dataframe(self):\n",
    "        \"\"\"if the function is being called by the fitter this function sets the initial guess for the parameters.\n",
    "\n",
    "        Args:\n",
    "            initial_guess (dict): The initial guess for the parameters.\n",
    "        \"\"\"\n",
    "        self.initial_guess_dataframe = pd.DataFrame(self.initial_guess, index=[0])\n",
    "\n",
    "    def convert_to_dataframe(self, params):\n",
    "        \"\"\"Converts the parameters to a DataFrame.\n",
    "\n",
    "        Args:\n",
    "            params (dict or array): The parameters of the cylinder.\n",
    "        Returns:\n",
    "            df (DataFrame): A DataFrame containing the parameters.\n",
    "        \"\"\"\n",
    "        if self.from_fitter:\n",
    "            df = self.rescale_fitparams(params)\n",
    "            \n",
    "        else:\n",
    "            df = pd.DataFrame(params, index=[0])\n",
    "\n",
    "        return self.check_physical_validity(df)\n",
    "    \n",
    "    def check_physical_validity(self, params_df):\n",
    "        \"\"\"Checks if the parameters are physically valid. In this case, the radius and length of the cylinder should be positive.\n",
    "\n",
    "        Args:\n",
    "            params_df (DataFrame): A DataFrame containing the parameters.\n",
    "        Returns:\n",
    "            params_df_c (DataFrame): A DataFrame containing the parameters that are physically valid.\n",
    "        \n",
    "        \"\"\"\n",
    "\n",
    "        \n",
    "        params_df_c = params_df.copy()\n",
    "        keys = params_df_c.columns\n",
    "        \n",
    "        for key in keys:\n",
    "            if params_df[key].values[0] < 0:\n",
    "                params_df_c.loc[params_df_c[key] < 0, key] = np.nan\n",
    "\n",
    "        return params_df_c\n",
    "\n",
    "    def rescale_fitparams(self, params):\n",
    "        \"\"\"Rescales the parameters of the cylinder. Here the multiplier is hardcoded for ease but it should ideally be user input values.\n",
    "\n",
    "        Args:\n",
    "            df (DataFrame): A DataFrame containing the parameters.\n",
    "        Returns:\n",
    "            df (DataFrame): A DataFrame containing the rescaled parameters.\n",
    "        \"\"\"\n",
    "\n",
    "        multiples = np.array([5 , 5, 1])#hardcoded for now but user input values recommended\n",
    "\n",
    "        df = pd.DataFrame(params, columns=self.initial_guess_dataframe.columns)\n",
    "        \n",
    "        df = df * multiples\n",
    "        \n",
    "        df = df + self.initial_guess_dataframe.loc[0]\n",
    "\n",
    "        return df"
   ]
  },
  {
   "cell_type": "markdown",
   "metadata": {},
   "source": [
    "### Separating the diffraction logic from the geometry\n",
    "\n",
    "The following class is to separate the diffraction logic from the geometry. This is useful when you have a complex geometry and you want to separate the geometry from the diffraction logic."
   ]
  },
  {
   "cell_type": "code",
   "execution_count": 10,
   "metadata": {},
   "outputs": [],
   "source": [
    "class CylinderDiffraction():\n",
    "    \"\"\"Class for simulating diffraction from a cylinder.\"\"\"\n",
    "\n",
    "    def __init__(self, CylinderGeometry):\n",
    "        \"\"\"Initialize the CylinderDiffraction object.\n",
    "\n",
    "        Args:\n",
    "            CylinderGeometry: object containing the geometric properties of the cylinder.\n",
    "            xp: module, optional, Module to use for mathematical operations. Default is numpy.\n",
    "        \"\"\"\n",
    "        self.CylinderGeometry = CylinderGeometry\n",
    "\n",
    "    def bessel_j1(self, x):\n",
    "        \"\"\"\n",
    "        Approximate the Bessel function of the first kind J1(x).\n",
    "        The approximation is valid for small to moderately large x.\n",
    "        \"\"\"\n",
    "        # Use a series expansion for small x\n",
    "        result = 0\n",
    "        factorial = 1\n",
    "        x2 = x ** 2\n",
    "        term = x / 2\n",
    "        for n in range(1, 10):  # 10 terms for a decent approximation\n",
    "            factorial *= n\n",
    "            term *= (-1) * x2 / (4 * n * (n + 1))\n",
    "            result += term\n",
    "    \n",
    "        return result\n",
    "\n",
    "    def calculate_intensity(self, qys, qzs, params):\n",
    "        \"\"\"Calculate the diffraction intensity of the cylinder.\n",
    "\n",
    "        Args:\n",
    "            qys, qzs: array-like, The q-values in the y and z directions.\n",
    "            geometry_params: dict, Parameters for the cylinder geometry.\n",
    "\n",
    "        Returns:\n",
    "            intensity: array-like, Simulated diffraction intensity.\n",
    "        \"\"\"\n",
    "        #get the dataframe containing the parameters\n",
    "        params = self.CylinderGeometry.convert_to_dataframe(params)\n",
    "        height = params['height'].values\n",
    "        radius = params['radius'].values\n",
    "        density = params['density'].values\n",
    "\n",
    "        height = height[..., np.newaxis]\n",
    "        radius = radius[..., np.newaxis]\n",
    "        density = density[..., np.newaxis]\n",
    "\n",
    "        # Simplified form factor calculation for a cylinder\n",
    "        form_factor = np.sinc(qzs * height / 2) * self.bessel_j1( qys*radius ) / (qys * radius)\n",
    "        intensity = density * form_factor**2\n",
    "        \n",
    "        return intensity"
   ]
  },
  {
   "cell_type": "markdown",
   "metadata": {},
   "source": [
    "Now let's generate a set of data that we can use to fit the model."
   ]
  },
  {
   "cell_type": "code",
   "execution_count": 11,
   "metadata": {},
   "outputs": [
    {
     "data": {
      "text/plain": [
       "Text(0, 0.5, 'Intensity(A.U.)')"
      ]
     },
     "execution_count": 11,
     "metadata": {},
     "output_type": "execute_result"
    },
    {
     "data": {
      "image/png": "[encoded data removed]",
      "text/plain": [
       "<Figure size 640x480 with 1 Axes>"
      ]
     },
     "metadata": {},
     "output_type": "display_data"
    }
   ],
   "source": [
    "# Example Usage\n",
    "# Define the cylinder dimensions\n",
    "radius = 50.  # in arbitrary units\n",
    "height = 100.  # in arbitrary units\n",
    "density = 10.  # in arbitrary units\n",
    "\n",
    "# Define the q-space grid\n",
    "qys = np.linspace(-0.1, 0.1, 100)  # qy range\n",
    "qzs = np.linspace(-0.1, 0.1, 100)  # qz range\n",
    "\n",
    "# Create a simulation object\n",
    "cylinder_sim = CylinderSimulation(qys=qys, qzs=qzs)\n",
    "\n",
    "# Calculate the intensity\n",
    "intensity = cylinder_sim.simulate_diffraction(params={'radius': radius, 'height': height, 'density': density})\n",
    "\n",
    "# Output the intensity array\n",
    "import matplotlib.pyplot as plt\n",
    "plt.plot(qys, intensity)\n",
    "plt.xlabel('qy')\n",
    "plt.ylabel('Intensity(A.U.)')"
   ]
  },
  {
   "cell_type": "markdown",
   "metadata": {},
   "source": [
    "Now we will use the generated data to simulate the diffraction and we can use the `Fitter` class to fit. We will give a initial guess that is close to the actual values. How close is determined by the domain of search fixed by your `multipliers` in `rescale_fitparams` and value of `sigma` for `cmaes` method. In this case in the condition of choosing your initial guess is that: `sigma * multipliers + initial_guess < real_value < sigma * multipliers - initial_guess`."
   ]
  },
  {
   "cell_type": "code",
   "execution_count": 35,
   "metadata": {},
   "outputs": [
    {
     "name": "stdout",
     "output_type": "stream",
     "text": [
      "Iteration terminated due to ngen criterion after 80 gens\n",
      "      radius  height    density\n",
      "0  50.011961   100.0  10.069623\n"
     ]
    }
   ],
   "source": [
    "from cdsaxs.fitter import Fitter\n",
    "Simulation2 = CylinderSimulation(qys=qys, qzs=qzs, initial_guess={'radius': 51, 'height': 101, 'density': 8})\n",
    "\n",
    "Fitter1 = Fitter(Simulation=Simulation2, exp_data=intensity)\n",
    "\n",
    "best_fit, best_fitness = Fitter1.cmaes(sigma=1, ngen=80, popsize=300, mu=10, n_default=3, restarts=0, tolhistfun=10E-5, ftarget=None, restart_from_best=True, verbose=False)\n",
    "\n",
    "print(best_fit)"
   ]
  }
 ],
 "metadata": {
  "kernelspec": {
   "display_name": "Python 3",
   "language": "python",
   "name": "python3"
  },
  "language_info": {
   "codemirror_mode": {
    "name": "ipython",
    "version": 3
   },
   "file_extension": ".py",
   "mimetype": "text/x-python",
   "name": "python",
   "nbconvert_exporter": "python",
   "pygments_lexer": "ipython3",
   "version": "3.11.8"
  }
 },
 "nbformat": 4,
 "nbformat_minor": 2
}
