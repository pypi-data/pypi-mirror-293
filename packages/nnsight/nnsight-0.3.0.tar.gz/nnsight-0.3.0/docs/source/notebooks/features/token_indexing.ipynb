{
 "cells": [
  {
   "cell_type": "markdown",
   "id": "f3de0333-d172-4fa3-a017-dd314fd596b2",
   "metadata": {},
   "source": [
    "# Multi-Token Indexing"
   ]
  },
  {
   "cell_type": "markdown",
   "id": "0f3baf83-5309-4ff1-ad37-993b9de197ce",
   "metadata": {},
   "source": [
    "When indexing hidden states for specific tokens, use `.token[<idx>]` or `.t[<idx>]`.\n",
    "\n",
    "As a preliminary example, lets just get a hidden state from the model using `.t[<idx>]`."
   ]
  },
  {
   "cell_type": "code",
   "execution_count": 1,
   "id": "0979e019-2a25-410b-9523-880a0995ed33",
   "metadata": {},
   "outputs": [],
   "source": [
    "from nnsight import LanguageModel\n",
    "\n",
    "model = LanguageModel('openai-community/gpt2', device_map='cuda')"
   ]
  },
  {
   "cell_type": "code",
   "execution_count": null,
   "id": "cf159dfc-a024-44f0-baae-a0c0607f96fd",
   "metadata": {},
   "outputs": [],
   "source": [
    "with model.trace('The Eiffel Tower is in the city of') as tracer:\n",
    "\n",
    "    hidden_states = model.transformer.h[-1].output[0].t[0].save()\n",
    "    output = model.output.save()\n",
    "\n",
    "print(hidden_states.shape)\n",
    "print(output.shape)"
   ]
  },
  {
   "cell_type": "markdown",
   "id": "6bbb8591-565c-44b5-aecd-64f22b37c02a",
   "metadata": {},
   "source": [
    "Lets see why token based indexing is necessary.\n",
    "\n",
    "In this example, we call invokes on two inputs of different tokenized length. We **incorrectly** index into the hidden states using normal python indexing."
   ]
  },
  {
   "cell_type": "code",
   "execution_count": 3,
   "id": "d19bf05f-efc1-4a0d-98da-39b2fe4cb969",
   "metadata": {},
   "outputs": [
    {
     "data": {
      "text/html": [
       "<pre style=\"white-space:pre;overflow-x:auto;line-height:normal;font-family:Menlo,'DejaVu Sans Mono',consolas,'Courier New',monospace\">Shorter input: <span style=\"color: #800080; text-decoration-color: #800080; font-weight: bold\">tensor</span><span style=\"font-weight: bold\">([</span><span style=\"color: #008080; text-decoration-color: #008080; font-weight: bold\">50256</span><span style=\"font-weight: bold\">]</span>, <span style=\"color: #808000; text-decoration-color: #808000\">device</span>=<span style=\"color: #008000; text-decoration-color: #008000\">'cuda:0'</span><span style=\"font-weight: bold\">)</span>\n",
       "</pre>\n"
      ],
      "text/plain": [
       "Shorter input: \u001b[1;35mtensor\u001b[0m\u001b[1m(\u001b[0m\u001b[1m[\u001b[0m\u001b[1;36m50256\u001b[0m\u001b[1m]\u001b[0m, \u001b[33mdevice\u001b[0m=\u001b[32m'cuda:0'\u001b[0m\u001b[1m)\u001b[0m\n"
      ]
     },
     "metadata": {},
     "output_type": "display_data"
    },
    {
     "data": {
      "text/html": [
       "<pre style=\"white-space:pre;overflow-x:auto;line-height:normal;font-family:Menlo,'DejaVu Sans Mono',consolas,'Courier New',monospace\">Longer input: <span style=\"color: #800080; text-decoration-color: #800080; font-weight: bold\">tensor</span><span style=\"font-weight: bold\">([</span><span style=\"color: #008080; text-decoration-color: #008080; font-weight: bold\">464</span><span style=\"font-weight: bold\">]</span>, <span style=\"color: #808000; text-decoration-color: #808000\">device</span>=<span style=\"color: #008000; text-decoration-color: #008000\">'cuda:0'</span><span style=\"font-weight: bold\">)</span>\n",
       "</pre>\n"
      ],
      "text/plain": [
       "Longer input: \u001b[1;35mtensor\u001b[0m\u001b[1m(\u001b[0m\u001b[1m[\u001b[0m\u001b[1;36m464\u001b[0m\u001b[1m]\u001b[0m, \u001b[33mdevice\u001b[0m=\u001b[32m'cuda:0'\u001b[0m\u001b[1m)\u001b[0m\n"
      ]
     },
     "metadata": {},
     "output_type": "display_data"
    }
   ],
   "source": [
    "from rich import print\n",
    "\n",
    "with model.trace() as tracer:\n",
    "    with tracer.invoke('The') as invoker:\n",
    "        incorrect_a =  model.transformer.input[0][0][:,0].save()\n",
    "        \n",
    "    with tracer.invoke('The Eiffel Tower is in the city of''The Eiffel Tower is in the city of') as invoker:\n",
    "        incorrect_b = model.transformer.input[0][0][:,0].save()\n",
    "\n",
    "print(f\"Shorter input: {incorrect_a.value}\")\n",
    "print(f\"Longer input: {incorrect_b.value}\")"
   ]
  },
  {
   "cell_type": "markdown",
   "id": "6f4a545f-17eb-4f29-976d-a70f6786c502",
   "metadata": {},
   "source": [
    "Notice how we indexed into the first token for both strings but recieved a different result from each invoke. **This is because if there are multiple invocations, padding is performed on the left side so these helper functions index from the back.**\n",
    "\n",
    "Let's correctly index into the hidden states using token based indexing."
   ]
  },
  {
   "cell_type": "code",
   "execution_count": 4,
   "id": "3698ea5c-05c4-4cd1-b33c-9ec1fec15097",
   "metadata": {},
   "outputs": [
    {
     "data": {
      "text/html": [
       "<pre style=\"white-space:pre;overflow-x:auto;line-height:normal;font-family:Menlo,'DejaVu Sans Mono',consolas,'Courier New',monospace\">Shorter input: <span style=\"color: #800080; text-decoration-color: #800080; font-weight: bold\">tensor</span><span style=\"font-weight: bold\">([</span><span style=\"color: #008080; text-decoration-color: #008080; font-weight: bold\">464</span><span style=\"font-weight: bold\">]</span>, <span style=\"color: #808000; text-decoration-color: #808000\">device</span>=<span style=\"color: #008000; text-decoration-color: #008000\">'cuda:0'</span><span style=\"font-weight: bold\">)</span>\n",
       "</pre>\n"
      ],
      "text/plain": [
       "Shorter input: \u001b[1;35mtensor\u001b[0m\u001b[1m(\u001b[0m\u001b[1m[\u001b[0m\u001b[1;36m464\u001b[0m\u001b[1m]\u001b[0m, \u001b[33mdevice\u001b[0m=\u001b[32m'cuda:0'\u001b[0m\u001b[1m)\u001b[0m\n"
      ]
     },
     "metadata": {},
     "output_type": "display_data"
    },
    {
     "data": {
      "text/html": [
       "<pre style=\"white-space:pre;overflow-x:auto;line-height:normal;font-family:Menlo,'DejaVu Sans Mono',consolas,'Courier New',monospace\">Longer input: <span style=\"color: #800080; text-decoration-color: #800080; font-weight: bold\">tensor</span><span style=\"font-weight: bold\">([</span><span style=\"color: #008080; text-decoration-color: #008080; font-weight: bold\">464</span><span style=\"font-weight: bold\">]</span>, <span style=\"color: #808000; text-decoration-color: #808000\">device</span>=<span style=\"color: #008000; text-decoration-color: #008000\">'cuda:0'</span><span style=\"font-weight: bold\">)</span>\n",
       "</pre>\n"
      ],
      "text/plain": [
       "Longer input: \u001b[1;35mtensor\u001b[0m\u001b[1m(\u001b[0m\u001b[1m[\u001b[0m\u001b[1;36m464\u001b[0m\u001b[1m]\u001b[0m, \u001b[33mdevice\u001b[0m=\u001b[32m'cuda:0'\u001b[0m\u001b[1m)\u001b[0m\n"
      ]
     },
     "metadata": {},
     "output_type": "display_data"
    }
   ],
   "source": [
    "with model.trace() as tracer:\n",
    "    with tracer.invoke('The') as invoker:\n",
    "        correct_a =  model.transformer.input[0][0].t[0].save()\n",
    "        \n",
    "    with tracer.invoke('The Eiffel Tower is in the city of') as invoker:\n",
    "        correct_b = model.transformer.input[0][0].t[0].save()\n",
    "\n",
    "print(f\"Shorter input: {correct_a.value}\")\n",
    "print(f\"Longer input: {correct_b.value}\")"
   ]
  },
  {
   "cell_type": "markdown",
   "id": "d35573c9-fc52-4868-8737-462bd9e10306",
   "metadata": {},
   "source": [
    "Now we have the correct tokens!"
   ]
  }
 ],
 "metadata": {
  "kernelspec": {
   "display_name": "Python 3 (ipykernel)",
   "language": "python",
   "name": "python3"
  },
  "language_info": {
   "codemirror_mode": {
    "name": "ipython",
    "version": 3
   },
   "file_extension": ".py",
   "mimetype": "text/x-python",
   "name": "python",
   "nbconvert_exporter": "python",
   "pygments_lexer": "ipython3",
   "version": "3.8.18"
  }
 },
 "nbformat": 4,
 "nbformat_minor": 5
}
