{
 "cells": [
  {
   "cell_type": "code",
   "execution_count": 1,
   "metadata": {},
   "outputs": [],
   "source": [
    "from pycalrissian.context import CalrissianContext\n",
    "from pycalrissian.job import CalrissianJob\n",
    "from pycalrissian.execution import CalrissianExecution\n",
    "import base64\n",
    "import os\n",
    "import yaml\n",
    "from kubernetes.client.models.v1_job import V1Job"
   ]
  },
  {
   "cell_type": "markdown",
   "metadata": {},
   "source": [
    "Please make sure you save the gitlab username and password in an environment variables as below:\n",
    "\n",
    ">```python\n",
    ">nano ~/.bashrc\n",
    "># in the end of the file please add your environment variables\n",
    ">## gitlab creadentials:\n",
    ">export P_GITLAB_USER='<git userneame>';\n",
    ">export P_GITLAB_PASS='<git access token>';\n",
    "># save the file and then restart your terminal as below:\n",
    ">source ~/.bashrc\n",
    ">```\n",
    "\n",
    "make sure you restart the vscode."
   ]
  },
  {
   "cell_type": "code",
   "execution_count": 2,
   "metadata": {},
   "outputs": [
    {
     "data": {
      "text/plain": [
       "'pmembari'"
      ]
     },
     "execution_count": 2,
     "metadata": {},
     "output_type": "execute_result"
    }
   ],
   "source": [
    "username = os.environ.get(\"P_GITLAB_USER\")\n",
    "password = os.environ.get(\"P_GITLAB_PASS\")\n",
    "username"
   ]
  },
  {
   "cell_type": "code",
   "execution_count": 3,
   "metadata": {},
   "outputs": [],
   "source": [
    "\n",
    "\n",
    "\n",
    "auth = base64.b64encode(f\"{username}:{password}\".encode(\"utf-8\")).decode(\n",
    "    \"utf-8\"\n",
    ")\n",
    "\n",
    "secret_config = {\n",
    "    \"auths\": {\n",
    "        \"registry.gitlab.com\": {\n",
    "            \"auth\": auth\n",
    "        },\n",
    "    }\n",
    "}"
   ]
  },
  {
   "cell_type": "code",
   "execution_count": 4,
   "metadata": {},
   "outputs": [
    {
     "data": {
      "text/plain": [
       "{'auths': {'registry.gitlab.com': {'auth': 'cG1lbWJhcmk6Z2xwYXQtanRaMXZXekpicm5zbnBQd0VGbU4='}}}"
      ]
     },
     "execution_count": 4,
     "metadata": {},
     "output_type": "execute_result"
    }
   ],
   "source": [
    "secret_config"
   ]
  },
  {
   "cell_type": "code",
   "execution_count": 5,
   "metadata": {},
   "outputs": [],
   "source": [
    "namespace_name = \"test\"\n",
    "\n",
    "session = CalrissianContext(\n",
    "            namespace=namespace_name,\n",
    "            storage_class=\"nfs\",\n",
    "            volume_size=\"10G\",\n",
    "            image_pull_secrets=secret_config,\n",
    ")"
   ]
  },
  {
   "cell_type": "code",
   "execution_count": 6,
   "metadata": {},
   "outputs": [
    {
     "name": "stderr",
     "output_type": "stream",
     "text": [
      "\u001b[32m2024-08-26 14:28:49.540\u001b[0m | \u001b[1mINFO    \u001b[0m | \u001b[36mpycalrissian.context\u001b[0m:\u001b[36minitialise\u001b[0m:\u001b[36m90\u001b[0m - \u001b[1mcreate role pod-manager-role\u001b[0m\n"
     ]
    },
    {
     "name": "stderr",
     "output_type": "stream",
     "text": [
      "\u001b[32m2024-08-26 14:28:49.548\u001b[0m | \u001b[1mINFO    \u001b[0m | \u001b[36mpycalrissian.context\u001b[0m:\u001b[36minitialise\u001b[0m:\u001b[36m99\u001b[0m - \u001b[1mcreate role binding for role pod-manager-role\u001b[0m\n",
      "\u001b[32m2024-08-26 14:28:49.553\u001b[0m | \u001b[1mINFO    \u001b[0m | \u001b[36mpycalrissian.context\u001b[0m:\u001b[36minitialise\u001b[0m:\u001b[36m90\u001b[0m - \u001b[1mcreate role log-reader-role\u001b[0m\n",
      "\u001b[32m2024-08-26 14:28:49.560\u001b[0m | \u001b[1mINFO    \u001b[0m | \u001b[36mpycalrissian.context\u001b[0m:\u001b[36minitialise\u001b[0m:\u001b[36m99\u001b[0m - \u001b[1mcreate role binding for role log-reader-role\u001b[0m\n",
      "\u001b[32m2024-08-26 14:28:49.566\u001b[0m | \u001b[1mINFO    \u001b[0m | \u001b[36mpycalrissian.context\u001b[0m:\u001b[36minitialise\u001b[0m:\u001b[36m104\u001b[0m - \u001b[1mcreate persistent volume claim 'calrissian-wdir' of 10G with storage class nfs\u001b[0m\n",
      "\u001b[32m2024-08-26 14:28:54.587\u001b[0m | \u001b[1mINFO    \u001b[0m | \u001b[36mpycalrissian.context\u001b[0m:\u001b[36mcreate_pvc\u001b[0m:\u001b[36m483\u001b[0m - \u001b[1mpvc calrissian-wdir created\u001b[0m\n",
      "\u001b[32m2024-08-26 14:28:54.589\u001b[0m | \u001b[1mINFO    \u001b[0m | \u001b[36mpycalrissian.context\u001b[0m:\u001b[36minitialise\u001b[0m:\u001b[36m118\u001b[0m - \u001b[1mcreate secret container-rg\u001b[0m\n",
      "\u001b[32m2024-08-26 14:28:54.600\u001b[0m | \u001b[1mINFO    \u001b[0m | \u001b[36mpycalrissian.context\u001b[0m:\u001b[36minitialise\u001b[0m:\u001b[36m121\u001b[0m - \u001b[1mpatch service account\u001b[0m\n"
     ]
    }
   ],
   "source": [
    "session.initialise()"
   ]
  },
  {
   "cell_type": "code",
   "execution_count": 7,
   "metadata": {},
   "outputs": [
    {
     "data": {
      "text/plain": [
       "{'input_name': 'Parham'}"
      ]
     },
     "execution_count": 7,
     "metadata": {},
     "output_type": "execute_result"
    }
   ],
   "source": [
    "with open(\"./test.cwl\", \"r\") as stream:\n",
    "    cwl = yaml.safe_load(stream)\n",
    "\n",
    "\n",
    "with open(\"./params.yaml\", \"r\") as file:\n",
    "    params = yaml.safe_load(file)\n",
    "params"
   ]
  },
  {
   "cell_type": "code",
   "execution_count": 8,
   "metadata": {},
   "outputs": [
    {
     "name": "stderr",
     "output_type": "stream",
     "text": [
      "\u001b[32m2024-08-26 14:29:15.624\u001b[0m | \u001b[1mINFO    \u001b[0m | \u001b[36mpycalrissian.job\u001b[0m:\u001b[36m__init__\u001b[0m:\u001b[36m69\u001b[0m - \u001b[1musing default security context {'runAsUser': 0, 'runAsGroup': 0, 'fsGroup': 0}\u001b[0m\n",
      "\u001b[32m2024-08-26 14:29:15.625\u001b[0m | \u001b[1mINFO    \u001b[0m | \u001b[36mpycalrissian.job\u001b[0m:\u001b[36m__init__\u001b[0m:\u001b[36m80\u001b[0m - \u001b[1mjob name: job-1724675355624999-65ea8b46-ed87-4232-a9cf-a4a24be5576d\u001b[0m\n",
      "\u001b[32m2024-08-26 14:29:15.625\u001b[0m | \u001b[1mINFO    \u001b[0m | \u001b[36mpycalrissian.job\u001b[0m:\u001b[36m__init__\u001b[0m:\u001b[36m81\u001b[0m - \u001b[1mcreate CWL config map\u001b[0m\n",
      "\u001b[32m2024-08-26 14:29:20.655\u001b[0m | \u001b[1mINFO    \u001b[0m | \u001b[36mpycalrissian.context\u001b[0m:\u001b[36mcreate_configmap\u001b[0m:\u001b[36m534\u001b[0m - \u001b[1mconfig map cwl-workflow created\u001b[0m\n",
      "\u001b[32m2024-08-26 14:29:20.656\u001b[0m | \u001b[1mINFO    \u001b[0m | \u001b[36mpycalrissian.job\u001b[0m:\u001b[36m__init__\u001b[0m:\u001b[36m83\u001b[0m - \u001b[1mcreate processing parameters config map\u001b[0m\n",
      "\u001b[32m2024-08-26 14:29:25.679\u001b[0m | \u001b[1mINFO    \u001b[0m | \u001b[36mpycalrissian.context\u001b[0m:\u001b[36mcreate_configmap\u001b[0m:\u001b[36m534\u001b[0m - \u001b[1mconfig map params created\u001b[0m\n"
     ]
    }
   ],
   "source": [
    "os.environ[\"CALRISSIAN_IMAGE\"] = \"docker.io/terradue/calrissian:0.12.0\"\n",
    "job = CalrissianJob(\n",
    "    cwl=cwl,\n",
    "    params=params,\n",
    "    runtime_context=session,\n",
    "    cwl_entry_point=\"hello-world\",\n",
    "    max_cores=2,\n",
    "    max_ram=\"4G\",\n",
    "    tool_logs=True,\n",
    ")"
   ]
  },
  {
   "cell_type": "code",
   "execution_count": 9,
   "metadata": {},
   "outputs": [
    {
     "name": "stderr",
     "output_type": "stream",
     "text": [
      "\u001b[32m2024-08-26 14:29:25.687\u001b[0m | \u001b[1mINFO    \u001b[0m | \u001b[36mpycalrissian.job\u001b[0m:\u001b[36m_get_calrissian_container\u001b[0m:\u001b[36m420\u001b[0m - \u001b[1musing Calrissian image: docker.io/terradue/calrissian:0.12.0\u001b[0m\n"
     ]
    },
    {
     "data": {
      "text/plain": [
       "True"
      ]
     },
     "execution_count": 9,
     "metadata": {},
     "output_type": "execute_result"
    }
   ],
   "source": [
    "isinstance(job.to_k8s_job(), V1Job)"
   ]
  },
  {
   "cell_type": "code",
   "execution_count": 10,
   "metadata": {},
   "outputs": [
    {
     "name": "stderr",
     "output_type": "stream",
     "text": [
      "\u001b[32m2024-08-26 14:29:25.700\u001b[0m | \u001b[1mINFO    \u001b[0m | \u001b[36mpycalrissian.job\u001b[0m:\u001b[36m_get_calrissian_container\u001b[0m:\u001b[36m420\u001b[0m - \u001b[1musing Calrissian image: docker.io/terradue/calrissian:0.12.0\u001b[0m\n",
      "\u001b[32m2024-08-26 14:29:25.707\u001b[0m | \u001b[1mINFO    \u001b[0m | \u001b[36mpycalrissian.job\u001b[0m:\u001b[36mto_yaml\u001b[0m:\u001b[36m144\u001b[0m - \u001b[1mjob job-1724675355624999-65ea8b46-ed87-4232-a9cf-a4a24be5576d serialized to job.yml\u001b[0m\n"
     ]
    }
   ],
   "source": [
    "job.to_yaml(\"job.yml\")"
   ]
  },
  {
   "cell_type": "code",
   "execution_count": 11,
   "metadata": {},
   "outputs": [],
   "source": [
    "execution = CalrissianExecution(job=job, runtime_context=session)"
   ]
  },
  {
   "cell_type": "code",
   "execution_count": 12,
   "metadata": {},
   "outputs": [
    {
     "name": "stderr",
     "output_type": "stream",
     "text": [
      "\u001b[32m2024-08-26 14:29:27.558\u001b[0m | \u001b[1mINFO    \u001b[0m | \u001b[36mpycalrissian.execution\u001b[0m:\u001b[36msubmit\u001b[0m:\u001b[36m32\u001b[0m - \u001b[1msubmit job job-1724675355624999-65ea8b46-ed87-4232-a9cf-a4a24be5576d\u001b[0m\n",
      "\u001b[32m2024-08-26 14:29:27.560\u001b[0m | \u001b[1mINFO    \u001b[0m | \u001b[36mpycalrissian.job\u001b[0m:\u001b[36m_get_calrissian_container\u001b[0m:\u001b[36m420\u001b[0m - \u001b[1musing Calrissian image: docker.io/terradue/calrissian:0.12.0\u001b[0m\n",
      "\u001b[32m2024-08-26 14:29:27.574\u001b[0m | \u001b[1mINFO    \u001b[0m | \u001b[36mpycalrissian.execution\u001b[0m:\u001b[36msubmit\u001b[0m:\u001b[36m38\u001b[0m - \u001b[1mjob job-1724675355624999-65ea8b46-ed87-4232-a9cf-a4a24be5576d submitted\u001b[0m\n"
     ]
    }
   ],
   "source": [
    "execution.submit()"
   ]
  },
  {
   "cell_type": "code",
   "execution_count": 19,
   "metadata": {},
   "outputs": [
    {
     "name": "stderr",
     "output_type": "stream",
     "text": [
      "\u001b[32m2024-08-21 17:31:26.539\u001b[0m | \u001b[1mINFO    \u001b[0m | \u001b[36mpycalrissian.execution\u001b[0m:\u001b[36mmonitor\u001b[0m:\u001b[36m210\u001b[0m - \u001b[1mjob job-1724254249216659-0850bafd-be15-4cd7-8f10-f4583075deb6 is active\u001b[0m\n",
      "\u001b[32m2024-08-21 17:31:36.579\u001b[0m | \u001b[1mINFO    \u001b[0m | \u001b[36mpycalrissian.execution\u001b[0m:\u001b[36mmonitor\u001b[0m:\u001b[36m210\u001b[0m - \u001b[1mjob job-1724254249216659-0850bafd-be15-4cd7-8f10-f4583075deb6 is active\u001b[0m\n",
      "\u001b[32m2024-08-21 17:31:46.595\u001b[0m | \u001b[1mINFO    \u001b[0m | \u001b[36mpycalrissian.execution\u001b[0m:\u001b[36mmonitor\u001b[0m:\u001b[36m210\u001b[0m - \u001b[1mjob job-1724254249216659-0850bafd-be15-4cd7-8f10-f4583075deb6 is active\u001b[0m\n",
      "\u001b[32m2024-08-21 17:31:56.610\u001b[0m | \u001b[1mINFO    \u001b[0m | \u001b[36mpycalrissian.execution\u001b[0m:\u001b[36mmonitor\u001b[0m:\u001b[36m210\u001b[0m - \u001b[1mjob job-1724254249216659-0850bafd-be15-4cd7-8f10-f4583075deb6 is active\u001b[0m\n"
     ]
    },
    {
     "ename": "KeyboardInterrupt",
     "evalue": "",
     "output_type": "error",
     "traceback": [
      "\u001b[0;31m---------------------------------------------------------------------------\u001b[0m",
      "\u001b[0;31mKeyboardInterrupt\u001b[0m                         Traceback (most recent call last)",
      "Cell \u001b[0;32mIn[19], line 1\u001b[0m\n\u001b[0;32m----> 1\u001b[0m \u001b[43mexecution\u001b[49m\u001b[38;5;241;43m.\u001b[39;49m\u001b[43mmonitor\u001b[49m\u001b[43m(\u001b[49m\u001b[43minterval\u001b[49m\u001b[38;5;241;43m=\u001b[39;49m\u001b[38;5;241;43m10\u001b[39;49m\u001b[43m)\u001b[49m\n",
      "File \u001b[0;32m~/micromamba/envs/hello_world_pycalrissian/lib/python3.8/site-packages/pycalrissian/execution.py:211\u001b[0m, in \u001b[0;36mCalrissianExecution.monitor\u001b[0;34m(self, interval, grace_period, wall_time)\u001b[0m\n\u001b[1;32m    208\u001b[0m \u001b[38;5;28;01mwhile\u001b[39;00m \u001b[38;5;28mself\u001b[39m\u001b[38;5;241m.\u001b[39mis_active():\n\u001b[1;32m    210\u001b[0m     logger\u001b[38;5;241m.\u001b[39minfo(\u001b[38;5;124mf\u001b[39m\u001b[38;5;124m\"\u001b[39m\u001b[38;5;124mjob \u001b[39m\u001b[38;5;132;01m{\u001b[39;00m\u001b[38;5;28mself\u001b[39m\u001b[38;5;241m.\u001b[39mjob\u001b[38;5;241m.\u001b[39mjob_name\u001b[38;5;132;01m}\u001b[39;00m\u001b[38;5;124m is active\u001b[39m\u001b[38;5;124m\"\u001b[39m)\n\u001b[0;32m--> 211\u001b[0m     \u001b[43mtime\u001b[49m\u001b[38;5;241;43m.\u001b[39;49m\u001b[43msleep\u001b[49m\u001b[43m(\u001b[49m\u001b[43minterval\u001b[49m\u001b[43m)\u001b[49m\n\u001b[1;32m    212\u001b[0m     iterations \u001b[38;5;241m=\u001b[39m iterations \u001b[38;5;241m+\u001b[39m \u001b[38;5;241m1\u001b[39m\n\u001b[1;32m    214\u001b[0m     \u001b[38;5;28;01mif\u001b[39;00m wall_time \u001b[38;5;129;01mis\u001b[39;00m \u001b[38;5;129;01mnot\u001b[39;00m \u001b[38;5;28;01mNone\u001b[39;00m \u001b[38;5;129;01mand\u001b[39;00m iterations \u001b[38;5;241m>\u001b[39m \u001b[38;5;28mint\u001b[39m(wall_time \u001b[38;5;241m/\u001b[39m interval):\n",
      "\u001b[0;31mKeyboardInterrupt\u001b[0m: "
     ]
    }
   ],
   "source": [
    "execution.monitor(interval=10)"
   ]
  },
  {
   "cell_type": "code",
   "execution_count": null,
   "metadata": {},
   "outputs": [],
   "source": [
    "log = execution.get_log()\n",
    "print(log)"
   ]
  }
 ],
 "metadata": {
  "kernelspec": {
   "display_name": "Python 3",
   "language": "python",
   "name": "python3"
  },
  "language_info": {
   "codemirror_mode": {
    "name": "ipython",
    "version": 3
   },
   "file_extension": ".py",
   "mimetype": "text/x-python",
   "name": "python",
   "nbconvert_exporter": "python",
   "pygments_lexer": "ipython3",
   "version": "3.8.19"
  }
 },
 "nbformat": 4,
 "nbformat_minor": 2
}
