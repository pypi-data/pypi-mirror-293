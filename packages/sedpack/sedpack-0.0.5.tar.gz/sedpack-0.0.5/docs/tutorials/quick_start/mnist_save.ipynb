{
 "cells": [
  {
   "cell_type": "markdown",
   "id": "98148dd1-a05f-4b3b-b0ba-cc3cc604aba4",
   "metadata": {},
   "source": [
    "# Create a dataset with MNIST images"
   ]
  },
  {
   "cell_type": "code",
   "execution_count": 1,
   "id": "dc2cb326-381b-4c46-b558-f8034176d5fb",
   "metadata": {},
   "outputs": [],
   "source": [
    "%load_ext autoreload\n",
    "%autoreload 2"
   ]
  },
  {
   "cell_type": "code",
   "execution_count": 33,
   "id": "d1f0ef62-2cdb-4125-b0ca-61e7bbf08f80",
   "metadata": {},
   "outputs": [],
   "source": [
    "from pathlib import Path\n",
    "import random\n",
    "\n",
    "import keras\n",
    "from tqdm import tqdm"
   ]
  },
  {
   "cell_type": "code",
   "execution_count": 5,
   "id": "2e966233-78fc-4ab3-a4e7-dcbb3d542e2a",
   "metadata": {},
   "outputs": [],
   "source": [
    "from sedpack.io import Dataset, Metadata, DatasetStructure, Attribute\n",
    "from sedpack.io.types import SplitT"
   ]
  },
  {
   "cell_type": "markdown",
   "id": "e4580f1f-ef44-41e2-be40-5e651ae16124",
   "metadata": {},
   "source": [
    "## Describe data we are saving"
   ]
  },
  {
   "cell_type": "code",
   "execution_count": 7,
   "id": "9dd8b0b9-bedc-463b-a1f9-915b1e809126",
   "metadata": {},
   "outputs": [],
   "source": [
    "# General info about the dataset\n",
    "metadata = Metadata(\n",
    "    description=\"MNIST dataset in the sedpack format\",\n",
    "    dataset_license=\"\"\"\n",
    "    Yann LeCun and Corinna Cortes hold the copyright of MNIST dataset, which is\n",
    "    a derivative work from original NIST datasets. MNIST dataset is made\n",
    "    available under the terms of the Creative Commons Attribution-Share Alike\n",
    "    3.0 license.\n",
    "    \"\"\",\n",
    "    custom_metadata={\n",
    "        \"list of authors\": [\"Alice\", \"Bob\"],\n",
    "    },\n",
    ")"
   ]
  },
  {
   "cell_type": "code",
   "execution_count": 10,
   "id": "51855dbb-e149-48a0-bf8d-8acbb79cc464",
   "metadata": {},
   "outputs": [],
   "source": [
    "# Types of attributes stored\n",
    "dataset_structure = DatasetStructure(saved_data_description=[\n",
    "    Attribute(\n",
    "        name=\"input\",\n",
    "        shape=(28, 28),\n",
    "        dtype=\"float16\",  # We are going to directly save scaled data\n",
    "    ),\n",
    "    Attribute(\n",
    "        name=\"digit\",\n",
    "        shape=(),\n",
    "        dtype=\"int8\",\n",
    "    ),\n",
    "])"
   ]
  },
  {
   "cell_type": "markdown",
   "id": "c5905e8d-1a15-43fa-a86c-75dac68d6960",
   "metadata": {},
   "source": [
    "## Create a new dataset\n",
    "\n",
    "No need to worry about overwriting an existing dataset.\n",
    "The method `Dataset.create` checks that there is no existing metadata file."
   ]
  },
  {
   "cell_type": "code",
   "execution_count": 29,
   "id": "6daea493-3ab2-4af6-89b9-5bebd41a267c",
   "metadata": {},
   "outputs": [],
   "source": [
    "dataset = Dataset.create(\n",
    "    path=Path.home() / \"Datasets/mnist_dataset\",  # All files are stored here\n",
    "    metadata=metadata,\n",
    "    dataset_structure=dataset_structure,\n",
    ")"
   ]
  },
  {
   "cell_type": "markdown",
   "id": "57b963d1-4e09-43ef-bcad-da0ea864f667",
   "metadata": {},
   "source": [
    "## Get raw data and scale them"
   ]
  },
  {
   "cell_type": "code",
   "execution_count": 22,
   "id": "ab1d5b9a-3ea6-440d-ac34-0c82a3223bc7",
   "metadata": {},
   "outputs": [],
   "source": [
    "(x_train, y_train), (x_test, y_test) = keras.datasets.mnist.load_data()\n",
    "x_train = x_train.astype(\"float32\") / 255\n",
    "x_test = x_test.astype(\"float32\") / 255"
   ]
  },
  {
   "cell_type": "markdown",
   "id": "f697545e-2a45-4db6-b8f0-96a96b7b1cf7",
   "metadata": {},
   "source": [
    "## Convert the holdout split"
   ]
  },
  {
   "cell_type": "code",
   "execution_count": 30,
   "id": "f5629694-7036-4933-896a-ae27d75d0344",
   "metadata": {},
   "outputs": [
    {
     "name": "stderr",
     "output_type": "stream",
     "text": [
      "holdout: 100%|██████████| 10000/10000 [00:03<00:00, 3021.25it/s]\n"
     ]
    }
   ],
   "source": [
    "# DatasetFiller makes sure that all shard files are written properly\n",
    "# when exiting the context.\n",
    "with dataset.filler() as dataset_filler:\n",
    "    # Determine which data are in the holdout (test)\n",
    "    for i in tqdm(range(len(x_test)), desc=\"holdout\"):\n",
    "        dataset_filler.write_example(\n",
    "            values={\n",
    "                \"input\": x_test[i],\n",
    "                \"digit\": y_test[i],\n",
    "            },\n",
    "            split=\"holdout\",\n",
    "        )"
   ]
  },
  {
   "cell_type": "markdown",
   "id": "b9bc29f0-adfe-48ae-a47c-c9b997882e69",
   "metadata": {},
   "source": [
    "## Convert and split training into training and test (validation)\n",
    "\n",
    "The splits are saved and can be easily and deterministically loaded by others."
   ]
  },
  {
   "cell_type": "code",
   "execution_count": 34,
   "id": "6ba9d553-eaa0-4edd-bcd5-4211da02a18e",
   "metadata": {},
   "outputs": [
    {
     "name": "stderr",
     "output_type": "stream",
     "text": [
      "train and val: 100%|██████████| 60000/60000 [00:20<00:00, 2979.46it/s]\n"
     ]
    }
   ],
   "source": [
    "with dataset.filler() as dataset_filler:\n",
    "    # Randomly assign 10% of validation and the rest is training\n",
    "    train_and_val = list(zip(x_train, y_train))\n",
    "    random.shuffle(train_and_val)\n",
    "    for i in tqdm(range(len(train_and_val)), desc=\"train and val\"):\n",
    "        x, y = train_and_val[i]\n",
    "        split: SplitT = \"train\"\n",
    "        if i < len(train_and_val) // 10:\n",
    "            split = \"test\"\n",
    "        dataset_filler.write_example(\n",
    "            values={\n",
    "                \"input\": x,\n",
    "                \"digit\": y\n",
    "            },\n",
    "            split=split,\n",
    "        )"
   ]
  }
 ],
 "metadata": {
  "kernelspec": {
   "display_name": "dslibenv",
   "language": "python",
   "name": "dslibenv"
  },
  "language_info": {
   "codemirror_mode": {
    "name": "ipython",
    "version": 3
   },
   "file_extension": ".py",
   "mimetype": "text/x-python",
   "name": "python",
   "nbconvert_exporter": "python",
   "pygments_lexer": "ipython3",
   "version": "3.11.0rc1"
  }
 },
 "nbformat": 4,
 "nbformat_minor": 5
}
