{
 "cells": [
  {
   "cell_type": "markdown",
   "id": "66a60f63-e19a-421d-80cc-f7174c77116c",
   "metadata": {},
   "source": [
    "# Load a converted MNIST dataset"
   ]
  },
  {
   "cell_type": "code",
   "execution_count": 2,
   "id": "0474eafb-13b9-44e2-918b-8116877591d2",
   "metadata": {},
   "outputs": [],
   "source": [
    "%load_ext autoreload\n",
    "%autoreload 2"
   ]
  },
  {
   "cell_type": "code",
   "execution_count": 13,
   "id": "94a8acdd-9efa-45be-97bb-5b5ccb8d8d0b",
   "metadata": {},
   "outputs": [],
   "source": [
    "from pathlib import Path\n",
    "import random\n",
    "\n",
    "import keras\n",
    "from keras import layers"
   ]
  },
  {
   "cell_type": "code",
   "execution_count": 5,
   "id": "cb3ded99-56dd-4bed-a46e-2f0419b4e1eb",
   "metadata": {},
   "outputs": [],
   "source": [
    "from sedpack.io import Dataset"
   ]
  },
  {
   "cell_type": "markdown",
   "id": "ab4c612e-60c0-4d8d-88b8-b9a5f932baa5",
   "metadata": {},
   "source": [
    "## Load"
   ]
  },
  {
   "cell_type": "code",
   "execution_count": 6,
   "id": "0a88a7d3-514c-45f8-ba64-044133da00d4",
   "metadata": {},
   "outputs": [],
   "source": [
    "dataset = Dataset(Path.home() / \"Datasets/mnist_dataset\")  # Load the dataset"
   ]
  },
  {
   "cell_type": "markdown",
   "id": "0b287484-3057-4b93-99b9-dbb3bed18836",
   "metadata": {},
   "source": [
    "### Custom transformations\n",
    "\n",
    "Indicate what are the inputs and what are the outputs.\n",
    "Convert the label to one-hot encoding."
   ]
  },
  {
   "cell_type": "code",
   "execution_count": 9,
   "id": "23b37e38-5370-4cac-8b3c-61683a7fdf59",
   "metadata": {},
   "outputs": [],
   "source": [
    "def process_record(rec):\n",
    "    output = rec[\"digit\"]\n",
    "    output = keras.layers.CategoryEncoding(\n",
    "        num_tokens=10, output_mode=\"one_hot\")(output)\n",
    "    return rec[\"input\"], output"
   ]
  },
  {
   "cell_type": "markdown",
   "id": "5d595f03-d0d8-4b96-990e-42d5de3ea2f8",
   "metadata": {},
   "source": [
    "## Load training and validation splits"
   ]
  },
  {
   "cell_type": "code",
   "execution_count": 10,
   "id": "5ee6f8d7-41e0-4ae2-b7de-75fd42db8043",
   "metadata": {},
   "outputs": [
    {
     "name": "stderr",
     "output_type": "stream",
     "text": [
      "2024-03-05 16:37:19.829923: I external/local_xla/xla/stream_executor/cuda/cuda_executor.cc:901] successful NUMA node read from SysFS had negative value (-1), but there must be at least one NUMA node, so returning NUMA node zero. See more at https://github.com/torvalds/linux/blob/v6.0/Documentation/ABI/testing/sysfs-bus-pci#L344-L355\n",
      "2024-03-05 16:37:19.835002: I external/local_xla/xla/stream_executor/cuda/cuda_executor.cc:901] successful NUMA node read from SysFS had negative value (-1), but there must be at least one NUMA node, so returning NUMA node zero. See more at https://github.com/torvalds/linux/blob/v6.0/Documentation/ABI/testing/sysfs-bus-pci#L344-L355\n",
      "2024-03-05 16:37:19.835128: I external/local_xla/xla/stream_executor/cuda/cuda_executor.cc:901] successful NUMA node read from SysFS had negative value (-1), but there must be at least one NUMA node, so returning NUMA node zero. See more at https://github.com/torvalds/linux/blob/v6.0/Documentation/ABI/testing/sysfs-bus-pci#L344-L355\n",
      "2024-03-05 16:37:19.837540: I external/local_xla/xla/stream_executor/cuda/cuda_executor.cc:901] successful NUMA node read from SysFS had negative value (-1), but there must be at least one NUMA node, so returning NUMA node zero. See more at https://github.com/torvalds/linux/blob/v6.0/Documentation/ABI/testing/sysfs-bus-pci#L344-L355\n",
      "2024-03-05 16:37:19.837672: I external/local_xla/xla/stream_executor/cuda/cuda_executor.cc:901] successful NUMA node read from SysFS had negative value (-1), but there must be at least one NUMA node, so returning NUMA node zero. See more at https://github.com/torvalds/linux/blob/v6.0/Documentation/ABI/testing/sysfs-bus-pci#L344-L355\n",
      "2024-03-05 16:37:19.837771: I external/local_xla/xla/stream_executor/cuda/cuda_executor.cc:901] successful NUMA node read from SysFS had negative value (-1), but there must be at least one NUMA node, so returning NUMA node zero. See more at https://github.com/torvalds/linux/blob/v6.0/Documentation/ABI/testing/sysfs-bus-pci#L344-L355\n",
      "2024-03-05 16:37:19.888298: I external/local_xla/xla/stream_executor/cuda/cuda_executor.cc:901] successful NUMA node read from SysFS had negative value (-1), but there must be at least one NUMA node, so returning NUMA node zero. See more at https://github.com/torvalds/linux/blob/v6.0/Documentation/ABI/testing/sysfs-bus-pci#L344-L355\n",
      "2024-03-05 16:37:19.888384: I external/local_xla/xla/stream_executor/cuda/cuda_executor.cc:901] successful NUMA node read from SysFS had negative value (-1), but there must be at least one NUMA node, so returning NUMA node zero. See more at https://github.com/torvalds/linux/blob/v6.0/Documentation/ABI/testing/sysfs-bus-pci#L344-L355\n",
      "2024-03-05 16:37:19.888449: I external/local_xla/xla/stream_executor/cuda/cuda_executor.cc:901] successful NUMA node read from SysFS had negative value (-1), but there must be at least one NUMA node, so returning NUMA node zero. See more at https://github.com/torvalds/linux/blob/v6.0/Documentation/ABI/testing/sysfs-bus-pci#L344-L355\n",
      "2024-03-05 16:37:19.888507: I tensorflow/core/common_runtime/gpu/gpu_device.cc:1929] Created device /job:localhost/replica:0/task:0/device:GPU:0 with 922 MB memory:  -> device: 0, name: NVIDIA GeForce RTX 4090, pci bus id: 0000:01:00.0, compute capability: 8.9\n"
     ]
    }
   ],
   "source": [
    "# Load train and validation splits of the dataset\n",
    "batch_size = 128\n",
    "train_data = dataset.as_tfdataset(\n",
    "    \"train\",\n",
    "    batch_size=batch_size,\n",
    "    process_record=process_record,\n",
    ")\n",
    "validation_data = dataset.as_tfdataset(\n",
    "    \"test\",  # validation split\n",
    "    batch_size=batch_size,\n",
    "    process_record=process_record,\n",
    ")"
   ]
  },
  {
   "cell_type": "markdown",
   "id": "03ca7d7e-bd43-44b3-9728-6dbcbc37d8f2",
   "metadata": {},
   "source": [
    "## Train"
   ]
  },
  {
   "cell_type": "markdown",
   "id": "dad4792f-06b7-4b8d-99a9-d8c426a58140",
   "metadata": {},
   "source": [
    "### Get model"
   ]
  },
  {
   "cell_type": "code",
   "execution_count": 14,
   "id": "380fd33d-0640-4a23-ae83-57cb2dc51bb2",
   "metadata": {},
   "outputs": [
    {
     "name": "stdout",
     "output_type": "stream",
     "text": [
      "Model: \"model\"\n",
      "_________________________________________________________________\n",
      " Layer (type)                Output Shape              Param #   \n",
      "=================================================================\n",
      " input (InputLayer)          [(None, 28, 28)]          0         \n",
      "                                                                 \n",
      " reshape (Reshape)           (None, 28, 28, 1)         0         \n",
      "                                                                 \n",
      " conv2d (Conv2D)             (None, 26, 26, 32)        320       \n",
      "                                                                 \n",
      " max_pooling2d (MaxPooling2  (None, 13, 13, 32)        0         \n",
      " D)                                                              \n",
      "                                                                 \n",
      " conv2d_1 (Conv2D)           (None, 11, 11, 64)        18496     \n",
      "                                                                 \n",
      " max_pooling2d_1 (MaxPoolin  (None, 5, 5, 64)          0         \n",
      " g2D)                                                            \n",
      "                                                                 \n",
      " flatten (Flatten)           (None, 1600)              0         \n",
      "                                                                 \n",
      " dropout (Dropout)           (None, 1600)              0         \n",
      "                                                                 \n",
      " digit (Dense)               (None, 10)                16010     \n",
      "                                                                 \n",
      "=================================================================\n",
      "Total params: 34826 (136.04 KB)\n",
      "Trainable params: 34826 (136.04 KB)\n",
      "Non-trainable params: 0 (0.00 Byte)\n",
      "_________________________________________________________________\n"
     ]
    }
   ],
   "source": [
    "input_shape = (28, 28)\n",
    "num_classes = 10\n",
    "\n",
    "input_data = keras.Input(shape=input_shape, name=\"input\")\n",
    "\n",
    "x = input_data\n",
    "x = layers.Reshape((*input_shape, 1))(x)\n",
    "x = layers.Conv2D(32, kernel_size=(3, 3), activation=\"relu\")(x)\n",
    "x = layers.MaxPooling2D(pool_size=(2, 2))(x)\n",
    "x = layers.Conv2D(64, kernel_size=(3, 3), activation=\"relu\")(x)\n",
    "x = layers.MaxPooling2D(pool_size=(2, 2))(x)\n",
    "x = layers.Flatten()(x)\n",
    "x = layers.Dropout(0.5)(x)\n",
    "x = layers.Dense(num_classes, activation=\"softmax\", name=\"digit\")(x)\n",
    "\n",
    "model = keras.Model(inputs=input_data, outputs=x)\n",
    "\n",
    "model.summary()\n",
    "model.compile(loss=\"categorical_crossentropy\",\n",
    "              optimizer=\"adam\",\n",
    "              metrics=[\"accuracy\"])"
   ]
  },
  {
   "cell_type": "markdown",
   "id": "712328dd-2f2d-4c54-9c34-497d33fdb008",
   "metadata": {},
   "source": [
    "### Train the model"
   ]
  },
  {
   "cell_type": "code",
   "execution_count": 16,
   "id": "17f937ed-9b8e-4242-ab2f-220040bc4e4b",
   "metadata": {},
   "outputs": [
    {
     "name": "stdout",
     "output_type": "stream",
     "text": [
      "Epoch 1/10\n"
     ]
    },
    {
     "name": "stderr",
     "output_type": "stream",
     "text": [
      "2024-03-05 16:40:11.451615: I external/local_xla/xla/stream_executor/cuda/cuda_dnn.cc:454] Loaded cuDNN version 8906\n",
      "2024-03-05 16:40:11.905654: I external/local_xla/xla/service/service.cc:168] XLA service 0x7f3eed172320 initialized for platform CUDA (this does not guarantee that XLA will be used). Devices:\n",
      "2024-03-05 16:40:11.905672: I external/local_xla/xla/service/service.cc:176]   StreamExecutor device (0): NVIDIA GeForce RTX 4090, Compute Capability 8.9\n",
      "2024-03-05 16:40:11.910693: I tensorflow/compiler/mlir/tensorflow/utils/dump_mlir_util.cc:269] disabling MLIR crash reproducer, set env var `MLIR_CRASH_REPRODUCER_DIRECTORY` to enable.\n",
      "WARNING: All log messages before absl::InitializeLog() is called are written to STDERR\n",
      "I0000 00:00:1709656811.961349  681081 device_compiler.h:186] Compiled cluster using XLA!  This line is logged at most once for the lifetime of the process.\n"
     ]
    },
    {
     "name": "stdout",
     "output_type": "stream",
     "text": [
      "100/100 [==============================] - 2s 5ms/step - loss: 0.9058 - accuracy: 0.7254 - val_loss: 0.2447 - val_accuracy: 0.9344\n",
      "Epoch 2/10\n",
      "100/100 [==============================] - 0s 2ms/step - loss: 0.2583 - accuracy: 0.9230 - val_loss: 0.1246 - val_accuracy: 0.9664\n",
      "Epoch 3/10\n",
      "100/100 [==============================] - 0s 2ms/step - loss: 0.1709 - accuracy: 0.9466 - val_loss: 0.1044 - val_accuracy: 0.9695\n",
      "Epoch 4/10\n",
      "100/100 [==============================] - 0s 2ms/step - loss: 0.1539 - accuracy: 0.9500 - val_loss: 0.0914 - val_accuracy: 0.9680\n",
      "Epoch 5/10\n",
      "100/100 [==============================] - 0s 2ms/step - loss: 0.1203 - accuracy: 0.9634 - val_loss: 0.0721 - val_accuracy: 0.9758\n",
      "Epoch 6/10\n",
      "100/100 [==============================] - 0s 2ms/step - loss: 0.1187 - accuracy: 0.9620 - val_loss: 0.0661 - val_accuracy: 0.9820\n",
      "Epoch 7/10\n",
      "100/100 [==============================] - 0s 2ms/step - loss: 0.1047 - accuracy: 0.9670 - val_loss: 0.0570 - val_accuracy: 0.9820\n",
      "Epoch 8/10\n",
      "100/100 [==============================] - 0s 2ms/step - loss: 0.0993 - accuracy: 0.9702 - val_loss: 0.0477 - val_accuracy: 0.9891\n",
      "Epoch 9/10\n",
      "100/100 [==============================] - 0s 2ms/step - loss: 0.0961 - accuracy: 0.9695 - val_loss: 0.0529 - val_accuracy: 0.9844\n",
      "Epoch 10/10\n",
      "100/100 [==============================] - 0s 2ms/step - loss: 0.0855 - accuracy: 0.9722 - val_loss: 0.0474 - val_accuracy: 0.9828\n",
      "Test loss: 0.0512973926961422\n",
      "Test accuracy: 98.36%\n"
     ]
    },
    {
     "name": "stderr",
     "output_type": "stream",
     "text": [
      "2024-03-05 16:40:14.588169: I tensorflow/core/framework/local_rendezvous.cc:421] Local rendezvous recv item cancelled. Key hash: 11696572845710480607\n",
      "2024-03-05 16:40:14.588182: I tensorflow/core/framework/local_rendezvous.cc:421] Local rendezvous recv item cancelled. Key hash: 18106730496546039685\n",
      "2024-03-05 16:40:14.588188: I tensorflow/core/framework/local_rendezvous.cc:421] Local rendezvous recv item cancelled. Key hash: 8288636617555051526\n"
     ]
    }
   ],
   "source": [
    "steps_per_epoch = 100\n",
    "epochs = 10\n",
    "_ = model.fit(\n",
    "    train_data,\n",
    "    steps_per_epoch=steps_per_epoch,\n",
    "    epochs=epochs,\n",
    "    validation_data=validation_data,\n",
    "    validation_steps=steps_per_epoch // 10,\n",
    ")\n",
    "\n",
    "# Evaluate the model on hodlout.\n",
    "holdout_data = dataset.as_tfdataset(\n",
    "    \"holdout\",\n",
    "    batch_size=batch_size,\n",
    "    process_record=process_record,\n",
    "    repeat=False,  # Single iteration over the dataset.\n",
    ")\n",
    "score = model.evaluate(\n",
    "    holdout_data,\n",
    "    verbose=0,\n",
    ")\n",
    "print(f\"Test loss: {score[0]}\")\n",
    "print(f\"Test accuracy: {100 * score[1]:.2f}%\")"
   ]
  }
 ],
 "metadata": {
  "kernelspec": {
   "display_name": "dslibenv",
   "language": "python",
   "name": "dslibenv"
  },
  "language_info": {
   "codemirror_mode": {
    "name": "ipython",
    "version": 3
   },
   "file_extension": ".py",
   "mimetype": "text/x-python",
   "name": "python",
   "nbconvert_exporter": "python",
   "pygments_lexer": "ipython3",
   "version": "3.11.0rc1"
  }
 },
 "nbformat": 4,
 "nbformat_minor": 5
}
