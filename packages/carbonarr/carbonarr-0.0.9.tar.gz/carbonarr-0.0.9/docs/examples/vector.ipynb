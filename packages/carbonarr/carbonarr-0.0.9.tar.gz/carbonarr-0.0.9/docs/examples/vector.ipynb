{
 "cells": [
  {
   "cell_type": "code",
   "execution_count": 1,
   "metadata": {},
   "outputs": [
    {
     "data": {
      "application/vnd.jupyter.widget-view+json": {
       "model_id": "73102b14b2c2469da8def505d1a04770",
       "version_major": 2,
       "version_minor": 0
      },
      "text/plain": [
       "Map(center=[27.48, 77.3], controls=(ZoomControl(options=['position', 'zoom_in_text', 'zoom_in_title', 'zoom_ou…"
      ]
     },
     "execution_count": 1,
     "metadata": {},
     "output_type": "execute_result"
    }
   ],
   "source": [
    "import carbonarr\n",
    "m = carbonarr.Map()\n",
    "m.add_basemap('OpenTopoMap')\n",
    "m.add_layers_control()\n",
    "m.add_geojson_layer(filepath='europe_110.geo.json',name='parcels')\n",
    "m.scroll_wheel_zoom = True\n",
    "# m.add_geojson_layer('europe_110.geo.json','europe')\n",
    "style = {\n",
    "    'opacity':0.8,'dashArray':'1','fillOpacity':0.1,'weight':1\n",
    "}\n",
    "hover_style = {\n",
    "    'color':'white','dashArray':'9','fillOpacity':1\n",
    "    \n",
    "}\n",
    "import random\n",
    "def random_color(feature):\n",
    "    return {\n",
    "        'color': 'black',\n",
    "        'fillColor': random.choice(['red', 'yellow', 'green', 'orange']),\n",
    "    }\n",
    "m.add_shapefile_layer('10 Parcels/Parcels.shp',name = 'shapefile',style = style, hover_style = hover_style,\n",
    "    style_callback=random_color)\n",
    "m"
   ]
  }
 ],
 "metadata": {
  "kernelspec": {
   "display_name": "geo",
   "language": "python",
   "name": "python3"
  },
  "language_info": {
   "codemirror_mode": {
    "name": "ipython",
    "version": 3
   },
   "file_extension": ".py",
   "mimetype": "text/x-python",
   "name": "python",
   "nbconvert_exporter": "python",
   "pygments_lexer": "ipython3",
   "version": "3.11.8"
  }
 },
 "nbformat": 4,
 "nbformat_minor": 2
}
