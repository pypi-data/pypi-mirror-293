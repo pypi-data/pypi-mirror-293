{
 "cells": [
  {
   "cell_type": "markdown",
   "id": "d06c29a5-bb7e-49da-9b5a-9042f766ae03",
   "metadata": {},
   "source": [
    "# PyRegBL - Getting Started"
   ]
  },
  {
   "cell_type": "code",
   "execution_count": 1,
   "id": "75a6066b-ebc5-42a7-b913-5358a2b902c5",
   "metadata": {},
   "outputs": [],
   "source": [
    "# Import to be able to import python package from src\n",
    "import sys\n",
    "sys.path.insert(0, '../')"
   ]
  },
  {
   "cell_type": "markdown",
   "id": "f8cba146-14d0-45d2-988c-aacafebdb1fa",
   "metadata": {},
   "source": [
    "## Install the package"
   ]
  },
  {
   "cell_type": "code",
   "execution_count": 2,
   "id": "d895e578-2af8-407f-9510-d9a0c12bda34",
   "metadata": {},
   "outputs": [
    {
     "name": "stdout",
     "output_type": "stream",
     "text": [
      "Requirement already satisfied: pyregbl in /Users/fred.montet/.pyenv/versions/3.10.13/lib/python3.10/site-packages (0.1.0)\n",
      "Requirement already satisfied: requests>=2.32.3 in /Users/fred.montet/.pyenv/versions/3.10.13/lib/python3.10/site-packages (from pyregbl) (2.32.3)\n",
      "Requirement already satisfied: jupyterlab>=4.2.2 in /Users/fred.montet/.pyenv/versions/3.10.13/lib/python3.10/site-packages (from pyregbl) (4.2.5)\n",
      "Requirement already satisfied: slumber>=0.7.1 in /Users/fred.montet/.pyenv/versions/3.10.13/lib/python3.10/site-packages (from pyregbl) (0.7.1)\n",
      "Requirement already satisfied: packaging in /Users/fred.montet/.pyenv/versions/3.10.13/lib/python3.10/site-packages (from jupyterlab>=4.2.2->pyregbl) (24.1)\n",
      "Requirement already satisfied: traitlets in /Users/fred.montet/.pyenv/versions/3.10.13/lib/python3.10/site-packages (from jupyterlab>=4.2.2->pyregbl) (5.14.3)\n",
      "Requirement already satisfied: tornado>=6.2.0 in /Users/fred.montet/.pyenv/versions/3.10.13/lib/python3.10/site-packages (from jupyterlab>=4.2.2->pyregbl) (6.4.1)\n",
      "Requirement already satisfied: httpx>=0.25.0 in /Users/fred.montet/.pyenv/versions/3.10.13/lib/python3.10/site-packages (from jupyterlab>=4.2.2->pyregbl) (0.27.2)\n",
      "Requirement already satisfied: jupyter-lsp>=2.0.0 in /Users/fred.montet/.pyenv/versions/3.10.13/lib/python3.10/site-packages (from jupyterlab>=4.2.2->pyregbl) (2.2.5)\n",
      "Requirement already satisfied: jupyter-server<3,>=2.4.0 in /Users/fred.montet/.pyenv/versions/3.10.13/lib/python3.10/site-packages (from jupyterlab>=4.2.2->pyregbl) (2.14.2)\n",
      "Requirement already satisfied: jupyterlab-server<3,>=2.27.1 in /Users/fred.montet/.pyenv/versions/3.10.13/lib/python3.10/site-packages (from jupyterlab>=4.2.2->pyregbl) (2.27.3)\n",
      "Requirement already satisfied: jinja2>=3.0.3 in /Users/fred.montet/.pyenv/versions/3.10.13/lib/python3.10/site-packages (from jupyterlab>=4.2.2->pyregbl) (3.1.4)\n",
      "Requirement already satisfied: notebook-shim>=0.2 in /Users/fred.montet/.pyenv/versions/3.10.13/lib/python3.10/site-packages (from jupyterlab>=4.2.2->pyregbl) (0.2.4)\n",
      "Requirement already satisfied: async-lru>=1.0.0 in /Users/fred.montet/.pyenv/versions/3.10.13/lib/python3.10/site-packages (from jupyterlab>=4.2.2->pyregbl) (2.0.4)\n",
      "Requirement already satisfied: tomli>=1.2.2 in /Users/fred.montet/.pyenv/versions/3.10.13/lib/python3.10/site-packages (from jupyterlab>=4.2.2->pyregbl) (2.0.1)\n",
      "Requirement already satisfied: ipykernel>=6.5.0 in /Users/fred.montet/.pyenv/versions/3.10.13/lib/python3.10/site-packages (from jupyterlab>=4.2.2->pyregbl) (6.29.5)\n",
      "Requirement already satisfied: setuptools>=40.1.0 in /Users/fred.montet/.pyenv/versions/3.10.13/lib/python3.10/site-packages (from jupyterlab>=4.2.2->pyregbl) (65.5.0)\n",
      "Requirement already satisfied: jupyter-core in /Users/fred.montet/.pyenv/versions/3.10.13/lib/python3.10/site-packages (from jupyterlab>=4.2.2->pyregbl) (5.7.2)\n",
      "Requirement already satisfied: charset-normalizer<4,>=2 in /Users/fred.montet/.pyenv/versions/3.10.13/lib/python3.10/site-packages (from requests>=2.32.3->pyregbl) (3.3.2)\n",
      "Requirement already satisfied: idna<4,>=2.5 in /Users/fred.montet/.pyenv/versions/3.10.13/lib/python3.10/site-packages (from requests>=2.32.3->pyregbl) (3.8)\n",
      "Requirement already satisfied: urllib3<3,>=1.21.1 in /Users/fred.montet/.pyenv/versions/3.10.13/lib/python3.10/site-packages (from requests>=2.32.3->pyregbl) (2.2.2)\n",
      "Requirement already satisfied: certifi>=2017.4.17 in /Users/fred.montet/.pyenv/versions/3.10.13/lib/python3.10/site-packages (from requests>=2.32.3->pyregbl) (2024.7.4)\n",
      "Requirement already satisfied: typing-extensions>=4.0.0 in /Users/fred.montet/.pyenv/versions/3.10.13/lib/python3.10/site-packages (from async-lru>=1.0.0->jupyterlab>=4.2.2->pyregbl) (4.12.2)\n",
      "Requirement already satisfied: httpcore==1.* in /Users/fred.montet/.pyenv/versions/3.10.13/lib/python3.10/site-packages (from httpx>=0.25.0->jupyterlab>=4.2.2->pyregbl) (1.0.5)\n",
      "Requirement already satisfied: anyio in /Users/fred.montet/.pyenv/versions/3.10.13/lib/python3.10/site-packages (from httpx>=0.25.0->jupyterlab>=4.2.2->pyregbl) (4.4.0)\n",
      "Requirement already satisfied: sniffio in /Users/fred.montet/.pyenv/versions/3.10.13/lib/python3.10/site-packages (from httpx>=0.25.0->jupyterlab>=4.2.2->pyregbl) (1.3.1)\n",
      "Requirement already satisfied: h11<0.15,>=0.13 in /Users/fred.montet/.pyenv/versions/3.10.13/lib/python3.10/site-packages (from httpcore==1.*->httpx>=0.25.0->jupyterlab>=4.2.2->pyregbl) (0.14.0)\n",
      "Requirement already satisfied: appnope in /Users/fred.montet/.pyenv/versions/3.10.13/lib/python3.10/site-packages (from ipykernel>=6.5.0->jupyterlab>=4.2.2->pyregbl) (0.1.4)\n",
      "Requirement already satisfied: nest-asyncio in /Users/fred.montet/.pyenv/versions/3.10.13/lib/python3.10/site-packages (from ipykernel>=6.5.0->jupyterlab>=4.2.2->pyregbl) (1.6.0)\n",
      "Requirement already satisfied: jupyter-client>=6.1.12 in /Users/fred.montet/.pyenv/versions/3.10.13/lib/python3.10/site-packages (from ipykernel>=6.5.0->jupyterlab>=4.2.2->pyregbl) (8.6.2)\n",
      "Requirement already satisfied: pyzmq>=24 in /Users/fred.montet/.pyenv/versions/3.10.13/lib/python3.10/site-packages (from ipykernel>=6.5.0->jupyterlab>=4.2.2->pyregbl) (26.2.0)\n",
      "Requirement already satisfied: debugpy>=1.6.5 in /Users/fred.montet/.pyenv/versions/3.10.13/lib/python3.10/site-packages (from ipykernel>=6.5.0->jupyterlab>=4.2.2->pyregbl) (1.8.5)\n",
      "Requirement already satisfied: psutil in /Users/fred.montet/.pyenv/versions/3.10.13/lib/python3.10/site-packages (from ipykernel>=6.5.0->jupyterlab>=4.2.2->pyregbl) (6.0.0)\n",
      "Requirement already satisfied: ipython>=7.23.1 in /Users/fred.montet/.pyenv/versions/3.10.13/lib/python3.10/site-packages (from ipykernel>=6.5.0->jupyterlab>=4.2.2->pyregbl) (8.26.0)\n",
      "Requirement already satisfied: comm>=0.1.1 in /Users/fred.montet/.pyenv/versions/3.10.13/lib/python3.10/site-packages (from ipykernel>=6.5.0->jupyterlab>=4.2.2->pyregbl) (0.2.2)\n",
      "Requirement already satisfied: matplotlib-inline>=0.1 in /Users/fred.montet/.pyenv/versions/3.10.13/lib/python3.10/site-packages (from ipykernel>=6.5.0->jupyterlab>=4.2.2->pyregbl) (0.1.7)\n",
      "Requirement already satisfied: MarkupSafe>=2.0 in /Users/fred.montet/.pyenv/versions/3.10.13/lib/python3.10/site-packages (from jinja2>=3.0.3->jupyterlab>=4.2.2->pyregbl) (2.1.5)\n",
      "Requirement already satisfied: platformdirs>=2.5 in /Users/fred.montet/.pyenv/versions/3.10.13/lib/python3.10/site-packages (from jupyter-core->jupyterlab>=4.2.2->pyregbl) (4.2.2)\n",
      "Requirement already satisfied: send2trash>=1.8.2 in /Users/fred.montet/.pyenv/versions/3.10.13/lib/python3.10/site-packages (from jupyter-server<3,>=2.4.0->jupyterlab>=4.2.2->pyregbl) (1.8.3)\n",
      "Requirement already satisfied: websocket-client>=1.7 in /Users/fred.montet/.pyenv/versions/3.10.13/lib/python3.10/site-packages (from jupyter-server<3,>=2.4.0->jupyterlab>=4.2.2->pyregbl) (1.8.0)\n",
      "Requirement already satisfied: overrides>=5.0 in /Users/fred.montet/.pyenv/versions/3.10.13/lib/python3.10/site-packages (from jupyter-server<3,>=2.4.0->jupyterlab>=4.2.2->pyregbl) (7.7.0)\n",
      "Requirement already satisfied: jupyter-events>=0.9.0 in /Users/fred.montet/.pyenv/versions/3.10.13/lib/python3.10/site-packages (from jupyter-server<3,>=2.4.0->jupyterlab>=4.2.2->pyregbl) (0.10.0)\n",
      "Requirement already satisfied: prometheus-client>=0.9 in /Users/fred.montet/.pyenv/versions/3.10.13/lib/python3.10/site-packages (from jupyter-server<3,>=2.4.0->jupyterlab>=4.2.2->pyregbl) (0.20.0)\n",
      "Requirement already satisfied: terminado>=0.8.3 in /Users/fred.montet/.pyenv/versions/3.10.13/lib/python3.10/site-packages (from jupyter-server<3,>=2.4.0->jupyterlab>=4.2.2->pyregbl) (0.18.1)\n",
      "Requirement already satisfied: nbformat>=5.3.0 in /Users/fred.montet/.pyenv/versions/3.10.13/lib/python3.10/site-packages (from jupyter-server<3,>=2.4.0->jupyterlab>=4.2.2->pyregbl) (5.10.4)\n",
      "Requirement already satisfied: jupyter-server-terminals>=0.4.4 in /Users/fred.montet/.pyenv/versions/3.10.13/lib/python3.10/site-packages (from jupyter-server<3,>=2.4.0->jupyterlab>=4.2.2->pyregbl) (0.5.3)\n",
      "Requirement already satisfied: nbconvert>=6.4.4 in /Users/fred.montet/.pyenv/versions/3.10.13/lib/python3.10/site-packages (from jupyter-server<3,>=2.4.0->jupyterlab>=4.2.2->pyregbl) (7.16.4)\n",
      "Requirement already satisfied: argon2-cffi>=21.1 in /Users/fred.montet/.pyenv/versions/3.10.13/lib/python3.10/site-packages (from jupyter-server<3,>=2.4.0->jupyterlab>=4.2.2->pyregbl) (23.1.0)\n",
      "Requirement already satisfied: babel>=2.10 in /Users/fred.montet/.pyenv/versions/3.10.13/lib/python3.10/site-packages (from jupyterlab-server<3,>=2.27.1->jupyterlab>=4.2.2->pyregbl) (2.16.0)\n",
      "Requirement already satisfied: json5>=0.9.0 in /Users/fred.montet/.pyenv/versions/3.10.13/lib/python3.10/site-packages (from jupyterlab-server<3,>=2.27.1->jupyterlab>=4.2.2->pyregbl) (0.9.25)\n",
      "Requirement already satisfied: jsonschema>=4.18.0 in /Users/fred.montet/.pyenv/versions/3.10.13/lib/python3.10/site-packages (from jupyterlab-server<3,>=2.27.1->jupyterlab>=4.2.2->pyregbl) (4.23.0)\n",
      "Requirement already satisfied: exceptiongroup>=1.0.2 in /Users/fred.montet/.pyenv/versions/3.10.13/lib/python3.10/site-packages (from anyio->httpx>=0.25.0->jupyterlab>=4.2.2->pyregbl) (1.2.2)\n",
      "Requirement already satisfied: argon2-cffi-bindings in /Users/fred.montet/.pyenv/versions/3.10.13/lib/python3.10/site-packages (from argon2-cffi>=21.1->jupyter-server<3,>=2.4.0->jupyterlab>=4.2.2->pyregbl) (21.2.0)\n",
      "Requirement already satisfied: stack-data in /Users/fred.montet/.pyenv/versions/3.10.13/lib/python3.10/site-packages (from ipython>=7.23.1->ipykernel>=6.5.0->jupyterlab>=4.2.2->pyregbl) (0.6.3)\n",
      "Requirement already satisfied: decorator in /Users/fred.montet/.pyenv/versions/3.10.13/lib/python3.10/site-packages (from ipython>=7.23.1->ipykernel>=6.5.0->jupyterlab>=4.2.2->pyregbl) (5.1.1)\n",
      "Requirement already satisfied: jedi>=0.16 in /Users/fred.montet/.pyenv/versions/3.10.13/lib/python3.10/site-packages (from ipython>=7.23.1->ipykernel>=6.5.0->jupyterlab>=4.2.2->pyregbl) (0.19.1)\n",
      "Requirement already satisfied: pygments>=2.4.0 in /Users/fred.montet/.pyenv/versions/3.10.13/lib/python3.10/site-packages (from ipython>=7.23.1->ipykernel>=6.5.0->jupyterlab>=4.2.2->pyregbl) (2.18.0)\n",
      "Requirement already satisfied: pexpect>4.3 in /Users/fred.montet/.pyenv/versions/3.10.13/lib/python3.10/site-packages (from ipython>=7.23.1->ipykernel>=6.5.0->jupyterlab>=4.2.2->pyregbl) (4.9.0)\n",
      "Requirement already satisfied: prompt-toolkit<3.1.0,>=3.0.41 in /Users/fred.montet/.pyenv/versions/3.10.13/lib/python3.10/site-packages (from ipython>=7.23.1->ipykernel>=6.5.0->jupyterlab>=4.2.2->pyregbl) (3.0.47)\n",
      "Requirement already satisfied: attrs>=22.2.0 in /Users/fred.montet/.pyenv/versions/3.10.13/lib/python3.10/site-packages (from jsonschema>=4.18.0->jupyterlab-server<3,>=2.27.1->jupyterlab>=4.2.2->pyregbl) (24.2.0)\n",
      "Requirement already satisfied: jsonschema-specifications>=2023.03.6 in /Users/fred.montet/.pyenv/versions/3.10.13/lib/python3.10/site-packages (from jsonschema>=4.18.0->jupyterlab-server<3,>=2.27.1->jupyterlab>=4.2.2->pyregbl) (2023.12.1)\n",
      "Requirement already satisfied: rpds-py>=0.7.1 in /Users/fred.montet/.pyenv/versions/3.10.13/lib/python3.10/site-packages (from jsonschema>=4.18.0->jupyterlab-server<3,>=2.27.1->jupyterlab>=4.2.2->pyregbl) (0.20.0)\n",
      "Requirement already satisfied: referencing>=0.28.4 in /Users/fred.montet/.pyenv/versions/3.10.13/lib/python3.10/site-packages (from jsonschema>=4.18.0->jupyterlab-server<3,>=2.27.1->jupyterlab>=4.2.2->pyregbl) (0.35.1)\n",
      "Requirement already satisfied: python-dateutil>=2.8.2 in /Users/fred.montet/.pyenv/versions/3.10.13/lib/python3.10/site-packages (from jupyter-client>=6.1.12->ipykernel>=6.5.0->jupyterlab>=4.2.2->pyregbl) (2.9.0.post0)\n",
      "Requirement already satisfied: python-json-logger>=2.0.4 in /Users/fred.montet/.pyenv/versions/3.10.13/lib/python3.10/site-packages (from jupyter-events>=0.9.0->jupyter-server<3,>=2.4.0->jupyterlab>=4.2.2->pyregbl) (2.0.7)\n",
      "Requirement already satisfied: rfc3339-validator in /Users/fred.montet/.pyenv/versions/3.10.13/lib/python3.10/site-packages (from jupyter-events>=0.9.0->jupyter-server<3,>=2.4.0->jupyterlab>=4.2.2->pyregbl) (0.1.4)\n",
      "Requirement already satisfied: rfc3986-validator>=0.1.1 in /Users/fred.montet/.pyenv/versions/3.10.13/lib/python3.10/site-packages (from jupyter-events>=0.9.0->jupyter-server<3,>=2.4.0->jupyterlab>=4.2.2->pyregbl) (0.1.1)\n",
      "Requirement already satisfied: pyyaml>=5.3 in /Users/fred.montet/.pyenv/versions/3.10.13/lib/python3.10/site-packages (from jupyter-events>=0.9.0->jupyter-server<3,>=2.4.0->jupyterlab>=4.2.2->pyregbl) (6.0.2)\n",
      "Requirement already satisfied: tinycss2 in /Users/fred.montet/.pyenv/versions/3.10.13/lib/python3.10/site-packages (from nbconvert>=6.4.4->jupyter-server<3,>=2.4.0->jupyterlab>=4.2.2->pyregbl) (1.3.0)\n",
      "Requirement already satisfied: beautifulsoup4 in /Users/fred.montet/.pyenv/versions/3.10.13/lib/python3.10/site-packages (from nbconvert>=6.4.4->jupyter-server<3,>=2.4.0->jupyterlab>=4.2.2->pyregbl) (4.12.3)\n",
      "Requirement already satisfied: pandocfilters>=1.4.1 in /Users/fred.montet/.pyenv/versions/3.10.13/lib/python3.10/site-packages (from nbconvert>=6.4.4->jupyter-server<3,>=2.4.0->jupyterlab>=4.2.2->pyregbl) (1.5.1)\n",
      "Requirement already satisfied: jupyterlab-pygments in /Users/fred.montet/.pyenv/versions/3.10.13/lib/python3.10/site-packages (from nbconvert>=6.4.4->jupyter-server<3,>=2.4.0->jupyterlab>=4.2.2->pyregbl) (0.3.0)\n",
      "Requirement already satisfied: bleach!=5.0.0 in /Users/fred.montet/.pyenv/versions/3.10.13/lib/python3.10/site-packages (from nbconvert>=6.4.4->jupyter-server<3,>=2.4.0->jupyterlab>=4.2.2->pyregbl) (6.1.0)\n",
      "Requirement already satisfied: defusedxml in /Users/fred.montet/.pyenv/versions/3.10.13/lib/python3.10/site-packages (from nbconvert>=6.4.4->jupyter-server<3,>=2.4.0->jupyterlab>=4.2.2->pyregbl) (0.7.1)\n",
      "Requirement already satisfied: nbclient>=0.5.0 in /Users/fred.montet/.pyenv/versions/3.10.13/lib/python3.10/site-packages (from nbconvert>=6.4.4->jupyter-server<3,>=2.4.0->jupyterlab>=4.2.2->pyregbl) (0.10.0)\n",
      "Requirement already satisfied: mistune<4,>=2.0.3 in /Users/fred.montet/.pyenv/versions/3.10.13/lib/python3.10/site-packages (from nbconvert>=6.4.4->jupyter-server<3,>=2.4.0->jupyterlab>=4.2.2->pyregbl) (3.0.2)\n",
      "Requirement already satisfied: fastjsonschema>=2.15 in /Users/fred.montet/.pyenv/versions/3.10.13/lib/python3.10/site-packages (from nbformat>=5.3.0->jupyter-server<3,>=2.4.0->jupyterlab>=4.2.2->pyregbl) (2.20.0)\n",
      "Requirement already satisfied: ptyprocess in /Users/fred.montet/.pyenv/versions/3.10.13/lib/python3.10/site-packages (from terminado>=0.8.3->jupyter-server<3,>=2.4.0->jupyterlab>=4.2.2->pyregbl) (0.7.0)\n",
      "Requirement already satisfied: six>=1.9.0 in /Users/fred.montet/.pyenv/versions/3.10.13/lib/python3.10/site-packages (from bleach!=5.0.0->nbconvert>=6.4.4->jupyter-server<3,>=2.4.0->jupyterlab>=4.2.2->pyregbl) (1.16.0)\n",
      "Requirement already satisfied: webencodings in /Users/fred.montet/.pyenv/versions/3.10.13/lib/python3.10/site-packages (from bleach!=5.0.0->nbconvert>=6.4.4->jupyter-server<3,>=2.4.0->jupyterlab>=4.2.2->pyregbl) (0.5.1)\n",
      "Requirement already satisfied: parso<0.9.0,>=0.8.3 in /Users/fred.montet/.pyenv/versions/3.10.13/lib/python3.10/site-packages (from jedi>=0.16->ipython>=7.23.1->ipykernel>=6.5.0->jupyterlab>=4.2.2->pyregbl) (0.8.4)\n",
      "Requirement already satisfied: uri-template in /Users/fred.montet/.pyenv/versions/3.10.13/lib/python3.10/site-packages (from jsonschema>=4.18.0->jupyterlab-server<3,>=2.27.1->jupyterlab>=4.2.2->pyregbl) (1.3.0)\n",
      "Requirement already satisfied: webcolors>=24.6.0 in /Users/fred.montet/.pyenv/versions/3.10.13/lib/python3.10/site-packages (from jsonschema>=4.18.0->jupyterlab-server<3,>=2.27.1->jupyterlab>=4.2.2->pyregbl) (24.8.0)\n",
      "Requirement already satisfied: isoduration in /Users/fred.montet/.pyenv/versions/3.10.13/lib/python3.10/site-packages (from jsonschema>=4.18.0->jupyterlab-server<3,>=2.27.1->jupyterlab>=4.2.2->pyregbl) (20.11.0)\n",
      "Requirement already satisfied: fqdn in /Users/fred.montet/.pyenv/versions/3.10.13/lib/python3.10/site-packages (from jsonschema>=4.18.0->jupyterlab-server<3,>=2.27.1->jupyterlab>=4.2.2->pyregbl) (1.5.1)\n",
      "Requirement already satisfied: jsonpointer>1.13 in /Users/fred.montet/.pyenv/versions/3.10.13/lib/python3.10/site-packages (from jsonschema>=4.18.0->jupyterlab-server<3,>=2.27.1->jupyterlab>=4.2.2->pyregbl) (3.0.0)\n",
      "Requirement already satisfied: wcwidth in /Users/fred.montet/.pyenv/versions/3.10.13/lib/python3.10/site-packages (from prompt-toolkit<3.1.0,>=3.0.41->ipython>=7.23.1->ipykernel>=6.5.0->jupyterlab>=4.2.2->pyregbl) (0.2.13)\n",
      "Requirement already satisfied: cffi>=1.0.1 in /Users/fred.montet/.pyenv/versions/3.10.13/lib/python3.10/site-packages (from argon2-cffi-bindings->argon2-cffi>=21.1->jupyter-server<3,>=2.4.0->jupyterlab>=4.2.2->pyregbl) (1.17.0)\n",
      "Requirement already satisfied: soupsieve>1.2 in /Users/fred.montet/.pyenv/versions/3.10.13/lib/python3.10/site-packages (from beautifulsoup4->nbconvert>=6.4.4->jupyter-server<3,>=2.4.0->jupyterlab>=4.2.2->pyregbl) (2.6)\n",
      "Requirement already satisfied: pure-eval in /Users/fred.montet/.pyenv/versions/3.10.13/lib/python3.10/site-packages (from stack-data->ipython>=7.23.1->ipykernel>=6.5.0->jupyterlab>=4.2.2->pyregbl) (0.2.3)\n",
      "Requirement already satisfied: executing>=1.2.0 in /Users/fred.montet/.pyenv/versions/3.10.13/lib/python3.10/site-packages (from stack-data->ipython>=7.23.1->ipykernel>=6.5.0->jupyterlab>=4.2.2->pyregbl) (2.0.1)\n",
      "Requirement already satisfied: asttokens>=2.1.0 in /Users/fred.montet/.pyenv/versions/3.10.13/lib/python3.10/site-packages (from stack-data->ipython>=7.23.1->ipykernel>=6.5.0->jupyterlab>=4.2.2->pyregbl) (2.4.1)\n",
      "Requirement already satisfied: pycparser in /Users/fred.montet/.pyenv/versions/3.10.13/lib/python3.10/site-packages (from cffi>=1.0.1->argon2-cffi-bindings->argon2-cffi>=21.1->jupyter-server<3,>=2.4.0->jupyterlab>=4.2.2->pyregbl) (2.22)\n",
      "Requirement already satisfied: arrow>=0.15.0 in /Users/fred.montet/.pyenv/versions/3.10.13/lib/python3.10/site-packages (from isoduration->jsonschema>=4.18.0->jupyterlab-server<3,>=2.27.1->jupyterlab>=4.2.2->pyregbl) (1.3.0)\n",
      "Requirement already satisfied: types-python-dateutil>=2.8.10 in /Users/fred.montet/.pyenv/versions/3.10.13/lib/python3.10/site-packages (from arrow>=0.15.0->isoduration->jsonschema>=4.18.0->jupyterlab-server<3,>=2.27.1->jupyterlab>=4.2.2->pyregbl) (2.9.0.20240821)\n",
      "\n",
      "\u001b[1m[\u001b[0m\u001b[34;49mnotice\u001b[0m\u001b[1;39;49m]\u001b[0m\u001b[39;49m A new release of pip is available: \u001b[0m\u001b[31;49m23.0.1\u001b[0m\u001b[39;49m -> \u001b[0m\u001b[32;49m24.2\u001b[0m\n",
      "\u001b[1m[\u001b[0m\u001b[34;49mnotice\u001b[0m\u001b[1;39;49m]\u001b[0m\u001b[39;49m To update, run: \u001b[0m\u001b[32;49mpip install --upgrade pip\u001b[0m\n"
     ]
    }
   ],
   "source": [
    "!pip install pyregbl"
   ]
  },
  {
   "cell_type": "markdown",
   "id": "e234184f-0529-4e08-84e2-15c108bd6989",
   "metadata": {},
   "source": [
    "## Import the package"
   ]
  },
  {
   "cell_type": "code",
   "execution_count": 4,
   "id": "c4ad236c-506a-425f-970c-cd626ce1d39c",
   "metadata": {},
   "outputs": [],
   "source": [
    "import pyregbl\n",
    "#from src import pyregbl"
   ]
  },
  {
   "cell_type": "markdown",
   "id": "6198dd23-629a-43ed-a1cc-d75fbd9ac23c",
   "metadata": {},
   "source": [
    "## Get a RegBL entry\n",
    "\n",
    "This gets you building information with an EGID"
   ]
  },
  {
   "cell_type": "code",
   "execution_count": 6,
   "id": "5bcfd9b0-751a-45fd-a76c-6551f7649e85",
   "metadata": {},
   "outputs": [
    {
     "data": {
      "text/plain": [
       "{'egid': '9032962',\n",
       " 'strname_deinr': 'Boulevard de Pérolles 80',\n",
       " 'plz_plz6': '1700/170000',\n",
       " 'ggdename': 'Fribourg',\n",
       " 'ggdenr': 2196,\n",
       " 'gexpdat': '26.08.2024',\n",
       " 'gdekt': 'FR',\n",
       " 'egrid': 'CH859610869472',\n",
       " 'lgbkr': 0,\n",
       " 'lparz': '7606',\n",
       " 'lparzsx': None,\n",
       " 'ltyp': None,\n",
       " 'gebnr': '',\n",
       " 'gbez': '',\n",
       " 'gkode': 2578664.062,\n",
       " 'gkodn': 1182506.445,\n",
       " 'gksce': 'Mensuration officielle, MD.01',\n",
       " 'gstat': 'Existant',\n",
       " 'gkat': \"Bâtiment sans usage d'habitation\",\n",
       " 'gklas': None,\n",
       " 'gbauj': None,\n",
       " 'gbaum': None,\n",
       " 'gbaup': None,\n",
       " 'gabbj': None,\n",
       " 'garea': 1752,\n",
       " 'gvol': None,\n",
       " 'gvolnorm': None,\n",
       " 'gvolsce': None,\n",
       " 'gastw': None,\n",
       " 'ganzwhg': None,\n",
       " 'gazzi': None,\n",
       " 'gschutzr': None,\n",
       " 'gebf': None,\n",
       " 'gwaerzh1': 'Chaudière (générique) pour un seul bâtiment',\n",
       " 'genh1': 'Gaz',\n",
       " 'gwaersceh1': 'Selon permis de construire',\n",
       " 'gwaerdath1': '29.11.2001',\n",
       " 'gwaerzh2': None,\n",
       " 'genh2': None,\n",
       " 'gwaersceh2': None,\n",
       " 'gwaerdath2': '-',\n",
       " 'gwaerzw1': 'Chaudière (générique)',\n",
       " 'genw1': 'Gaz',\n",
       " 'gwaerscew1': 'Selon permis de construire',\n",
       " 'gwaerdatw1': '29.11.2001',\n",
       " 'gwaerzw2': None,\n",
       " 'genw2': None,\n",
       " 'gwaerscew2': None,\n",
       " 'gwaerdatw2': '-',\n",
       " 'edid': '0',\n",
       " 'egaid': 101204031,\n",
       " 'deinr': '80',\n",
       " 'esid': 10087136,\n",
       " 'strname': ['Boulevard de Pérolles'],\n",
       " 'strnamk': ['Bd de Pérolles'],\n",
       " 'strindx': ['Pér'],\n",
       " 'strsp': ['FR'],\n",
       " 'stroffiziel': '1',\n",
       " 'dplz4': 1700,\n",
       " 'dplzz': 0,\n",
       " 'dplzname': 'Fribourg',\n",
       " 'dkode': 2578659.929,\n",
       " 'dkodn': 1182516.691,\n",
       " 'doffadr': 1,\n",
       " 'dexpdat': '26.08.2024',\n",
       " 'ewid': None,\n",
       " 'whgnr': None,\n",
       " 'wstwk': None,\n",
       " 'wmehrg': None,\n",
       " 'weinr': None,\n",
       " 'wbez': None,\n",
       " 'wstat': None,\n",
       " 'wexpdat': None,\n",
       " 'wbauj': None,\n",
       " 'wabbj': None,\n",
       " 'warea': None,\n",
       " 'wazim': None,\n",
       " 'wkche': None,\n",
       " 'label': 'Boulevard de Pérolles 80'}"
      ]
     },
     "execution_count": 6,
     "metadata": {},
     "output_type": "execute_result"
    }
   ],
   "source": [
    "pyregbl.get('9032962', raw=False)"
   ]
  },
  {
   "cell_type": "markdown",
   "id": "2354564f-eac7-4a4d-9bf3-084f0e4ad6dc",
   "metadata": {},
   "source": [
    "## Get attributes of a RegBL entry with their descriptions "
   ]
  },
  {
   "cell_type": "code",
   "execution_count": 12,
   "id": "4556fa96-f4d9-47b6-b8a5-c161a8c96660",
   "metadata": {},
   "outputs": [
    {
     "data": {
      "text/plain": [
       "{'fr': 'Identificateur fédéral de bâtiment'}"
      ]
     },
     "execution_count": 12,
     "metadata": {},
     "output_type": "execute_result"
    }
   ],
   "source": [
    "pyregbl.get_attributes()['egid']"
   ]
  },
  {
   "cell_type": "markdown",
   "id": "f06794bb-bd0c-4666-a183-e2cbc479565d",
   "metadata": {},
   "source": [
    "## Get the mapping table \n",
    "\n",
    "This table allows to convert RegBL attributes values to their descriptions"
   ]
  },
  {
   "cell_type": "code",
   "execution_count": 10,
   "id": "01cf4a5a-9a05-47fa-91e6-190946fe58c6",
   "metadata": {},
   "outputs": [
    {
     "data": {
      "text/plain": [
       "{8011: 'Période avant 1919',\n",
       " 8012: 'Période de 1919 de 1945',\n",
       " 8013: 'Période de 1946 de 1960',\n",
       " 8014: 'Période de 1961 de 1970',\n",
       " 8015: 'Période de 1971 de 1980',\n",
       " 8016: 'Période de 1981 de 1985',\n",
       " 8017: 'Période de 1986 de 1990',\n",
       " 8018: 'Période de 1991 de 1995',\n",
       " 8019: 'Période de 1996 de 2000',\n",
       " 8020: 'Période de 2001 de 2005',\n",
       " 8021: 'Période de 2006 de 2010',\n",
       " 8022: 'Période de 2011 de 2015',\n",
       " 8023: 'Période à partir de 2016'}"
      ]
     },
     "execution_count": 10,
     "metadata": {},
     "output_type": "execute_result"
    }
   ],
   "source": [
    "pyregbl.get_mapping_table()['gbaup']"
   ]
  },
  {
   "cell_type": "markdown",
   "id": "82ce916b-6756-40b9-8ed9-91ab8da9a4a1",
   "metadata": {},
   "source": [
    "## Map a raw RegBL entry to a human-readable one (with descriptions)"
   ]
  },
  {
   "cell_type": "code",
   "execution_count": 17,
   "id": "53cff9a4-9499-44b0-9b50-5c518c265fb2",
   "metadata": {},
   "outputs": [
    {
     "data": {
      "text/plain": [
       "{'egid': '9032962',\n",
       " 'strname_deinr': 'Boulevard de Pérolles 80',\n",
       " 'plz_plz6': '1700/170000',\n",
       " 'ggdename': 'Fribourg',\n",
       " 'ggdenr': 2196,\n",
       " 'gexpdat': '26.08.2024',\n",
       " 'gdekt': 'FR',\n",
       " 'egrid': 'CH859610869472',\n",
       " 'lgbkr': 0,\n",
       " 'lparz': '7606',\n",
       " 'lparzsx': None,\n",
       " 'ltyp': None,\n",
       " 'gebnr': '',\n",
       " 'gbez': '',\n",
       " 'gkode': 2578664.062,\n",
       " 'gkodn': 1182506.445,\n",
       " 'gksce': 'Mensuration officielle, MD.01',\n",
       " 'gstat': 'Existant',\n",
       " 'gkat': \"Bâtiment sans usage d'habitation\",\n",
       " 'gklas': None,\n",
       " 'gbauj': None,\n",
       " 'gbaum': None,\n",
       " 'gbaup': None,\n",
       " 'gabbj': None,\n",
       " 'garea': 1752,\n",
       " 'gvol': None,\n",
       " 'gvolnorm': None,\n",
       " 'gvolsce': None,\n",
       " 'gastw': None,\n",
       " 'ganzwhg': None,\n",
       " 'gazzi': None,\n",
       " 'gschutzr': None,\n",
       " 'gebf': None,\n",
       " 'gwaerzh1': 'Chaudière (générique) pour un seul bâtiment',\n",
       " 'genh1': 'Gaz',\n",
       " 'gwaersceh1': 'Selon permis de construire',\n",
       " 'gwaerdath1': '29.11.2001',\n",
       " 'gwaerzh2': None,\n",
       " 'genh2': None,\n",
       " 'gwaersceh2': None,\n",
       " 'gwaerdath2': '-',\n",
       " 'gwaerzw1': 'Chaudière (générique)',\n",
       " 'genw1': 'Gaz',\n",
       " 'gwaerscew1': 'Selon permis de construire',\n",
       " 'gwaerdatw1': '29.11.2001',\n",
       " 'gwaerzw2': None,\n",
       " 'genw2': None,\n",
       " 'gwaerscew2': None,\n",
       " 'gwaerdatw2': '-',\n",
       " 'edid': '0',\n",
       " 'egaid': 101204031,\n",
       " 'deinr': '80',\n",
       " 'esid': 10087136,\n",
       " 'strname': ['Boulevard de Pérolles'],\n",
       " 'strnamk': ['Bd de Pérolles'],\n",
       " 'strindx': ['Pér'],\n",
       " 'strsp': ['FR'],\n",
       " 'stroffiziel': '1',\n",
       " 'dplz4': 1700,\n",
       " 'dplzz': 0,\n",
       " 'dplzname': 'Fribourg',\n",
       " 'dkode': 2578659.929,\n",
       " 'dkodn': 1182516.691,\n",
       " 'doffadr': 1,\n",
       " 'dexpdat': '26.08.2024',\n",
       " 'ewid': None,\n",
       " 'whgnr': None,\n",
       " 'wstwk': None,\n",
       " 'wmehrg': None,\n",
       " 'weinr': None,\n",
       " 'wbez': None,\n",
       " 'wstat': None,\n",
       " 'wexpdat': None,\n",
       " 'wbauj': None,\n",
       " 'wabbj': None,\n",
       " 'warea': None,\n",
       " 'wazim': None,\n",
       " 'wkche': None,\n",
       " 'label': 'Boulevard de Pérolles 80'}"
      ]
     },
     "execution_count": 17,
     "metadata": {},
     "output_type": "execute_result"
    }
   ],
   "source": [
    "raw = pyregbl.get('9032962', raw=True)\n",
    "pyregbl.map(raw['feature']['attributes'])"
   ]
  },
  {
   "cell_type": "code",
   "execution_count": 16,
   "id": "12dc31d3-eb7b-4a96-8cd5-a4577622b953",
   "metadata": {},
   "outputs": [
    {
     "data": {
      "text/plain": [
       "{'egid': '9032962',\n",
       " 'strname_deinr': 'Boulevard de Pérolles 80',\n",
       " 'plz_plz6': '1700/170000',\n",
       " 'ggdename': 'Fribourg',\n",
       " 'ggdenr': 2196,\n",
       " 'gexpdat': '26.08.2024',\n",
       " 'gdekt': 'FR',\n",
       " 'egrid': 'CH859610869472',\n",
       " 'lgbkr': 0,\n",
       " 'lparz': '7606',\n",
       " 'lparzsx': None,\n",
       " 'ltyp': None,\n",
       " 'gebnr': '',\n",
       " 'gbez': '',\n",
       " 'gkode': 2578664.062,\n",
       " 'gkodn': 1182506.445,\n",
       " 'gksce': 'Mensuration officielle, MD.01',\n",
       " 'gstat': 'Existant',\n",
       " 'gkat': \"Bâtiment sans usage d'habitation\",\n",
       " 'gklas': None,\n",
       " 'gbauj': None,\n",
       " 'gbaum': None,\n",
       " 'gbaup': None,\n",
       " 'gabbj': None,\n",
       " 'garea': 1752,\n",
       " 'gvol': None,\n",
       " 'gvolnorm': None,\n",
       " 'gvolsce': None,\n",
       " 'gastw': None,\n",
       " 'ganzwhg': None,\n",
       " 'gazzi': None,\n",
       " 'gschutzr': None,\n",
       " 'gebf': None,\n",
       " 'gwaerzh1': 'Chaudière (générique) pour un seul bâtiment',\n",
       " 'genh1': 'Gaz',\n",
       " 'gwaersceh1': 'Selon permis de construire',\n",
       " 'gwaerdath1': '29.11.2001',\n",
       " 'gwaerzh2': None,\n",
       " 'genh2': None,\n",
       " 'gwaersceh2': None,\n",
       " 'gwaerdath2': '-',\n",
       " 'gwaerzw1': 'Chaudière (générique)',\n",
       " 'genw1': 'Gaz',\n",
       " 'gwaerscew1': 'Selon permis de construire',\n",
       " 'gwaerdatw1': '29.11.2001',\n",
       " 'gwaerzw2': None,\n",
       " 'genw2': None,\n",
       " 'gwaerscew2': None,\n",
       " 'gwaerdatw2': '-',\n",
       " 'edid': '0',\n",
       " 'egaid': 101204031,\n",
       " 'deinr': '80',\n",
       " 'esid': 10087136,\n",
       " 'strname': ['Boulevard de Pérolles'],\n",
       " 'strnamk': ['Bd de Pérolles'],\n",
       " 'strindx': ['Pér'],\n",
       " 'strsp': ['FR'],\n",
       " 'stroffiziel': '1',\n",
       " 'dplz4': 1700,\n",
       " 'dplzz': 0,\n",
       " 'dplzname': 'Fribourg',\n",
       " 'dkode': 2578659.929,\n",
       " 'dkodn': 1182516.691,\n",
       " 'doffadr': 1,\n",
       " 'dexpdat': '26.08.2024',\n",
       " 'ewid': None,\n",
       " 'whgnr': None,\n",
       " 'wstwk': None,\n",
       " 'wmehrg': None,\n",
       " 'weinr': None,\n",
       " 'wbez': None,\n",
       " 'wstat': None,\n",
       " 'wexpdat': None,\n",
       " 'wbauj': None,\n",
       " 'wabbj': None,\n",
       " 'warea': None,\n",
       " 'wazim': None,\n",
       " 'wkche': None,\n",
       " 'label': 'Boulevard de Pérolles 80'}"
      ]
     },
     "execution_count": 16,
     "metadata": {},
     "output_type": "execute_result"
    }
   ],
   "source": []
  },
  {
   "cell_type": "markdown",
   "id": "232c2ebd-e5fc-4ebd-aa0a-c56e51a2f964",
   "metadata": {},
   "source": [
    "---"
   ]
  },
  {
   "cell_type": "code",
   "execution_count": null,
   "id": "269d58b3-4e2b-487e-82df-8b6aae217302",
   "metadata": {},
   "outputs": [],
   "source": []
  }
 ],
 "metadata": {
  "kernelspec": {
   "display_name": "Python 3 (ipykernel)",
   "language": "python",
   "name": "python3"
  },
  "language_info": {
   "codemirror_mode": {
    "name": "ipython",
    "version": 3
   },
   "file_extension": ".py",
   "mimetype": "text/x-python",
   "name": "python",
   "nbconvert_exporter": "python",
   "pygments_lexer": "ipython3",
   "version": "3.10.13"
  }
 },
 "nbformat": 4,
 "nbformat_minor": 5
}
