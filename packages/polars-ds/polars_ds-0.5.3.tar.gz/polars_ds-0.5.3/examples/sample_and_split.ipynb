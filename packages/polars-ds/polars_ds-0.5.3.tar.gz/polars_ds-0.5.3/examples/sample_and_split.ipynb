{
 "cells": [
  {
   "cell_type": "markdown",
   "metadata": {},
   "source": [
    "# Sampling and Splitting"
   ]
  },
  {
   "cell_type": "markdown",
   "metadata": {},
   "source": [
    "## Sampling\n",
    "\n",
    "Sampling for basic tabular datasets. (Not designed for time series as of now.)"
   ]
  },
  {
   "cell_type": "code",
   "execution_count": 1,
   "metadata": {},
   "outputs": [],
   "source": [
    "import polars as pl\n",
    "import polars_ds as pds\n",
    "import polars_ds.sample as sa"
   ]
  },
  {
   "cell_type": "code",
   "execution_count": 2,
   "metadata": {},
   "outputs": [
    {
     "data": {
      "text/html": [
       "<div><style>\n",
       ".dataframe > thead > tr,\n",
       ".dataframe > tbody > tr {\n",
       "  text-align: right;\n",
       "  white-space: pre-wrap;\n",
       "}\n",
       "</style>\n",
       "<small>shape: (5, 8)</small><table border=\"1\" class=\"dataframe\"><thead><tr><th>row_num</th><th>uniform_1</th><th>uniform_2</th><th>exp</th><th>normal</th><th>fat_normal</th><th>flags</th><th>category</th></tr><tr><td>i64</td><td>f64</td><td>f64</td><td>f64</td><td>f64</td><td>f64</td><td>i32</td><td>str</td></tr></thead><tbody><tr><td>0</td><td>2.050596</td><td>0.54114</td><td>0.137196</td><td>0.709152</td><td>164.865927</td><td>2</td><td>&quot;A&quot;</td></tr><tr><td>1</td><td>0.858691</td><td>0.228404</td><td>0.81963</td><td>-0.021791</td><td>-856.746017</td><td>0</td><td>&quot;A&quot;</td></tr><tr><td>2</td><td>6.792286</td><td>0.203664</td><td>0.70993</td><td>-0.397194</td><td>-1689.208398</td><td>2</td><td>&quot;A&quot;</td></tr><tr><td>3</td><td>8.145338</td><td>0.551938</td><td>5.37932</td><td>-0.948532</td><td>1485.885944</td><td>0</td><td>&quot;A&quot;</td></tr><tr><td>4</td><td>7.182131</td><td>0.763336</td><td>0.318751</td><td>0.206719</td><td>-463.325706</td><td>1</td><td>&quot;A&quot;</td></tr></tbody></table></div>"
      ],
      "text/plain": [
       "shape: (5, 8)\n",
       "┌─────────┬───────────┬───────────┬──────────┬───────────┬──────────────┬───────┬──────────┐\n",
       "│ row_num ┆ uniform_1 ┆ uniform_2 ┆ exp      ┆ normal    ┆ fat_normal   ┆ flags ┆ category │\n",
       "│ ---     ┆ ---       ┆ ---       ┆ ---      ┆ ---       ┆ ---          ┆ ---   ┆ ---      │\n",
       "│ i64     ┆ f64       ┆ f64       ┆ f64      ┆ f64       ┆ f64          ┆ i32   ┆ str      │\n",
       "╞═════════╪═══════════╪═══════════╪══════════╪═══════════╪══════════════╪═══════╪══════════╡\n",
       "│ 0       ┆ 2.050596  ┆ 0.54114   ┆ 0.137196 ┆ 0.709152  ┆ 164.865927   ┆ 2     ┆ A        │\n",
       "│ 1       ┆ 0.858691  ┆ 0.228404  ┆ 0.81963  ┆ -0.021791 ┆ -856.746017  ┆ 0     ┆ A        │\n",
       "│ 2       ┆ 6.792286  ┆ 0.203664  ┆ 0.70993  ┆ -0.397194 ┆ -1689.208398 ┆ 2     ┆ A        │\n",
       "│ 3       ┆ 8.145338  ┆ 0.551938  ┆ 5.37932  ┆ -0.948532 ┆ 1485.885944  ┆ 0     ┆ A        │\n",
       "│ 4       ┆ 7.182131  ┆ 0.763336  ┆ 0.318751 ┆ 0.206719  ┆ -463.325706  ┆ 1     ┆ A        │\n",
       "└─────────┴───────────┴───────────┴──────────┴───────────┴──────────────┴───────┴──────────┘"
      ]
     },
     "execution_count": 2,
     "metadata": {},
     "output_type": "execute_result"
    }
   ],
   "source": [
    "df = pds.frame(size=100_000).with_columns(\n",
    "    pds.random(0.0, 12.0).alias(\"uniform_1\"),\n",
    "    pds.random(0.0, 1.0).alias(\"uniform_2\"),\n",
    "    pds.random_exp(0.5).alias(\"exp\"),\n",
    "    pds.random_normal(0.0, 1.0).alias(\"normal\"),\n",
    "    pds.random_normal(0.0, 1000.0).alias(\"fat_normal\"),\n",
    "    (pds.random_int(0, 3)).alias(\"flags\"),\n",
    "    pl.Series([\"A\"] * 30_000 + [\"B\"] * 30_000 + [\"C\"] * 40_000).alias(\"category\"),\n",
    ")\n",
    "df.head()"
   ]
  },
  {
   "cell_type": "code",
   "execution_count": 3,
   "metadata": {},
   "outputs": [
    {
     "data": {
      "text/plain": [
       "['row_num', 'uniform_2', 'fat_normal']"
      ]
     },
     "execution_count": 3,
     "metadata": {},
     "output_type": "execute_result"
    }
   ],
   "source": [
    "sa.random_cols(df, 2, keep = [\"row_num\"])"
   ]
  },
  {
   "cell_type": "code",
   "execution_count": 4,
   "metadata": {},
   "outputs": [
    {
     "data": {
      "text/html": [
       "<div><style>\n",
       ".dataframe > thead > tr,\n",
       ".dataframe > tbody > tr {\n",
       "  text-align: right;\n",
       "  white-space: pre-wrap;\n",
       "}\n",
       "</style>\n",
       "<small>shape: (60_000, 8)</small><table border=\"1\" class=\"dataframe\"><thead><tr><th>row_num</th><th>uniform_1</th><th>uniform_2</th><th>exp</th><th>normal</th><th>fat_normal</th><th>flags</th><th>category</th></tr><tr><td>i64</td><td>f64</td><td>f64</td><td>f64</td><td>f64</td><td>f64</td><td>i32</td><td>str</td></tr></thead><tbody><tr><td>0</td><td>2.050596</td><td>0.54114</td><td>0.137196</td><td>0.709152</td><td>164.865927</td><td>2</td><td>&quot;A&quot;</td></tr><tr><td>1</td><td>0.858691</td><td>0.228404</td><td>0.81963</td><td>-0.021791</td><td>-856.746017</td><td>0</td><td>&quot;A&quot;</td></tr><tr><td>2</td><td>6.792286</td><td>0.203664</td><td>0.70993</td><td>-0.397194</td><td>-1689.208398</td><td>2</td><td>&quot;A&quot;</td></tr><tr><td>3</td><td>8.145338</td><td>0.551938</td><td>5.37932</td><td>-0.948532</td><td>1485.885944</td><td>0</td><td>&quot;A&quot;</td></tr><tr><td>4</td><td>7.182131</td><td>0.763336</td><td>0.318751</td><td>0.206719</td><td>-463.325706</td><td>1</td><td>&quot;A&quot;</td></tr><tr><td>&hellip;</td><td>&hellip;</td><td>&hellip;</td><td>&hellip;</td><td>&hellip;</td><td>&hellip;</td><td>&hellip;</td><td>&hellip;</td></tr><tr><td>99991</td><td>6.317155</td><td>0.195067</td><td>0.483955</td><td>2.445583</td><td>-1035.578604</td><td>1</td><td>&quot;C&quot;</td></tr><tr><td>99993</td><td>2.902461</td><td>0.991713</td><td>0.04115</td><td>-0.360496</td><td>-487.118421</td><td>0</td><td>&quot;C&quot;</td></tr><tr><td>99994</td><td>4.297485</td><td>0.437202</td><td>3.617975</td><td>-0.461013</td><td>-1290.06655</td><td>1</td><td>&quot;C&quot;</td></tr><tr><td>99995</td><td>1.016358</td><td>0.761678</td><td>1.434325</td><td>2.122562</td><td>1788.577641</td><td>0</td><td>&quot;C&quot;</td></tr><tr><td>99997</td><td>5.724506</td><td>0.439313</td><td>2.32493</td><td>-0.704899</td><td>102.913619</td><td>0</td><td>&quot;C&quot;</td></tr></tbody></table></div>"
      ],
      "text/plain": [
       "shape: (60_000, 8)\n",
       "┌─────────┬───────────┬───────────┬──────────┬───────────┬──────────────┬───────┬──────────┐\n",
       "│ row_num ┆ uniform_1 ┆ uniform_2 ┆ exp      ┆ normal    ┆ fat_normal   ┆ flags ┆ category │\n",
       "│ ---     ┆ ---       ┆ ---       ┆ ---      ┆ ---       ┆ ---          ┆ ---   ┆ ---      │\n",
       "│ i64     ┆ f64       ┆ f64       ┆ f64      ┆ f64       ┆ f64          ┆ i32   ┆ str      │\n",
       "╞═════════╪═══════════╪═══════════╪══════════╪═══════════╪══════════════╪═══════╪══════════╡\n",
       "│ 0       ┆ 2.050596  ┆ 0.54114   ┆ 0.137196 ┆ 0.709152  ┆ 164.865927   ┆ 2     ┆ A        │\n",
       "│ 1       ┆ 0.858691  ┆ 0.228404  ┆ 0.81963  ┆ -0.021791 ┆ -856.746017  ┆ 0     ┆ A        │\n",
       "│ 2       ┆ 6.792286  ┆ 0.203664  ┆ 0.70993  ┆ -0.397194 ┆ -1689.208398 ┆ 2     ┆ A        │\n",
       "│ 3       ┆ 8.145338  ┆ 0.551938  ┆ 5.37932  ┆ -0.948532 ┆ 1485.885944  ┆ 0     ┆ A        │\n",
       "│ 4       ┆ 7.182131  ┆ 0.763336  ┆ 0.318751 ┆ 0.206719  ┆ -463.325706  ┆ 1     ┆ A        │\n",
       "│ …       ┆ …         ┆ …         ┆ …        ┆ …         ┆ …            ┆ …     ┆ …        │\n",
       "│ 99991   ┆ 6.317155  ┆ 0.195067  ┆ 0.483955 ┆ 2.445583  ┆ -1035.578604 ┆ 1     ┆ C        │\n",
       "│ 99993   ┆ 2.902461  ┆ 0.991713  ┆ 0.04115  ┆ -0.360496 ┆ -487.118421  ┆ 0     ┆ C        │\n",
       "│ 99994   ┆ 4.297485  ┆ 0.437202  ┆ 3.617975 ┆ -0.461013 ┆ -1290.06655  ┆ 1     ┆ C        │\n",
       "│ 99995   ┆ 1.016358  ┆ 0.761678  ┆ 1.434325 ┆ 2.122562  ┆ 1788.577641  ┆ 0     ┆ C        │\n",
       "│ 99997   ┆ 5.724506  ┆ 0.439313  ┆ 2.32493  ┆ -0.704899 ┆ 102.913619   ┆ 0     ┆ C        │\n",
       "└─────────┴───────────┴───────────┴──────────┴───────────┴──────────────┴───────┴──────────┘"
      ]
     },
     "execution_count": 4,
     "metadata": {},
     "output_type": "execute_result"
    }
   ],
   "source": [
    "# Random Sample\n",
    "sa.sample(df, 0.6) # by ratio"
   ]
  },
  {
   "cell_type": "code",
   "execution_count": 5,
   "metadata": {},
   "outputs": [
    {
     "data": {
      "text/html": [
       "<div><style>\n",
       ".dataframe > thead > tr,\n",
       ".dataframe > tbody > tr {\n",
       "  text-align: right;\n",
       "  white-space: pre-wrap;\n",
       "}\n",
       "</style>\n",
       "<small>shape: (30_000, 8)</small><table border=\"1\" class=\"dataframe\"><thead><tr><th>row_num</th><th>uniform_1</th><th>uniform_2</th><th>exp</th><th>normal</th><th>fat_normal</th><th>flags</th><th>category</th></tr><tr><td>i64</td><td>f64</td><td>f64</td><td>f64</td><td>f64</td><td>f64</td><td>i32</td><td>str</td></tr></thead><tbody><tr><td>7</td><td>5.26556</td><td>0.19236</td><td>1.196749</td><td>-0.018913</td><td>-305.17364</td><td>1</td><td>&quot;A&quot;</td></tr><tr><td>9</td><td>3.574201</td><td>0.763915</td><td>2.504222</td><td>0.822841</td><td>826.240704</td><td>0</td><td>&quot;A&quot;</td></tr><tr><td>14</td><td>1.991566</td><td>0.863184</td><td>0.772406</td><td>-0.963031</td><td>459.468928</td><td>1</td><td>&quot;A&quot;</td></tr><tr><td>15</td><td>0.727227</td><td>0.691103</td><td>0.060641</td><td>-0.807559</td><td>100.655214</td><td>0</td><td>&quot;A&quot;</td></tr><tr><td>19</td><td>2.048383</td><td>0.475994</td><td>0.499137</td><td>-0.951941</td><td>2266.54163</td><td>1</td><td>&quot;A&quot;</td></tr><tr><td>&hellip;</td><td>&hellip;</td><td>&hellip;</td><td>&hellip;</td><td>&hellip;</td><td>&hellip;</td><td>&hellip;</td><td>&hellip;</td></tr><tr><td>99979</td><td>6.588156</td><td>0.15447</td><td>0.508626</td><td>0.058968</td><td>-493.155817</td><td>0</td><td>&quot;C&quot;</td></tr><tr><td>99980</td><td>7.436744</td><td>0.265509</td><td>4.017184</td><td>1.575691</td><td>681.375507</td><td>0</td><td>&quot;C&quot;</td></tr><tr><td>99985</td><td>2.766769</td><td>0.856925</td><td>1.521899</td><td>0.761686</td><td>1035.963792</td><td>1</td><td>&quot;C&quot;</td></tr><tr><td>99991</td><td>6.317155</td><td>0.195067</td><td>0.483955</td><td>2.445583</td><td>-1035.578604</td><td>1</td><td>&quot;C&quot;</td></tr><tr><td>99994</td><td>4.297485</td><td>0.437202</td><td>3.617975</td><td>-0.461013</td><td>-1290.06655</td><td>1</td><td>&quot;C&quot;</td></tr></tbody></table></div>"
      ],
      "text/plain": [
       "shape: (30_000, 8)\n",
       "┌─────────┬───────────┬───────────┬──────────┬───────────┬──────────────┬───────┬──────────┐\n",
       "│ row_num ┆ uniform_1 ┆ uniform_2 ┆ exp      ┆ normal    ┆ fat_normal   ┆ flags ┆ category │\n",
       "│ ---     ┆ ---       ┆ ---       ┆ ---      ┆ ---       ┆ ---          ┆ ---   ┆ ---      │\n",
       "│ i64     ┆ f64       ┆ f64       ┆ f64      ┆ f64       ┆ f64          ┆ i32   ┆ str      │\n",
       "╞═════════╪═══════════╪═══════════╪══════════╪═══════════╪══════════════╪═══════╪══════════╡\n",
       "│ 7       ┆ 5.26556   ┆ 0.19236   ┆ 1.196749 ┆ -0.018913 ┆ -305.17364   ┆ 1     ┆ A        │\n",
       "│ 9       ┆ 3.574201  ┆ 0.763915  ┆ 2.504222 ┆ 0.822841  ┆ 826.240704   ┆ 0     ┆ A        │\n",
       "│ 14      ┆ 1.991566  ┆ 0.863184  ┆ 0.772406 ┆ -0.963031 ┆ 459.468928   ┆ 1     ┆ A        │\n",
       "│ 15      ┆ 0.727227  ┆ 0.691103  ┆ 0.060641 ┆ -0.807559 ┆ 100.655214   ┆ 0     ┆ A        │\n",
       "│ 19      ┆ 2.048383  ┆ 0.475994  ┆ 0.499137 ┆ -0.951941 ┆ 2266.54163   ┆ 1     ┆ A        │\n",
       "│ …       ┆ …         ┆ …         ┆ …        ┆ …         ┆ …            ┆ …     ┆ …        │\n",
       "│ 99979   ┆ 6.588156  ┆ 0.15447   ┆ 0.508626 ┆ 0.058968  ┆ -493.155817  ┆ 0     ┆ C        │\n",
       "│ 99980   ┆ 7.436744  ┆ 0.265509  ┆ 4.017184 ┆ 1.575691  ┆ 681.375507   ┆ 0     ┆ C        │\n",
       "│ 99985   ┆ 2.766769  ┆ 0.856925  ┆ 1.521899 ┆ 0.761686  ┆ 1035.963792  ┆ 1     ┆ C        │\n",
       "│ 99991   ┆ 6.317155  ┆ 0.195067  ┆ 0.483955 ┆ 2.445583  ┆ -1035.578604 ┆ 1     ┆ C        │\n",
       "│ 99994   ┆ 4.297485  ┆ 0.437202  ┆ 3.617975 ┆ -0.461013 ┆ -1290.06655  ┆ 1     ┆ C        │\n",
       "└─────────┴───────────┴───────────┴──────────┴───────────┴──────────────┴───────┴──────────┘"
      ]
     },
     "execution_count": 5,
     "metadata": {},
     "output_type": "execute_result"
    }
   ],
   "source": [
    "sa.sample(df, 30_000) # by count"
   ]
  },
  {
   "cell_type": "code",
   "execution_count": 6,
   "metadata": {},
   "outputs": [
    {
     "data": {
      "text/html": [
       "<div><style>\n",
       ".dataframe > thead > tr,\n",
       ".dataframe > tbody > tr {\n",
       "  text-align: right;\n",
       "  white-space: pre-wrap;\n",
       "}\n",
       "</style>\n",
       "<small>shape: (3, 2)</small><table border=\"1\" class=\"dataframe\"><thead><tr><th>flags</th><th>len</th></tr><tr><td>i32</td><td>u32</td></tr></thead><tbody><tr><td>0</td><td>33442</td></tr><tr><td>1</td><td>33203</td></tr><tr><td>2</td><td>33355</td></tr></tbody></table></div>"
      ],
      "text/plain": [
       "shape: (3, 2)\n",
       "┌───────┬───────┐\n",
       "│ flags ┆ len   │\n",
       "│ ---   ┆ ---   │\n",
       "│ i32   ┆ u32   │\n",
       "╞═══════╪═══════╡\n",
       "│ 0     ┆ 33442 │\n",
       "│ 1     ┆ 33203 │\n",
       "│ 2     ┆ 33355 │\n",
       "└───────┴───────┘"
      ]
     },
     "execution_count": 6,
     "metadata": {},
     "output_type": "execute_result"
    }
   ],
   "source": [
    "df.group_by(\"flags\").len().sort(\"flags\")"
   ]
  },
  {
   "cell_type": "code",
   "execution_count": 7,
   "metadata": {},
   "outputs": [
    {
     "data": {
      "text/html": [
       "<div><style>\n",
       ".dataframe > thead > tr,\n",
       ".dataframe > tbody > tr {\n",
       "  text-align: right;\n",
       "  white-space: pre-wrap;\n",
       "}\n",
       "</style>\n",
       "<small>shape: (3, 2)</small><table border=\"1\" class=\"dataframe\"><thead><tr><th>flags</th><th>len</th></tr><tr><td>i32</td><td>u32</td></tr></thead><tbody><tr><td>0</td><td>16721</td></tr><tr><td>1</td><td>33203</td></tr><tr><td>2</td><td>33355</td></tr></tbody></table></div>"
      ],
      "text/plain": [
       "shape: (3, 2)\n",
       "┌───────┬───────┐\n",
       "│ flags ┆ len   │\n",
       "│ ---   ┆ ---   │\n",
       "│ i32   ┆ u32   │\n",
       "╞═══════╪═══════╡\n",
       "│ 0     ┆ 16721 │\n",
       "│ 1     ┆ 33203 │\n",
       "│ 2     ┆ 33355 │\n",
       "└───────┴───────┘"
      ]
     },
     "execution_count": 7,
     "metadata": {},
     "output_type": "execute_result"
    }
   ],
   "source": [
    "# Downsample on one group\n",
    "sa1 = sa.downsample(\n",
    "    df, \n",
    "    (pl.col(\"flags\") == 0, 0.5)\n",
    ")\n",
    "sa1.group_by(\"flags\").len().sort(\"flags\")"
   ]
  },
  {
   "cell_type": "code",
   "execution_count": 8,
   "metadata": {},
   "outputs": [
    {
     "data": {
      "text/html": [
       "<div><style>\n",
       ".dataframe > thead > tr,\n",
       ".dataframe > tbody > tr {\n",
       "  text-align: right;\n",
       "  white-space: pre-wrap;\n",
       "}\n",
       "</style>\n",
       "<small>shape: (3, 2)</small><table border=\"1\" class=\"dataframe\"><thead><tr><th>flags</th><th>len</th></tr><tr><td>i32</td><td>u32</td></tr></thead><tbody><tr><td>0</td><td>16721</td></tr><tr><td>1</td><td>9961</td></tr><tr><td>2</td><td>13342</td></tr></tbody></table></div>"
      ],
      "text/plain": [
       "shape: (3, 2)\n",
       "┌───────┬───────┐\n",
       "│ flags ┆ len   │\n",
       "│ ---   ┆ ---   │\n",
       "│ i32   ┆ u32   │\n",
       "╞═══════╪═══════╡\n",
       "│ 0     ┆ 16721 │\n",
       "│ 1     ┆ 9961  │\n",
       "│ 2     ┆ 13342 │\n",
       "└───────┴───────┘"
      ]
     },
     "execution_count": 8,
     "metadata": {},
     "output_type": "execute_result"
    }
   ],
   "source": [
    "# Downsample on multiple groups\n",
    "sa2 = sa.downsample(\n",
    "    df, \n",
    "    (pl.col(\"flags\") == 0, 0.5),\n",
    "    (pl.col(\"flags\") == 1, 0.3),\n",
    "    (pl.col(\"flags\") == 2, 0.4),\n",
    ")\n",
    "sa2.group_by(\"flags\").len().sort(\"flags\")"
   ]
  },
  {
   "cell_type": "code",
   "execution_count": 9,
   "metadata": {},
   "outputs": [
    {
     "data": {
      "text/html": [
       "<div><style>\n",
       ".dataframe > thead > tr,\n",
       ".dataframe > tbody > tr {\n",
       "  text-align: right;\n",
       "  white-space: pre-wrap;\n",
       "}\n",
       "</style>\n",
       "<small>shape: (3, 2)</small><table border=\"1\" class=\"dataframe\"><thead><tr><th>category</th><th>len</th></tr><tr><td>str</td><td>u32</td></tr></thead><tbody><tr><td>&quot;A&quot;</td><td>30000</td></tr><tr><td>&quot;B&quot;</td><td>30000</td></tr><tr><td>&quot;C&quot;</td><td>40000</td></tr></tbody></table></div>"
      ],
      "text/plain": [
       "shape: (3, 2)\n",
       "┌──────────┬───────┐\n",
       "│ category ┆ len   │\n",
       "│ ---      ┆ ---   │\n",
       "│ str      ┆ u32   │\n",
       "╞══════════╪═══════╡\n",
       "│ A        ┆ 30000 │\n",
       "│ B        ┆ 30000 │\n",
       "│ C        ┆ 40000 │\n",
       "└──────────┴───────┘"
      ]
     },
     "execution_count": 9,
     "metadata": {},
     "output_type": "execute_result"
    }
   ],
   "source": [
    "df.group_by(\"category\").len().sort(\"category\")"
   ]
  },
  {
   "cell_type": "code",
   "execution_count": 10,
   "metadata": {},
   "outputs": [
    {
     "data": {
      "text/html": [
       "<div><style>\n",
       ".dataframe > thead > tr,\n",
       ".dataframe > tbody > tr {\n",
       "  text-align: right;\n",
       "  white-space: pre-wrap;\n",
       "}\n",
       "</style>\n",
       "<small>shape: (3, 2)</small><table border=\"1\" class=\"dataframe\"><thead><tr><th>category</th><th>len</th></tr><tr><td>str</td><td>u32</td></tr></thead><tbody><tr><td>&quot;A&quot;</td><td>30000</td></tr><tr><td>&quot;B&quot;</td><td>30000</td></tr><tr><td>&quot;C&quot;</td><td>30000</td></tr></tbody></table></div>"
      ],
      "text/plain": [
       "shape: (3, 2)\n",
       "┌──────────┬───────┐\n",
       "│ category ┆ len   │\n",
       "│ ---      ┆ ---   │\n",
       "│ str      ┆ u32   │\n",
       "╞══════════╪═══════╡\n",
       "│ A        ┆ 30000 │\n",
       "│ B        ┆ 30000 │\n",
       "│ C        ┆ 30000 │\n",
       "└──────────┴───────┘"
      ]
     },
     "execution_count": 10,
     "metadata": {},
     "output_type": "execute_result"
    }
   ],
   "source": [
    "# Volume neutral by each category, will take the greatest possible value so that we get neutral volume.\n",
    "vn = sa.volume_neutral(\n",
    "    df,\n",
    "    by = pl.col(\"category\"),\n",
    ")\n",
    "vn.group_by(\"category\").len().sort(\"category\")"
   ]
  },
  {
   "cell_type": "code",
   "execution_count": 11,
   "metadata": {},
   "outputs": [
    {
     "data": {
      "text/html": [
       "<div><style>\n",
       ".dataframe > thead > tr,\n",
       ".dataframe > tbody > tr {\n",
       "  text-align: right;\n",
       "  white-space: pre-wrap;\n",
       "}\n",
       "</style>\n",
       "<small>shape: (3, 2)</small><table border=\"1\" class=\"dataframe\"><thead><tr><th>category</th><th>len</th></tr><tr><td>str</td><td>u32</td></tr></thead><tbody><tr><td>&quot;A&quot;</td><td>10000</td></tr><tr><td>&quot;B&quot;</td><td>10000</td></tr><tr><td>&quot;C&quot;</td><td>10000</td></tr></tbody></table></div>"
      ],
      "text/plain": [
       "shape: (3, 2)\n",
       "┌──────────┬───────┐\n",
       "│ category ┆ len   │\n",
       "│ ---      ┆ ---   │\n",
       "│ str      ┆ u32   │\n",
       "╞══════════╪═══════╡\n",
       "│ A        ┆ 10000 │\n",
       "│ B        ┆ 10000 │\n",
       "│ C        ┆ 10000 │\n",
       "└──────────┴───────┘"
      ]
     },
     "execution_count": 11,
     "metadata": {},
     "output_type": "execute_result"
    }
   ],
   "source": [
    "# Volume neutral (10_000) by each category\n",
    "vn = sa.volume_neutral(\n",
    "    df,\n",
    "    by = pl.col(\"category\"),\n",
    "    target_volume = 10_000\n",
    ")\n",
    "vn.group_by(\"category\").len().sort(\"category\")"
   ]
  },
  {
   "cell_type": "code",
   "execution_count": 12,
   "metadata": {},
   "outputs": [
    {
     "data": {
      "text/html": [
       "<div><style>\n",
       ".dataframe > thead > tr,\n",
       ".dataframe > tbody > tr {\n",
       "  text-align: right;\n",
       "  white-space: pre-wrap;\n",
       "}\n",
       "</style>\n",
       "<small>shape: (3, 2)</small><table border=\"1\" class=\"dataframe\"><thead><tr><th>category</th><th>len</th></tr><tr><td>str</td><td>u32</td></tr></thead><tbody><tr><td>&quot;A&quot;</td><td>10000</td></tr><tr><td>&quot;B&quot;</td><td>4261</td></tr><tr><td>&quot;C&quot;</td><td>5739</td></tr></tbody></table></div>"
      ],
      "text/plain": [
       "shape: (3, 2)\n",
       "┌──────────┬───────┐\n",
       "│ category ┆ len   │\n",
       "│ ---      ┆ ---   │\n",
       "│ str      ┆ u32   │\n",
       "╞══════════╪═══════╡\n",
       "│ A        ┆ 10000 │\n",
       "│ B        ┆ 4261  │\n",
       "│ C        ┆ 5739  │\n",
       "└──────────┴───────┘"
      ]
     },
     "execution_count": 12,
     "metadata": {},
     "output_type": "execute_result"
    }
   ],
   "source": [
    "# Volume neutral (10_000) by a more complicated condition\n",
    "vn = sa.volume_neutral(\n",
    "    df,\n",
    "    by = pl.col(\"category\") == \"A\",\n",
    "    target_volume = 10_000\n",
    ") # This makes sense because count for B + count for C = 10_000\n",
    "vn.group_by(\"category\").len().sort(\"category\")"
   ]
  },
  {
   "cell_type": "code",
   "execution_count": 13,
   "metadata": {},
   "outputs": [
    {
     "data": {
      "text/html": [
       "<div><style>\n",
       ".dataframe > thead > tr,\n",
       ".dataframe > tbody > tr {\n",
       "  text-align: right;\n",
       "  white-space: pre-wrap;\n",
       "}\n",
       "</style>\n",
       "<small>shape: (9, 3)</small><table border=\"1\" class=\"dataframe\"><thead><tr><th>category</th><th>flags</th><th>len</th></tr><tr><td>str</td><td>i32</td><td>u32</td></tr></thead><tbody><tr><td>&quot;A&quot;</td><td>0</td><td>9978</td></tr><tr><td>&quot;A&quot;</td><td>1</td><td>9978</td></tr><tr><td>&quot;A&quot;</td><td>2</td><td>9978</td></tr><tr><td>&quot;B&quot;</td><td>0</td><td>9978</td></tr><tr><td>&quot;B&quot;</td><td>1</td><td>9978</td></tr><tr><td>&quot;B&quot;</td><td>2</td><td>9978</td></tr><tr><td>&quot;C&quot;</td><td>0</td><td>13194</td></tr><tr><td>&quot;C&quot;</td><td>1</td><td>13194</td></tr><tr><td>&quot;C&quot;</td><td>2</td><td>13194</td></tr></tbody></table></div>"
      ],
      "text/plain": [
       "shape: (9, 3)\n",
       "┌──────────┬───────┬───────┐\n",
       "│ category ┆ flags ┆ len   │\n",
       "│ ---      ┆ ---   ┆ ---   │\n",
       "│ str      ┆ i32   ┆ u32   │\n",
       "╞══════════╪═══════╪═══════╡\n",
       "│ A        ┆ 0     ┆ 9978  │\n",
       "│ A        ┆ 1     ┆ 9978  │\n",
       "│ A        ┆ 2     ┆ 9978  │\n",
       "│ B        ┆ 0     ┆ 9978  │\n",
       "│ B        ┆ 1     ┆ 9978  │\n",
       "│ B        ┆ 2     ┆ 9978  │\n",
       "│ C        ┆ 0     ┆ 13194 │\n",
       "│ C        ┆ 1     ┆ 13194 │\n",
       "│ C        ┆ 2     ┆ 13194 │\n",
       "└──────────┴───────┴───────┘"
      ]
     },
     "execution_count": 13,
     "metadata": {},
     "output_type": "execute_result"
    }
   ],
   "source": [
    "# Volume neutral sample with a control level. Volume neutral happens under the category level, meaning\n",
    "# the volume for each flag in each category is neutral.\n",
    "vn = sa.volume_neutral(\n",
    "    df,\n",
    "    by = pl.col(\"flags\"),\n",
    "    control = pl.col(\"category\")\n",
    ") \n",
    "vn.group_by([\"category\", \"flags\"]).len().sort([\"category\", \"flags\"])"
   ]
  },
  {
   "cell_type": "code",
   "execution_count": 14,
   "metadata": {},
   "outputs": [
    {
     "data": {
      "text/html": [
       "<div><style>\n",
       ".dataframe > thead > tr,\n",
       ".dataframe > tbody > tr {\n",
       "  text-align: right;\n",
       "  white-space: pre-wrap;\n",
       "}\n",
       "</style>\n",
       "<small>shape: (9, 3)</small><table border=\"1\" class=\"dataframe\"><thead><tr><th>category</th><th>flags</th><th>len</th></tr><tr><td>str</td><td>i32</td><td>u32</td></tr></thead><tbody><tr><td>&quot;A&quot;</td><td>0</td><td>9978</td></tr><tr><td>&quot;A&quot;</td><td>1</td><td>9978</td></tr><tr><td>&quot;A&quot;</td><td>2</td><td>9978</td></tr><tr><td>&quot;B&quot;</td><td>0</td><td>9978</td></tr><tr><td>&quot;B&quot;</td><td>1</td><td>9978</td></tr><tr><td>&quot;B&quot;</td><td>2</td><td>9978</td></tr><tr><td>&quot;C&quot;</td><td>0</td><td>10000</td></tr><tr><td>&quot;C&quot;</td><td>1</td><td>10000</td></tr><tr><td>&quot;C&quot;</td><td>2</td><td>10000</td></tr></tbody></table></div>"
      ],
      "text/plain": [
       "shape: (9, 3)\n",
       "┌──────────┬───────┬───────┐\n",
       "│ category ┆ flags ┆ len   │\n",
       "│ ---      ┆ ---   ┆ ---   │\n",
       "│ str      ┆ i32   ┆ u32   │\n",
       "╞══════════╪═══════╪═══════╡\n",
       "│ A        ┆ 0     ┆ 9978  │\n",
       "│ A        ┆ 1     ┆ 9978  │\n",
       "│ A        ┆ 2     ┆ 9978  │\n",
       "│ B        ┆ 0     ┆ 9978  │\n",
       "│ B        ┆ 1     ┆ 9978  │\n",
       "│ B        ┆ 2     ┆ 9978  │\n",
       "│ C        ┆ 0     ┆ 10000 │\n",
       "│ C        ┆ 1     ┆ 10000 │\n",
       "│ C        ┆ 2     ┆ 10000 │\n",
       "└──────────┴───────┴───────┘"
      ]
     },
     "execution_count": 14,
     "metadata": {},
     "output_type": "execute_result"
    }
   ],
   "source": [
    "# We may not meet the target volume for all categories.\n",
    "vn = sa.volume_neutral(\n",
    "    df,\n",
    "    by = pl.col(\"flags\"),\n",
    "    control = pl.col(\"category\"),\n",
    "    target_volume= 10_000\n",
    ") # \n",
    "vn.group_by([\"category\", \"flags\"]).len().sort([\"category\", \"flags\"])"
   ]
  },
  {
   "cell_type": "markdown",
   "metadata": {},
   "source": [
    "## Splitting\n",
    "\n",
    "To be added..."
   ]
  },
  {
   "cell_type": "markdown",
   "metadata": {},
   "source": []
  },
  {
   "cell_type": "markdown",
   "metadata": {},
   "source": []
  }
 ],
 "metadata": {
  "kernelspec": {
   "display_name": ".venv",
   "language": "python",
   "name": "python3"
  },
  "language_info": {
   "codemirror_mode": {
    "name": "ipython",
    "version": 3
   },
   "file_extension": ".py",
   "mimetype": "text/x-python",
   "name": "python",
   "nbconvert_exporter": "python",
   "pygments_lexer": "ipython3",
   "version": "3.12.4"
  }
 },
 "nbformat": 4,
 "nbformat_minor": 2
}
