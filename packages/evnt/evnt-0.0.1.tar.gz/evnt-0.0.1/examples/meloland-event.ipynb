{
 "cells": [
  {
   "cell_type": "markdown",
   "id": "c2f8ec6b-6741-4cf8-877d-bd3ec1dbcb62",
   "metadata": {},
   "source": [
    "# Event analysis (Meloland)"
   ]
  },
  {
   "cell_type": "markdown",
   "id": "0dc08ec3-2cc7-4aa6-ba26-f1bec83f3536",
   "metadata": {},
   "source": [
    "This notebook uses the `quakeio` Python package to parse and process a suite of ground motion files.\n",
    "\n",
    "![Meloland Overpass schematic placement of sensors](ll01336_1.svg)"
   ]
  },
  {
   "cell_type": "code",
   "execution_count": 1,
   "id": "5efd1d64-0135-4c22-9163-de756528dafb",
   "metadata": {},
   "outputs": [],
   "source": [
    "import numpy as np\n",
    "import quakeio\n",
    "import quakeio.processing as spec"
   ]
  },
  {
   "cell_type": "markdown",
   "id": "fd7db7a1-6481-4a5e-9eb8-187846cc4bb8",
   "metadata": {},
   "source": [
    "The following file contains a collection of ground motions in the CSMIP Volume 2 format from the 1979 Imperial Valley earthquake\n",
    "(obtained from www.strongmotioncenter.org)."
   ]
  },
  {
   "cell_type": "code",
   "execution_count": 2,
   "id": "e5a9d10a-769a-441b-88de-8058dfc2bf49",
   "metadata": {},
   "outputs": [],
   "source": [
    "file_name = \"../dat/imperialvalley79_ce01336p.zip\""
   ]
  },
  {
   "cell_type": "markdown",
   "id": "8a1656fe-ed2a-4e52-8878-ddb50848a630",
   "metadata": {},
   "source": [
    "The signature of the function `quakeio.read` is as follows:\n",
    "\n",
    "```{.py}\n",
    "def read(filename: str, format: str = None, **parser_options): ...\n",
    "```\n",
    "\n",
    "where `format` is a string indicating the file format (see tool documentation for available [formats](https://brace2.github.io/TeamDocumentation/tools/quakeio/)). In this case the `format` argument can be ommited because\n",
    "the CSMIP archive parser is the default parser for files with a `.zip` extension."
   ]
  },
  {
   "cell_type": "code",
   "execution_count": 4,
   "id": "59ba7c20-e821-4e76-a751-85aff9c9c95c",
   "metadata": {},
   "outputs": [
    {
     "ename": "KeyError",
     "evalue": "'date'",
     "output_type": "error",
     "traceback": [
      "\u001b[0;31m---------------------------------------------------------------------------\u001b[0m",
      "\u001b[0;31mKeyError\u001b[0m                                  Traceback (most recent call last)",
      "\u001b[0;32m/tmp/ipykernel_6369/1383037917.py\u001b[0m in \u001b[0;36m<module>\u001b[0;34m\u001b[0m\n\u001b[0;32m----> 1\u001b[0;31m \u001b[0mcollection\u001b[0m \u001b[0;34m=\u001b[0m \u001b[0mquakeio\u001b[0m\u001b[0;34m.\u001b[0m\u001b[0mread\u001b[0m\u001b[0;34m(\u001b[0m\u001b[0mfile_name\u001b[0m\u001b[0;34m,\u001b[0m \u001b[0mexclusions\u001b[0m\u001b[0;34m=\u001b[0m\u001b[0;34m[\u001b[0m\u001b[0;34m\"filter*\"\u001b[0m\u001b[0;34m,\u001b[0m \u001b[0;34m\"date*\"\u001b[0m\u001b[0;34m]\u001b[0m\u001b[0;34m)\u001b[0m\u001b[0;34m\u001b[0m\u001b[0;34m\u001b[0m\u001b[0m\n\u001b[0m",
      "\u001b[0;32m~/packages/quakeio/src/quakeio/__init__.py\u001b[0m in \u001b[0;36mread\u001b[0;34m(read_file, input_format, **kwds)\u001b[0m\n\u001b[1;32m     38\u001b[0m         \u001b[0;32mexcept\u001b[0m \u001b[0mKeyError\u001b[0m\u001b[0;34m:\u001b[0m\u001b[0;34m\u001b[0m\u001b[0;34m\u001b[0m\u001b[0m\n\u001b[1;32m     39\u001b[0m             \u001b[0;32mraise\u001b[0m \u001b[0mValueError\u001b[0m\u001b[0;34m(\u001b[0m\u001b[0;34m\"Unable to deduce input format.\\n\"\u001b[0m\u001b[0;34m)\u001b[0m\u001b[0;34m\u001b[0m\u001b[0;34m\u001b[0m\u001b[0m\n\u001b[0;32m---> 40\u001b[0;31m     \u001b[0;32mreturn\u001b[0m \u001b[0mFILE_TYPES\u001b[0m\u001b[0;34m[\u001b[0m\u001b[0mtyp\u001b[0m\u001b[0;34m]\u001b[0m\u001b[0;34m[\u001b[0m\u001b[0;34m\"read\"\u001b[0m\u001b[0;34m]\u001b[0m\u001b[0;34m(\u001b[0m\u001b[0mread_file\u001b[0m\u001b[0;34m,\u001b[0m \u001b[0;34m**\u001b[0m\u001b[0mkwds\u001b[0m\u001b[0;34m)\u001b[0m\u001b[0;34m\u001b[0m\u001b[0;34m\u001b[0m\u001b[0m\n\u001b[0m\u001b[1;32m     41\u001b[0m \u001b[0;34m\u001b[0m\u001b[0m\n\u001b[1;32m     42\u001b[0m \u001b[0;34m\u001b[0m\u001b[0m\n",
      "\u001b[0;32m~/packages/quakeio/src/quakeio/csmip.py\u001b[0m in \u001b[0;36mread_event\u001b[0;34m(read_file, verbosity, summarize, **kwds)\u001b[0m\n\u001b[1;32m    192\u001b[0m     \u001b[0mfirst_motion\u001b[0m \u001b[0;34m=\u001b[0m \u001b[0mlist\u001b[0m\u001b[0;34m(\u001b[0m\u001b[0mmotions\u001b[0m\u001b[0;34m.\u001b[0m\u001b[0mvalues\u001b[0m\u001b[0;34m(\u001b[0m\u001b[0;34m)\u001b[0m\u001b[0;34m)\u001b[0m\u001b[0;34m[\u001b[0m\u001b[0;36m0\u001b[0m\u001b[0;34m]\u001b[0m\u001b[0;34m\u001b[0m\u001b[0;34m\u001b[0m\u001b[0m\n\u001b[1;32m    193\u001b[0m     \u001b[0mfirst_component\u001b[0m \u001b[0;34m=\u001b[0m \u001b[0mlist\u001b[0m\u001b[0;34m(\u001b[0m\u001b[0mfirst_motion\u001b[0m\u001b[0;34m.\u001b[0m\u001b[0mcomponents\u001b[0m\u001b[0;34m.\u001b[0m\u001b[0mvalues\u001b[0m\u001b[0;34m(\u001b[0m\u001b[0;34m)\u001b[0m\u001b[0;34m)\u001b[0m\u001b[0;34m[\u001b[0m\u001b[0;36m0\u001b[0m\u001b[0;34m]\u001b[0m\u001b[0;34m\u001b[0m\u001b[0;34m\u001b[0m\u001b[0m\n\u001b[0;32m--> 194\u001b[0;31m     \u001b[0mdate\u001b[0m \u001b[0;34m=\u001b[0m \u001b[0mfirst_component\u001b[0m\u001b[0;34m[\u001b[0m\u001b[0;34m\"date\"\u001b[0m\u001b[0;34m]\u001b[0m\u001b[0;34m\u001b[0m\u001b[0;34m\u001b[0m\u001b[0m\n\u001b[0m\u001b[1;32m    195\u001b[0m     \u001b[0;32mif\u001b[0m \u001b[0mv1\u001b[0m \u001b[0;32mand\u001b[0m \u001b[0;32mnot\u001b[0m \u001b[0msummarize\u001b[0m\u001b[0;34m:\u001b[0m\u001b[0;34m\u001b[0m\u001b[0;34m\u001b[0m\u001b[0m\n\u001b[1;32m    196\u001b[0m         peak_accel = max(\n",
      "\u001b[0;31mKeyError\u001b[0m: 'date'"
     ]
    }
   ],
   "source": [
    "collection = quakeio.read(file_name, exclusions=[\"filter*\", \"date*\"])"
   ]
  },
  {
   "cell_type": "markdown",
   "id": "119b3405-80e0-49b3-9dab-584b708f7841",
   "metadata": {},
   "source": [
    "The variable `collection` now holds a `QuakeCollection`.\n",
    "Once the collection has been parsed, individual components can be extracted\n",
    "using the `.at` method of `QuakeCollection`"
   ]
  },
  {
   "cell_type": "code",
   "execution_count": null,
   "id": "230d5448-a1a0-4995-a586-1e79f0d9e5f2",
   "metadata": {},
   "outputs": [],
   "source": [
    "component = collection.at(file_name=\"chan02.v2\".upper())"
   ]
  },
  {
   "cell_type": "markdown",
   "id": "87871857-7179-4f6f-841f-24c6a2b79633",
   "metadata": {},
   "source": [
    "## Acceleration Spectra"
   ]
  },
  {
   "cell_type": "code",
   "execution_count": null,
   "id": "2e5d86ca-b526-4b16-96f7-61c5041cf069",
   "metadata": {},
   "outputs": [],
   "source": [
    "spec.Spectrum(component, damping=[0.0, 0.01, 0.05]).plot();"
   ]
  }
 ],
 "metadata": {
  "kernelspec": {
   "display_name": "Python (elle)",
   "language": "python",
   "name": "elle"
  },
  "language_info": {
   "codemirror_mode": {
    "name": "ipython",
    "version": 3
   },
   "file_extension": ".py",
   "mimetype": "text/x-python",
   "name": "python",
   "nbconvert_exporter": "python",
   "pygments_lexer": "ipython3",
   "version": "3.8.12"
  }
 },
 "nbformat": 4,
 "nbformat_minor": 5
}
