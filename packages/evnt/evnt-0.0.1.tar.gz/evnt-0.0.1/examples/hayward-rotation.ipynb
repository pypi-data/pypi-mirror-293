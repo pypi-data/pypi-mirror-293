{
 "cells": [
  {
   "cell_type": "markdown",
   "id": "9d402b29-27ea-4385-b6b7-7272055850a6",
   "metadata": {},
   "source": [
    "Ch2,3,12,13:   37.71 degrees\n",
    "Ch6,7,14,15:   31.02 degrees\n",
    "Ch17,18,19,\n",
    "  20,24,25,\n",
    "     22,23:    26.16 degrees"
   ]
  },
  {
   "cell_type": "markdown",
   "id": "01422939-e96e-4aa6-b79b-0d299f5fde93",
   "metadata": {},
   "source": [
    "\n",
    "\n",
    "![](ll58658_2.svg)"
   ]
  },
  {
   "cell_type": "code",
   "execution_count": null,
   "id": "90f4424e-c994-4f09-8496-c6c3b4fab0dc",
   "metadata": {},
   "outputs": [],
   "source": []
  }
 ],
 "metadata": {
  "kernelspec": {
   "display_name": "Python (elle)",
   "language": "python",
   "name": "elle"
  },
  "language_info": {
   "codemirror_mode": {
    "name": "ipython",
    "version": 3
   },
   "file_extension": ".py",
   "mimetype": "text/x-python",
   "name": "python",
   "nbconvert_exporter": "python",
   "pygments_lexer": "ipython3",
   "version": "3.8.12"
  }
 },
 "nbformat": 4,
 "nbformat_minor": 5
}
