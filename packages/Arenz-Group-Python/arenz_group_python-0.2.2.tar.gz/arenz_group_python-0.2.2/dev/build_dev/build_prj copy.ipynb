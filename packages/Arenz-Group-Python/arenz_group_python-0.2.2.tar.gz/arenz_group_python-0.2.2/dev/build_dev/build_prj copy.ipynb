{
 "cells": [
  {
   "cell_type": "markdown",
   "metadata": {},
   "source": [
    "# General installation from github\n",
    "pip install \"Package\" @ git+\"URL of the repository#subdirectory=path\"\n",
    "\n",
    "Here, we want to install Arenz_Group Python package."
   ]
  },
  {
   "cell_type": "code",
   "execution_count": 2,
   "metadata": {},
   "outputs": [
    {
     "name": "stdout",
     "output_type": "stream",
     "text": [
      "\"c:\\Users\\gustav.wiberg\\Documents\\GitHub\\Python\\Arenz_Group_Python\\.venv\\Scripts\\python.exe\"\n",
      "c:\\Users\\gustav.wiberg\\Documents\\GitHub\\Python\\Arenz_Group_Python\n"
     ]
    }
   ],
   "source": [
    "#%cd ..\n",
    "import sys\n",
    "from pathlib import Path\n",
    "path_to_executable = \"\\\"\" + str(sys.executable) +  \"\\\"\" #must be used if there are any spaces in the path\n",
    "print(path_to_executable)\n",
    "p=Path(\".\").cwd().parent.parent\n",
    "print(p)"
   ]
  },
  {
   "cell_type": "code",
   "execution_count": 3,
   "metadata": {},
   "outputs": [
    {
     "name": "stdout",
     "output_type": "stream",
     "text": [
      "Project Version 0.2.2\n",
      "{'build-system': {'requires': ['hatchling'], 'build-backend': 'hatchling.build'}, 'project': {'name': 'Arenz_Group_Python', 'version': '0.2.2', 'dependencies': ['nptdms', 'matplotlib', 'pathlib', 'scipy', 'numpy', 'pandas', 'EC4py'], 'requires-python': '>=3.11', 'description': 'a pip-installable package with function for Arenz Group', 'readme': 'README.md', 'keywords': ['python', 'arenz group', 'tdms'], 'classifiers': ['Development Status :: 4 - Beta', 'Operating System :: OS Independent', 'Programming Language :: Python'], 'authors': [{'name': 'Gustav Wiberg', 'email': 'gustav.wiberg@unibe.ch'}], 'maintainers': [{'name': 'Gustav Wiberg', 'email': 'gustav.wiberg@unibe.ch'}], 'license': {'file': 'LICENSE'}, 'urls': {'Homepage': 'https://github.com/Guswib/Arenz_Group_Python', 'Documentation': 'https://github.com/Guswib/Arenz_Group_Python', 'Repository': 'https://github.com/Guswib/Arenz_Group_Python', 'Issues': 'https://github.com/Guswib/Arenz_Group_Python', 'Changelog': 'https://github.com/Guswib/Arenz_Group_Python'}}, 'tool': {'setuptools': {'packages': {'find': {'where': ['src']}}}}}\n"
     ]
    }
   ],
   "source": [
    "import ver_update\n",
    "ver_update.version_updated()"
   ]
  },
  {
   "cell_type": "code",
   "execution_count": 4,
   "metadata": {},
   "outputs": [
    {
     "name": "stdout",
     "output_type": "stream",
     "text": [
      "c:\\Users\\gustav.wiberg\\Documents\\GitHub\\Python\\Arenz_Group_Python\n"
     ]
    },
    {
     "name": "stderr",
     "output_type": "stream",
     "text": [
      "c:\\Users\\gustav.wiberg\\Documents\\GitHub\\Python\\Arenz_Group_Python\\.venv\\Scripts\\python.exe: No module named build\n"
     ]
    }
   ],
   "source": [
    "p=Path(\".\").cwd().parent.parent\n",
    "print(str(p))\n",
    "!{path_to_executable} -m build {p} "
   ]
  },
  {
   "cell_type": "code",
   "execution_count": 5,
   "metadata": {},
   "outputs": [
    {
     "name": "stdout",
     "output_type": "stream",
     "text": [
      "Checking \n",
      "c:\\Users\\gustav.wiberg\\Documents\\GitHub\\Python\\Arenz_Group_Python\\dist\\arenz_gr\n",
      "oup_python-0.1.20-py3-none-any.whl: PASSED\n",
      "Checking \n",
      "c:\\Users\\gustav.wiberg\\Documents\\GitHub\\Python\\Arenz_Group_Python\\dist\\arenz_gr\n",
      "oup_python-0.2.0-py3-none-any.whl: PASSED\n",
      "Checking \n",
      "c:\\Users\\gustav.wiberg\\Documents\\GitHub\\Python\\Arenz_Group_Python\\dist\\arenz_gr\n",
      "oup_python-0.2.1-py3-none-any.whl: PASSED\n",
      "Checking \n",
      "c:\\Users\\gustav.wiberg\\Documents\\GitHub\\Python\\Arenz_Group_Python\\dist\\arenz_gr\n",
      "oup_python-0.1.20.tar.gz: PASSED\n",
      "Checking \n",
      "c:\\Users\\gustav.wiberg\\Documents\\GitHub\\Python\\Arenz_Group_Python\\dist\\arenz_gr\n",
      "oup_python-0.2.0.tar.gz: PASSED\n",
      "Checking \n",
      "c:\\Users\\gustav.wiberg\\Documents\\GitHub\\Python\\Arenz_Group_Python\\dist\\arenz_gr\n",
      "oup_python-0.2.1.tar.gz: PASSED\n"
     ]
    }
   ],
   "source": [
    "p_dist = p / \"dist\" / \"*\"\n",
    "!twine check {p_dist}"
   ]
  },
  {
   "cell_type": "code",
   "execution_count": null,
   "metadata": {},
   "outputs": [
    {
     "name": "stderr",
     "output_type": "stream",
     "text": [
      "UsageError: Line magic function `%twine` not found.\n"
     ]
    }
   ],
   "source": [
    "!twine check dist/*"
   ]
  },
  {
   "cell_type": "markdown",
   "metadata": {},
   "source": [
    "If you donot have pip or git installed in your conda env., run:\n",
    "conda install pip\n",
    "conda install git"
   ]
  }
 ],
 "metadata": {
  "kernelspec": {
   "display_name": "Python 3",
   "language": "python",
   "name": "python3"
  },
  "language_info": {
   "codemirror_mode": {
    "name": "ipython",
    "version": 3
   },
   "file_extension": ".py",
   "mimetype": "text/x-python",
   "name": "python",
   "nbconvert_exporter": "python",
   "pygments_lexer": "ipython3",
   "version": "3.11.5"
  }
 },
 "nbformat": 4,
 "nbformat_minor": 2
}
