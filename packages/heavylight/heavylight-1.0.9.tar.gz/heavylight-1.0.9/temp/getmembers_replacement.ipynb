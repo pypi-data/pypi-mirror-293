{
 "cells": [
  {
   "cell_type": "code",
   "execution_count": 1,
   "metadata": {},
   "outputs": [],
   "source": [
    "# get members replacement\n",
    "# getmembers sorts alphabetically\n",
    "# users prefer to see methods in defined order."
   ]
  },
  {
   "cell_type": "code",
   "execution_count": 34,
   "metadata": {},
   "outputs": [],
   "source": [
    "class BModel:\n",
    "    def e_1(self):\n",
    "        return 4\n",
    "    def d_2(self):\n",
    "        return 5\n",
    "\n",
    "class AModel(BModel):\n",
    "    def c_1(self):\n",
    "        return 1\n",
    "    def a_2(self):\n",
    "        return 2\n",
    "    def b_3(self):\n",
    "        return 3"
   ]
  },
  {
   "cell_type": "code",
   "execution_count": 9,
   "metadata": {},
   "outputs": [],
   "source": [
    "from inspect import getmembers\n",
    "import types"
   ]
  },
  {
   "cell_type": "markdown",
   "metadata": {},
   "source": [
    "`getmembers` sorts! "
   ]
  },
  {
   "cell_type": "code",
   "execution_count": 35,
   "metadata": {},
   "outputs": [
    {
     "name": "stdout",
     "output_type": "stream",
     "text": [
      "a_2\n",
      "b_3\n",
      "c_1\n",
      "d_2\n",
      "e_1\n"
     ]
    }
   ],
   "source": [
    "for method_name, method in getmembers(AModel()):\n",
    "    if method_name[0] != \"_\" and method_name[0].islower() and isinstance(method, types.MethodType):\n",
    "        print(method_name)"
   ]
  },
  {
   "cell_type": "code",
   "execution_count": 36,
   "metadata": {},
   "outputs": [],
   "source": [
    "model = AModel()"
   ]
  },
  {
   "cell_type": "code",
   "execution_count": 37,
   "metadata": {},
   "outputs": [
    {
     "data": {
      "text/plain": [
       "['__class__',\n",
       " '__delattr__',\n",
       " '__dict__',\n",
       " '__dir__',\n",
       " '__doc__',\n",
       " '__eq__',\n",
       " '__format__',\n",
       " '__ge__',\n",
       " '__getattribute__',\n",
       " '__getstate__',\n",
       " '__gt__',\n",
       " '__hash__',\n",
       " '__init__',\n",
       " '__init_subclass__',\n",
       " '__le__',\n",
       " '__lt__',\n",
       " '__module__',\n",
       " '__ne__',\n",
       " '__new__',\n",
       " '__reduce__',\n",
       " '__reduce_ex__',\n",
       " '__repr__',\n",
       " '__setattr__',\n",
       " '__sizeof__',\n",
       " '__str__',\n",
       " '__subclasshook__',\n",
       " '__weakref__',\n",
       " 'a_2',\n",
       " 'b_3',\n",
       " 'c_1',\n",
       " 'd_2',\n",
       " 'e_1']"
      ]
     },
     "execution_count": 37,
     "metadata": {},
     "output_type": "execute_result"
    }
   ],
   "source": [
    "dir(model) # dir sorts"
   ]
  },
  {
   "cell_type": "code",
   "execution_count": 38,
   "metadata": {},
   "outputs": [
    {
     "data": {
      "text/plain": [
       "<__main__.AModel at 0x105d27d90>"
      ]
     },
     "execution_count": 38,
     "metadata": {},
     "output_type": "execute_result"
    }
   ],
   "source": [
    "model"
   ]
  },
  {
   "cell_type": "code",
   "execution_count": 39,
   "metadata": {},
   "outputs": [
    {
     "data": {
      "text/plain": [
       "<bound method AModel.a_2 of <__main__.AModel object at 0x105d27d90>>"
      ]
     },
     "execution_count": 39,
     "metadata": {},
     "output_type": "execute_result"
    }
   ],
   "source": [
    "model.a_2"
   ]
  },
  {
   "cell_type": "code",
   "execution_count": 40,
   "metadata": {},
   "outputs": [
    {
     "data": {
      "text/plain": [
       "{}"
      ]
     },
     "execution_count": 40,
     "metadata": {},
     "output_type": "execute_result"
    }
   ],
   "source": [
    "vars(model)"
   ]
  },
  {
   "cell_type": "code",
   "execution_count": 41,
   "metadata": {},
   "outputs": [
    {
     "data": {
      "text/plain": [
       "mappingproxy({'__module__': '__main__',\n",
       "              'c_1': <function __main__.AModel.c_1(self)>,\n",
       "              'a_2': <function __main__.AModel.a_2(self)>,\n",
       "              'b_3': <function __main__.AModel.b_3(self)>,\n",
       "              '__doc__': None})"
      ]
     },
     "execution_count": 41,
     "metadata": {},
     "output_type": "execute_result"
    }
   ],
   "source": [
    "vars(AModel)"
   ]
  },
  {
   "cell_type": "code",
   "execution_count": 42,
   "metadata": {},
   "outputs": [
    {
     "data": {
      "text/plain": [
       "mappingproxy({'__module__': '__main__',\n",
       "              'c_1': <function __main__.AModel.c_1(self)>,\n",
       "              'a_2': <function __main__.AModel.a_2(self)>,\n",
       "              'b_3': <function __main__.AModel.b_3(self)>,\n",
       "              '__doc__': None})"
      ]
     },
     "execution_count": 42,
     "metadata": {},
     "output_type": "execute_result"
    }
   ],
   "source": [
    "model.__class__.__dict__"
   ]
  },
  {
   "cell_type": "code",
   "execution_count": 43,
   "metadata": {},
   "outputs": [
    {
     "data": {
      "text/plain": [
       "mappingproxy({'__module__': '__main__',\n",
       "              'c_1': <function __main__.AModel.c_1(self)>,\n",
       "              'a_2': <function __main__.AModel.a_2(self)>,\n",
       "              'b_3': <function __main__.AModel.b_3(self)>,\n",
       "              '__doc__': None})"
      ]
     },
     "execution_count": 43,
     "metadata": {},
     "output_type": "execute_result"
    }
   ],
   "source": [
    "vars(type(model))"
   ]
  },
  {
   "cell_type": "code",
   "execution_count": 44,
   "metadata": {},
   "outputs": [
    {
     "name": "stdout",
     "output_type": "stream",
     "text": [
      "c_1 <class 'function'>\n",
      "a_2 <class 'function'>\n",
      "b_3 <class 'function'>\n"
     ]
    }
   ],
   "source": [
    "for method_name, method in vars(type(model)).items():\n",
    "    if method_name[0] != \"_\" and method_name[0].islower():\n",
    "        if isinstance(method, types.MethodType) or isinstance(method, types.FunctionType):\n",
    "            print(method_name, type(method))"
   ]
  },
  {
   "cell_type": "code",
   "execution_count": 45,
   "metadata": {},
   "outputs": [
    {
     "data": {
      "text/plain": [
       "<bound method BModel.d_2 of <__main__.AModel object at 0x105d27d90>>"
      ]
     },
     "execution_count": 45,
     "metadata": {},
     "output_type": "execute_result"
    }
   ],
   "source": [
    "model.d_2"
   ]
  },
  {
   "cell_type": "code",
   "execution_count": 46,
   "metadata": {},
   "outputs": [
    {
     "data": {
      "text/plain": [
       "mappingproxy({'__module__': '__main__',\n",
       "              'c_1': <function __main__.AModel.c_1(self)>,\n",
       "              'a_2': <function __main__.AModel.a_2(self)>,\n",
       "              'b_3': <function __main__.AModel.b_3(self)>,\n",
       "              '__doc__': None})"
      ]
     },
     "execution_count": 46,
     "metadata": {},
     "output_type": "execute_result"
    }
   ],
   "source": [
    "vars(AModel)"
   ]
  },
  {
   "cell_type": "code",
   "execution_count": 47,
   "metadata": {},
   "outputs": [
    {
     "data": {
      "text/plain": [
       "(__main__.AModel, __main__.BModel, object)"
      ]
     },
     "execution_count": 47,
     "metadata": {},
     "output_type": "execute_result"
    }
   ],
   "source": [
    "type(model).__mro__"
   ]
  },
  {
   "cell_type": "code",
   "execution_count": 49,
   "metadata": {},
   "outputs": [
    {
     "name": "stdout",
     "output_type": "stream",
     "text": [
      "e_1 <class 'function'>\n",
      "d_2 <class 'function'>\n",
      "c_1 <class 'function'>\n",
      "a_2 <class 'function'>\n",
      "b_3 <class 'function'>\n"
     ]
    }
   ],
   "source": [
    "for component in reversed(type(model).__mro__):\n",
    "    for method_name, method in vars(component).items():\n",
    "        if method_name[0] != \"_\" and method_name[0].islower():\n",
    "            if isinstance(method, types.MethodType) or isinstance(method, types.FunctionType):\n",
    "                print(method_name, type(method))"
   ]
  },
  {
   "cell_type": "code",
   "execution_count": 67,
   "metadata": {},
   "outputs": [],
   "source": [
    "def _unsorted_members(class_instance):\n",
    "    \"\"\"yields tuple of member name and method, in order defined in the class.\n",
    "    Superclasses are ordered before the class instance.\n",
    "    \"\"\"\n",
    "    for component in reversed(type(class_instance).__mro__):\n",
    "        for method_name in vars(component):\n",
    "            method = getattr(class_instance, method_name)\n",
    "            if method_name[0] != \"_\" and method_name[0].islower():\n",
    "                if isinstance(method, types.MethodType):\n",
    "                    yield method_name, method"
   ]
  },
  {
   "cell_type": "code",
   "execution_count": 68,
   "metadata": {},
   "outputs": [
    {
     "name": "stdout",
     "output_type": "stream",
     "text": [
      "e_1 <bound method BModel.e_1 of <__main__.AModel object at 0x105d27d90>>\n",
      "d_2 <bound method BModel.d_2 of <__main__.AModel object at 0x105d27d90>>\n",
      "c_1 <bound method AModel.c_1 of <__main__.AModel object at 0x105d27d90>>\n",
      "a_2 <bound method AModel.a_2 of <__main__.AModel object at 0x105d27d90>>\n",
      "b_3 <bound method AModel.b_3 of <__main__.AModel object at 0x105d27d90>>\n"
     ]
    }
   ],
   "source": [
    "for name, meth in _unsorted_members(model):\n",
    "    print(name, getattr(model, name))"
   ]
  },
  {
   "cell_type": "code",
   "execution_count": 66,
   "metadata": {},
   "outputs": [
    {
     "data": {
      "text/plain": [
       "mappingproxy({'__module__': '__main__',\n",
       "              'c_1': <function __main__.AModel.c_1(self)>,\n",
       "              'a_2': <function __main__.AModel.a_2(self)>,\n",
       "              'b_3': <function __main__.AModel.b_3(self)>,\n",
       "              '__doc__': None})"
      ]
     },
     "execution_count": 66,
     "metadata": {},
     "output_type": "execute_result"
    }
   ],
   "source": [
    "vars(type(model))"
   ]
  },
  {
   "cell_type": "code",
   "execution_count": null,
   "metadata": {},
   "outputs": [],
   "source": []
  },
  {
   "cell_type": "code",
   "execution_count": null,
   "metadata": {},
   "outputs": [],
   "source": []
  }
 ],
 "metadata": {
  "kernelspec": {
   "display_name": "heavylight",
   "language": "python",
   "name": "python3"
  },
  "language_info": {
   "codemirror_mode": {
    "name": "ipython",
    "version": 3
   },
   "file_extension": ".py",
   "mimetype": "text/x-python",
   "name": "python",
   "nbconvert_exporter": "python",
   "pygments_lexer": "ipython3",
   "version": "3.11.5"
  }
 },
 "nbformat": 4,
 "nbformat_minor": 2
}
