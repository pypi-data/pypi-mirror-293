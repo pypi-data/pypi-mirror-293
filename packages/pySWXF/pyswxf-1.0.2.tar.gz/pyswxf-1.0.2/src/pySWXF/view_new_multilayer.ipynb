{
 "cells": [
  {
   "cell_type": "code",
   "execution_count": 15,
   "metadata": {},
   "outputs": [
    {
     "data": {
      "text/plain": [
       "Text(0.5, 0, 'theta (deg)')"
      ]
     },
     "execution_count": 15,
     "metadata": {},
     "output_type": "execute_result"
    }
   ],
   "source": [
    "from pySWXF.spec_utils import readscan\n",
    "import os\n",
    "from matplotlib import pyplot as plt\n",
    "%matplotlib tk\n",
    "datadir = 'C:\\\\Users\\\\lluri\\\\Dropbox\\\\PYTHON - Documents\\\\SWXF\\\\scans\\\\'\n",
    "fname = 'NM_NIU_NOKW_Mar21_24'\n",
    "data, scan_info = readscan(os.path.join(datadir,fname),1)\n",
    "th = data['Two Theta']/2\n",
    "I = data['Detector']/data['Seconds']\n",
    "data2, scan_info2 = readscan(os.path.join(datadir,fname),2)\n",
    "th2 = data2['Two Theta']/2\n",
    "I2 = data2['Detector']/data2['Seconds']\n",
    "scan_info2 = data['Detector']/data['Seconds']\n",
    "plt.plot(th,I)\n",
    "plt.plot(th2,I2)\n",
    "plt.yscale('log')\n",
    "plt.ylabel('cps')\n",
    "plt.xlabel('theta (deg)')"
   ]
  },
  {
   "cell_type": "markdown",
   "metadata": {},
   "source": [
    "# With 80 micron attenuator in\n",
    "refscan .05 .25 40 10\n",
    "# with no attenuator\n",
    "refscan bg .20 .40 40 10\n",
    "# with 80 micron attenuator in\n",
    "refscan .40 .50 20 10\n",
    "# with no attenuators\n",
    "refscan bg .50 2.50 200 10\n"
   ]
  },
  {
   "cell_type": "code",
   "execution_count": 16,
   "metadata": {},
   "outputs": [
    {
     "name": "stdout",
     "output_type": "stream",
     "text": [
      "total time 25.0 minutes\n"
     ]
    }
   ],
   "source": [
    "t = (40*5 + 40*5 + 20*5 + 200*5)/60\n",
    "print(f'total time {t:4.1f} minutes')"
   ]
  },
  {
   "cell_type": "code",
   "execution_count": 8,
   "metadata": {},
   "outputs": [
    {
     "data": {
      "text/plain": [
       "Index(['Theta', 'Two Theta', 'H', 'K', 'L', 'Epoch', 'Seconds', 'Detector',\n",
       "       'Monitor', 'mca'],\n",
       "      dtype='object')"
      ]
     },
     "execution_count": 8,
     "metadata": {},
     "output_type": "execute_result"
    }
   ],
   "source": [
    "data.keys()"
   ]
  },
  {
   "cell_type": "code",
   "execution_count": null,
   "metadata": {},
   "outputs": [],
   "source": []
  }
 ],
 "metadata": {
  "kernelspec": {
   "display_name": "base",
   "language": "python",
   "name": "python3"
  },
  "language_info": {
   "codemirror_mode": {
    "name": "ipython",
    "version": 3
   },
   "file_extension": ".py",
   "mimetype": "text/x-python",
   "name": "python",
   "nbconvert_exporter": "python",
   "pygments_lexer": "ipython3",
   "version": "3.11.5"
  }
 },
 "nbformat": 4,
 "nbformat_minor": 2
}
