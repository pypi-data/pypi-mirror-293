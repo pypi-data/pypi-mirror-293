{
 "cells": [
  {
   "cell_type": "code",
   "execution_count": null,
   "id": "af0e75c1-7748-44e7-974e-34112d92d813",
   "metadata": {},
   "outputs": [],
   "source": [
    "import numpy as np\n",
    "import pandas as pd\n",
    "import pytae as pt\n",
    "import seaborn as sns\n",
    "penguins = sns.load_dataset('penguins')"
   ]
  },
  {
   "cell_type": "code",
   "execution_count": null,
   "id": "e42e01b5-4b00-4f95-acec-274deda67a3c",
   "metadata": {},
   "outputs": [],
   "source": [
    "# get a list of columns\n",
    "penguins.cols()"
   ]
  },
  {
   "cell_type": "code",
   "execution_count": null,
   "id": "e7136bed-d2e1-48c5-a337-8e31fc020a98",
   "metadata": {},
   "outputs": [],
   "source": [
    "#add a group count\n",
    "df = (\n",
    "    penguins\n",
    "    .group_x()\n",
    ")\n",
    "df.head()"
   ]
  },
  {
   "cell_type": "code",
   "execution_count": null,
   "id": "87e3dd20-d5e1-4219-8aee-e842a3d52194",
   "metadata": {},
   "outputs": [],
   "source": [
    "# handle missing i.e. str missing or NaN is changed to . and numeric NaN to 0\n",
    "\n",
    "df = (\n",
    "    penguins\n",
    "    .handle_missing(fillna='$')\n",
    ")\n",
    "df.head()\n"
   ]
  },
  {
   "cell_type": "code",
   "execution_count": null,
   "id": "b17a9574-35ff-4fe2-b40f-054a0b5e5003",
   "metadata": {},
   "outputs": [],
   "source": [
    "df.clip()"
   ]
  },
  {
   "cell_type": "code",
   "execution_count": null,
   "id": "b39ba218-6361-47eb-91b2-c6f35b7a130e",
   "metadata": {},
   "outputs": [],
   "source": [
    "penguins\n"
   ]
  },
  {
   "cell_type": "code",
   "execution_count": null,
   "id": "cf3bf0ae-b4ea-45ad-a358-c3eb5042e039",
   "metadata": {},
   "outputs": [],
   "source": [
    "penguins.select('spe|sex|^n|^bi')"
   ]
  },
  {
   "cell_type": "code",
   "execution_count": null,
   "id": "3a74dbdf-4afa-4b9c-af1e-22cd016bc39a",
   "metadata": {},
   "outputs": [],
   "source": [
    "penguins.select(['species','n'])"
   ]
  },
  {
   "cell_type": "code",
   "execution_count": null,
   "id": "f29560f9-bb6e-4b0f-a143-8c75be726609",
   "metadata": {},
   "outputs": [],
   "source": [
    "df = pd.DataFrame(np.arange(12).reshape(3, 4),\n",
    "                  columns=['A', 'B_X', 'B', 'C'])\n",
    "\n",
    "print('original df')\n",
    "print(df)\n",
    "\n",
    "print('\\nselect using a list')\n",
    "print(df.select(['A','B_X']))\n",
    "\n",
    "print('\\nselect using a regex')\n",
    "print(df.select('^B|C'))\n",
    "\n",
    "print('\\nselect using a tuple of list and  regex')\n",
    "print(df.select((['A','B_X'],'^B|C')))"
   ]
  },
  {
   "cell_type": "code",
   "execution_count": null,
   "id": "efde3bab-b430-4785-bfff-6ff1f515e6a6",
   "metadata": {},
   "outputs": [],
   "source": []
  }
 ],
 "metadata": {
  "kernelspec": {
   "display_name": "py_env",
   "language": "python",
   "name": "py_env"
  },
  "language_info": {
   "codemirror_mode": {
    "name": "ipython",
    "version": 3
   },
   "file_extension": ".py",
   "mimetype": "text/x-python",
   "name": "python",
   "nbconvert_exporter": "python",
   "pygments_lexer": "ipython3",
   "version": "3.9.6"
  }
 },
 "nbformat": 4,
 "nbformat_minor": 5
}
