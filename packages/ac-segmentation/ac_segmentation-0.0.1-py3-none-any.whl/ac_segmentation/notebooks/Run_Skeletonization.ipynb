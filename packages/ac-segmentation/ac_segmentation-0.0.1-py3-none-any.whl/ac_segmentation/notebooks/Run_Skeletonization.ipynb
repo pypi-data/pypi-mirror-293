{
 "cells": [
  {
   "cell_type": "markdown",
   "id": "97c16855-3689-4bf2-840b-bda6d9429281",
   "metadata": {},
   "source": [
    "This notebook runs skeletonization on segmentation in a zarr or npy format using the tensorstore package."
   ]
  },
  {
   "cell_type": "code",
   "execution_count": null,
   "id": "dc970999",
   "metadata": {},
   "outputs": [],
   "source": [
    "import numpy\n",
    "\n",
    "from ac_segmentation.postprocess.skeletonize_array import *\n",
    "from ac_segmentation.utils.io import write_cv_skels_iter_tar\n",
    "from ac_segmentation.utils.tensorstore import open_ZarrTensor, create_EmptyTensor"
   ]
  },
  {
   "cell_type": "code",
   "execution_count": null,
   "id": "21c9dab3-1614-4b32-b728-f40a67ae79de",
   "metadata": {},
   "outputs": [],
   "source": []
  },
  {
   "cell_type": "code",
   "execution_count": null,
   "id": "a756abb6-2dde-41a3-ab20-b2e35a0a643e",
   "metadata": {},
   "outputs": [],
   "source": [
    "#Open array from zarr file or gzip npy file\n",
    "prob_map = open_ZarrTensor(\"/ACdata/Users/connorl/Image_Files/TS_Array_S32_Pos56.zarr/\", bytes_limit= 100_000_000)\n",
    "#prob_map = read_gzip_array(probability_input_path,preprocess_func=lambda x: (x.astype(numpy.float32) / 255.))"
   ]
  },
  {
   "cell_type": "code",
   "execution_count": null,
   "id": "71b236ac-2f8e-4d6d-bede-c4a6c8c3bc2f",
   "metadata": {},
   "outputs": [],
   "source": []
  },
  {
   "cell_type": "code",
   "execution_count": null,
   "id": "72fa8dfb-d1c2-4a46-b70c-f7490ad39213",
   "metadata": {},
   "outputs": [],
   "source": [
    "#Set skeletonization parameters\n",
    "prob_threshold = .05\n",
    "size_threshold = 80\n",
    "chunk_size=[1000,1000,1000]\n",
    "skeleton_output_path = \"./test.swc.gz\""
   ]
  },
  {
   "cell_type": "code",
   "execution_count": null,
   "id": "094b8e7e-d980-4280-8795-a8f15cd492ee",
   "metadata": {},
   "outputs": [],
   "source": [
    "#Run skeletonization\n",
    "binary_arr = threshold_binarize_array(prob_map, threshold=prob_threshold )\n",
    "labeled_arr, _ = label_binary_array(binary_arr, size_threshold=size_threshold)\n",
    "%time skels = skeletonize_labeled_array_concurrent(labeled_arr, chunk_size=chunk_size, n_jobs=10)"
   ]
  },
  {
   "cell_type": "code",
   "execution_count": null,
   "id": "94293457-b244-46c5-a7e8-aec746d0138f",
   "metadata": {},
   "outputs": [],
   "source": []
  },
  {
   "cell_type": "code",
   "execution_count": null,
   "id": "caa49619-f111-4d3e-9ea8-ee836876b329",
   "metadata": {},
   "outputs": [],
   "source": [
    "#Write neurons to swc tar file\n",
    "write_cv_skels_iter_tar(skeleton_output_path, skels)"
   ]
  },
  {
   "cell_type": "code",
   "execution_count": null,
   "id": "bbcc326b-9553-4ba7-9366-10d1bfd8b321",
   "metadata": {},
   "outputs": [],
   "source": []
  }
 ],
 "metadata": {
  "kernelspec": {
   "display_name": "Python 3 (ipykernel)",
   "language": "python",
   "name": "python3"
  },
  "language_info": {
   "codemirror_mode": {
    "name": "ipython",
    "version": 3
   },
   "file_extension": ".py",
   "mimetype": "text/x-python",
   "name": "python",
   "nbconvert_exporter": "python",
   "pygments_lexer": "ipython3",
   "version": "3.12.2"
  }
 },
 "nbformat": 4,
 "nbformat_minor": 5
}
