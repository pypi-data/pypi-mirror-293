{
 "cells": [
  {
   "cell_type": "code",
   "execution_count": 1,
   "id": "d8f5acd2-19f1-4592-b1ad-5771ccbe0641",
   "metadata": {},
   "outputs": [],
   "source": [
    "from ac_segmentation.tensorstore_util import zarr_to_precomputed, zarr_to_CATMAID_project\n",
    "from ac_segmentation.neurotorch.datasets.dataset import create_tensor, open_tensor"
   ]
  },
  {
   "cell_type": "code",
   "execution_count": null,
   "id": "5d3bbff2-216e-4cb9-b34b-977152561366",
   "metadata": {},
   "outputs": [],
   "source": []
  },
  {
   "cell_type": "markdown",
   "id": "24ecc67e-77f4-4b73-9d4c-8887ee34ffa9",
   "metadata": {},
   "source": [
    "**Parameter Key:** <br>\n",
    "store = the type of data store, including: memory, file, s3   <br>\n",
    "driver = the type of file object, including: zarr, n5, precomputed<br>\n",
    "dtype = datatype of numpy array <br>\n",
    "fill_value = value to fill array element with <br>\n",
    "arr = numpy array, if applicable<br>\n",
    "chunk_shape = file array size for chunked file format (EX: [64,64,64]) <br>\n",
    "res = resolution of dimensions, if not isotropic (EX: [.7,.7,.8])<br>\n",
    "scale, scales = MIP scale<br>\n",
    "AWS Key, Secret Key = AWS credentials"
   ]
  },
  {
   "cell_type": "code",
   "execution_count": null,
   "id": "4fa533ae-2d37-4c86-8f01-b97963ee3963",
   "metadata": {},
   "outputs": [],
   "source": []
  },
  {
   "cell_type": "markdown",
   "id": "7ddf3993-438a-43a2-bcbe-0df144895e26",
   "metadata": {},
   "source": [
    "**Set AWS key and secret key credentials if importing from or exporting to S3 bucket**"
   ]
  },
  {
   "cell_type": "code",
   "execution_count": 2,
   "id": "e49f9dfc-8a6b-45a0-9804-0a755100b1b8",
   "metadata": {},
   "outputs": [],
   "source": [
    "AWS_Key=\" \"\n",
    "AWS_Secret_Key=\" \""
   ]
  },
  {
   "cell_type": "code",
   "execution_count": null,
   "id": "04d12eed-2cd4-43d2-95b9-53eaad12e139",
   "metadata": {},
   "outputs": [],
   "source": []
  },
  {
   "cell_type": "markdown",
   "id": "61025931-de44-4126-a4a8-de3a8cadc13d",
   "metadata": {},
   "source": [
    "**Create a tensor object**"
   ]
  },
  {
   "cell_type": "code",
   "execution_count": null,
   "id": "7bc587fe-0f62-485b-a790-d7f123453ccb",
   "metadata": {},
   "outputs": [],
   "source": [
    "arr = create_tensor('ac-catmaid-dev/Data/Test/', arr_shape=[100,100,100,1], store='memory', driver='neuroglancer_precomputed', \n",
    "                    AWS_Key=AWS_Key, AWS_Secret_Key=AWS_Secret_Key, dtype='float32', fill_value=-np.inf)"
   ]
  },
  {
   "cell_type": "code",
   "execution_count": null,
   "id": "19bc5b51-5af8-4c77-a93d-ef5c280ef197",
   "metadata": {},
   "outputs": [],
   "source": []
  },
  {
   "cell_type": "markdown",
   "id": "e3a8029d-1283-4b8b-9ff3-c816ccd5ef0d",
   "metadata": {},
   "source": [
    "**Open a file as a tensor object**"
   ]
  },
  {
   "cell_type": "code",
   "execution_count": null,
   "id": "dd2eb542-154a-4922-ae40-baedea30412a",
   "metadata": {},
   "outputs": [],
   "source": [
    "arr = open_tensor(\"/home/connor.laughland/Other/Test_Pre/\", driver='neuroglancer_precomputed', store='file')"
   ]
  },
  {
   "cell_type": "code",
   "execution_count": null,
   "id": "e73a3d41-9388-4eff-b5f5-1c5d815653c0",
   "metadata": {
    "scrolled": true
   },
   "outputs": [],
   "source": []
  },
  {
   "cell_type": "markdown",
   "id": "c62fc68e-048f-4c9a-8c82-eab7a6cb951a",
   "metadata": {},
   "source": [
    "**Convert zarr file to precomputed file**"
   ]
  },
  {
   "cell_type": "code",
   "execution_count": null,
   "id": "ac87d594-62ab-4e53-b385-f2671f1d35bb",
   "metadata": {},
   "outputs": [],
   "source": [
    "zarr_to_precomputed(zarr_path='/ACdata/Users/kevin/ispim_ome_zarr/H17_x55_S32_230412_highres/H17_x55_S32_230412_highres.zarr/highres_Pos54/', \n",
    "                    out_path=\" \", store='file', chunks=(64,64,64), cutout=[23000,27000,0,576,0,576], \n",
    "                    scales=6, AWS_Key=AWS_Key, AWS_Secret_Key=AWS_Secret_Key)"
   ]
  },
  {
   "cell_type": "code",
   "execution_count": null,
   "id": "a69fe85d-28c4-4d53-9149-b8388f825ec5",
   "metadata": {},
   "outputs": [],
   "source": []
  },
  {
   "cell_type": "markdown",
   "id": "015c635e-25da-43d0-9554-911763ef9fc9",
   "metadata": {},
   "source": [
    "**Create CATMAID project from zarr file**"
   ]
  },
  {
   "cell_type": "code",
   "execution_count": null,
   "id": "afd26bf9-b1da-4665-9330-927d18926fd5",
   "metadata": {},
   "outputs": [],
   "source": [
    "#container_id refers to the docker image id\n",
    "stack = zarr_to_CATMAID_project(zarr_path=\"/ACdata/Users/kevin/ispim_ome_zarr/H17_x55_S39a_230808_highres/H17_x55_S39a_230808_highres.zarr/highres_Pos52/\", \n",
    "                                out_path=\" \", container_id=\" \", cutout=[23000,27000,0,576,0,576], \n",
    "                                project='TestProject', stack='TestStack', AWS_Key=AWS_Key, AWS_Secret_Key=AWS_Secret_Key, translation=(0,0,0))"
   ]
  },
  {
   "cell_type": "code",
   "execution_count": null,
   "id": "a8da055b-e40a-487f-8c64-4bf967039bd4",
   "metadata": {},
   "outputs": [],
   "source": []
  },
  {
   "cell_type": "code",
   "execution_count": null,
   "id": "ace3ed5b-f636-454f-9c1a-e7d95175de91",
   "metadata": {},
   "outputs": [],
   "source": []
  },
  {
   "cell_type": "code",
   "execution_count": null,
   "id": "9c98caa5-1d96-427f-9397-54f330cc553d",
   "metadata": {},
   "outputs": [],
   "source": []
  }
 ],
 "metadata": {
  "kernelspec": {
   "display_name": "Python 3 (ipykernel)",
   "language": "python",
   "name": "python3"
  },
  "language_info": {
   "codemirror_mode": {
    "name": "ipython",
    "version": 3
   },
   "file_extension": ".py",
   "mimetype": "text/x-python",
   "name": "python",
   "nbconvert_exporter": "python",
   "pygments_lexer": "ipython3",
   "version": "3.12.2"
  }
 },
 "nbformat": 4,
 "nbformat_minor": 5
}
