{
 "cells": [
  {
   "cell_type": "markdown",
   "id": "97c16855-3689-4bf2-840b-bda6d9429281",
   "metadata": {},
   "source": [
    "This notebook runs segmentation using the tensorstore package, and the associated changes made to the neurotorch array and predictor classes."
   ]
  },
  {
   "cell_type": "code",
   "execution_count": null,
   "id": "dc970999",
   "metadata": {},
   "outputs": [],
   "source": [
    "import tracemalloc\n",
    "from datetime import datetime\n",
    "import torch\n",
    "from matplotlib import pyplot as plt\n",
    "import os\n",
    "import numpy as np\n",
    "import ac_segmentation\n",
    "import ac_segmentation.neurotorch.datasets.dataset\n",
    "from ac_segmentation.neurotorch.datasets.dataset import open_ZarrTensor, create_EmptyTensor\n",
    "import ac_segmentation.neurotorch.core.predictor\n",
    "import ac_segmentation.neurotorch.nets.RSUNet\n",
    "\n",
    "Predictor = ac_segmentation.neurotorch.core.predictor.Predictor\n",
    "Vector = ac_segmentation.neurotorch.datasets.datatypes.Vector\n",
    "BoundingBox = ac_segmentation.neurotorch.datasets.datatypes.BoundingBox\n",
    "TSArray = ac_segmentation.neurotorch.datasets.dataset.TSArray\n",
    "Array = ac_segmentation.neurotorch.datasets.dataset.Array\n",
    "RSUNet = ac_segmentation.neurotorch.nets.RSUNet.RSUNet"
   ]
  },
  {
   "cell_type": "code",
   "execution_count": null,
   "id": "d1538236-5a84-4630-ada9-2ff49016ffec",
   "metadata": {},
   "outputs": [],
   "source": []
  },
  {
   "cell_type": "code",
   "execution_count": null,
   "id": "a4dd96a9-460b-4b6f-9d14-583e69d8b430",
   "metadata": {},
   "outputs": [],
   "source": [
    "##Open input tensor\n",
    "in_arr = open_ZarrTensor(\"/ACdata/Users/kevin/exaspim_ome_zarr/output_exa4/test.zarr/tile_x_0002_y_0001_z_0000_ch_488/0/\", bytes_limit= 100_000_000)\n",
    "in_arr = in_arr[0,0,4000:4250,4250:4500,4250:4500]#.transpose()\n",
    "\n",
    "##Create output tensor\n",
    "out_arr = create_EmptyTensor('/ACdata/Users/connorl/Image_Files/TS_Array_tile_x_0002_y_0001_z_0000_ch_488.zarr', in_arr.shape, dtype = 'float32', fill_value=-np.inf)"
   ]
  },
  {
   "cell_type": "code",
   "execution_count": null,
   "id": "76cc200e-5781-424b-9d83-b9ff84e84a12",
   "metadata": {},
   "outputs": [],
   "source": [
    "start = datetime.now()\n",
    "\n",
    "checkpt_file = \"/allen/programs/celltypes/workgroups/mousecelltypes/MachineLearning/Olga/forConnor/new_model/best.ckpt\"\n",
    "predictor = Predictor(RSUNet(), checkpt_file, gpu_device=None)\n",
    "\n",
    "###Create input and output array objects\n",
    "inarr = TSArray(in_arr, iteration_size=BoundingBox(Vector(0, 0, 0),Vector(64, 64, 64)), stride=Vector(32, 32, 32))\n",
    "outarr = TSArray(out_arr, iteration_size=BoundingBox(Vector(0, 0, 0),Vector(64, 64, 64)), stride=Vector(32, 32, 32), prob_map=True)\n",
    "\n",
    "###Optional masking\n",
    "##Li Thresholding\n",
    "#inarr.set_Li_Threshold(1000)\n",
    "\n",
    "##Set Mask from Array or Tensorstore\n",
    "#mask = np.ones(inarr.tensor.shape)\n",
    "#inarr.setMask(mask)\n",
    "\n",
    "###Optional intensity adjustment\n",
    "inarr.set_Rescale_Perc((90,100))\n",
    "\n",
    "###Run segmentation\n",
    "torch.set_num_threads(46) \n",
    "predictor.run(inarr, outarr, batch_size=100,  mini_batch_size=20, max_pix=40000)\n",
    "\n",
    "end = datetime.now()\n",
    "print(end-start)"
   ]
  },
  {
   "cell_type": "code",
   "execution_count": null,
   "id": "225bc4a7-a1bf-47f7-afec-63f5d3549c19",
   "metadata": {},
   "outputs": [],
   "source": []
  },
  {
   "cell_type": "code",
   "execution_count": null,
   "id": "09a67359-dc65-40e6-9cc5-15f59c21a839",
   "metadata": {},
   "outputs": [],
   "source": []
  },
  {
   "cell_type": "code",
   "execution_count": null,
   "id": "74337ee3-2699-49c7-9f4b-a01cf1170089",
   "metadata": {},
   "outputs": [],
   "source": []
  }
 ],
 "metadata": {
  "kernelspec": {
   "display_name": "Python 3 (ipykernel)",
   "language": "python",
   "name": "python3"
  },
  "language_info": {
   "codemirror_mode": {
    "name": "ipython",
    "version": 3
   },
   "file_extension": ".py",
   "mimetype": "text/x-python",
   "name": "python",
   "nbconvert_exporter": "python",
   "pygments_lexer": "ipython3",
   "version": "3.12.2"
  }
 },
 "nbformat": 4,
 "nbformat_minor": 5
}
