{
 "cells": [
  {
   "cell_type": "raw",
   "metadata": {
    "raw_mimetype": "text/restructuredtext"
   },
   "source": [
    ".. _virtualinstruments:\n",
    "\n",
    "|\n",
    "|\n",
    "\n",
    "Download This Notebook: :download:`VirtualInstruments.ipynb`"
   ]
  },
  {
   "cell_type": "markdown",
   "metadata": {},
   "source": [
    "# Virtual Instruments\n",
    "    \n",
    "## Introduction"
   ]
  },
  {
   "cell_type": "raw",
   "metadata": {
    "raw_mimetype": "text/restructuredtext"
   },
   "source": [
    ".. warning::\n",
    "\n",
    "    The `vi` modules depends on `PyVISA\n",
    "    <https://pyvisa.readthedocs.io/en/latest/>`_ as well as some additional\n",
    "    libraries. Make sure you've followed the instructions in the `installation\n",
    "    tutorial <Installation.ipynb>`_ to ensure a working setup. \n",
    "\n",
    "    Additionally, PyVISA can use a number of different backends to communicate\n",
    "    with instruments. The installation of these is up to the user, but there are\n",
    "    further instructions in the `PyVISA documentation <https://pyvisa.readthedocs.io>`_\n",
    "    By default, PyVISA uses it's Python VISA implementation, but certain instrument\n",
    "    configurations require their manufacturer's specific VISA library be\n",
    "    installed and used to communicate with instruments. For example, the\n",
    "    Keysight IO libraries suite has to be used to communicate with their\n",
    "    instruments over GPIB."
   ]
  },
  {
   "cell_type": "markdown",
   "metadata": {},
   "source": [
    "The virtual instrument module defines a consistent high-level interface for\n",
    "interacting with different types of instruments that can be controlled with SCPI\n",
    "(or other means). Primarily for scikit-rf, this is vector network analyzers\n",
    "(VNAs), but we are actively working on adding support for spectrum analyzers.\n",
    "\n",
    "For information on specific instruments, consult the [vi](../api/vi/index.rst)\n",
    "module's documentation.\n",
    "\n",
    "The currently supported instruments are (organized by manufacturer):\n",
    "\n",
    "### Keysight\n",
    "- [FieldFox](../api/vi/generated/skrf.vi.vna.keysight.FieldFox.rst)\n",
    "- [PNA](../api/vi/generated/skrf.vi.vna.keysight.PNA.rst)\n",
    "\n",
    "### NanoVNA\n",
    "- [NanoVNA V2](../api/vi/generated/skrf.vi.vna.nanovna.NanoVNAv2.rst)"
   ]
  },
  {
   "cell_type": "raw",
   "metadata": {
    "raw_mimetype": "text/restructuredtext"
   },
   "source": [
    ".. tip::\n",
    "\n",
    "    You can help grow scikit-rf by adding support for more instruments! It's\n",
    "    really not that complicated. Check out the `vi module documentation <../api/vi/index.rst>`_ to\n",
    "    learn how."
   ]
  },
  {
   "cell_type": "markdown",
   "metadata": {},
   "source": [
    "\n",
    "## Examples"
   ]
  },
  {
   "cell_type": "markdown",
   "metadata": {},
   "source": [
    "### Connecting to an instrument over an ethernet connection"
   ]
  },
  {
   "cell_type": "markdown",
   "metadata": {},
   "source": [
    "    from skrf.vi.vna.keysight import PNA\n",
    "\n",
    "    instr = PNA(address=\"TCPIP0::10.0.0.5::INSTR\")\n",
    "    print(instr.id)"
   ]
  },
  {
   "cell_type": "markdown",
   "metadata": {},
   "source": [
    "### Changing the frequency settings of an instrument"
   ]
  },
  {
   "cell_type": "markdown",
   "metadata": {},
   "source": [
    "    from skrf.vi.vna.keysight import PNA\n",
    "    from skrf import Frequency\n",
    "\n",
    "    instr = PNA(address=\"TCPIP0::10.0.0.5::INSTR\")\n",
    "    freq = Frequency(start=\"2.3 GHz\", stop=\"2.6 GHz\", npoints = 451, unit='hz')\n",
    "\n",
    "    instr.ch1.frequency = freq"
   ]
  },
  {
   "cell_type": "markdown",
   "metadata": {},
   "source": [
    "### Creating an S21 measurement on the instrument"
   ]
  },
  {
   "cell_type": "markdown",
   "metadata": {},
   "source": [
    "    from skrf.vi.vna.keysight import PNA\n",
    "\n",
    "    instr = PNA(address=\"TCPIP0::10.0.0.5::INSTR\")\n",
    "    instr.ch1.create_measurement(name=\"SKRF S21\", parameter=\"S21\")"
   ]
  },
  {
   "cell_type": "markdown",
   "metadata": {},
   "source": [
    "### Getting a full 2-port network and plotting"
   ]
  },
  {
   "cell_type": "markdown",
   "metadata": {},
   "source": [
    "    from skrf.vi.vna.keysight import PNA\n",
    "\n",
    "    instr = PNA(address=\"TCPIP0::10.0.0.5::INSTR\")\n",
    "\n",
    "    # Here we create temporary S11 and S22 to make sure ports 1 and 2 are driven\n",
    "    # This might change at some point to having get_snp_network do this \n",
    "    # automatically in the background\n",
    "    instr.ch1.create_measurement(name=\"Temp S11\", parameter=\"S11\")\n",
    "    instr.ch1.create_measurement(name=\"Temp S22\", parameter=\"S22\")\n",
    "\n",
    "    ntwk = instr.ch1.get_snp_network(ports=(1,2))\n",
    "    ntwk.plot_s_db()\n",
    "\n",
    "    instr.ch1.delete_measurement(name=\"Temp S11\")\n",
    "    instr.ch1.delete_measurement(name=\"Temp S22\")"
   ]
  }
 ],
 "metadata": {
  "celltoolbar": "Raw Cell Format",
  "kernelspec": {
   "display_name": "Python 3.10.4 ('skrf')",
   "language": "python",
   "name": "python3"
  },
  "language_info": {
   "codemirror_mode": {
    "name": "ipython",
    "version": 3
   },
   "file_extension": ".py",
   "mimetype": "text/x-python",
   "name": "python",
   "nbconvert_exporter": "python",
   "pygments_lexer": "ipython3",
   "version": "3.10.4"
  },
  "vscode": {
   "interpreter": {
    "hash": "6e9ab46c0308d25f8ecf2297d605bcf30c0184a06f23fc8ad30aef47f26c08c0"
   }
  }
 },
 "nbformat": 4,
 "nbformat_minor": 1
}
