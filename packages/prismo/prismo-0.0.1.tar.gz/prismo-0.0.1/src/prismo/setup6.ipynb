{
 "cells": [
  {
   "cell_type": "code",
   "execution_count": 1,
   "id": "f064d239-3eaa-4f7a-ad7b-e7934abfa1d8",
   "metadata": {},
   "outputs": [],
   "source": [
    "%load_ext autoreload\n",
    "%autoreload 2\n",
    "from napari.qt.threading import thread_worker\n",
    "import control\n",
    "import napari\n",
    "import gui\n",
    "import time\n",
    "import numpy as np"
   ]
  },
  {
   "cell_type": "code",
   "execution_count": 46,
   "id": "344e4532-5950-4933-bdcc-b15d62fcc759",
   "metadata": {},
   "outputs": [
    {
     "data": {
      "text/plain": [
       "array([[24613, 25193, 26493, ..., 44956, 45490, 44335],\n",
       "       [24971, 24613, 24472, ..., 41890, 42768, 44747],\n",
       "       [25884, 24415, 24511, ..., 41577, 42125, 45096],\n",
       "       ...,\n",
       "       [59574, 57156, 57166, ..., 47110, 47142, 50554],\n",
       "       [60618, 57621, 56782, ..., 47145, 47929, 48542],\n",
       "       [59359, 59838, 59903, ..., 50149, 48408, 47929]], dtype=uint16)"
      ]
     },
     "execution_count": 46,
     "metadata": {},
     "output_type": "execute_result"
    }
   ],
   "source": [
    "c.snap()"
   ]
  },
  {
   "cell_type": "code",
   "execution_count": 2,
   "id": "ca9dd0a9-a818-4021-bed3-34a50dc80dbd",
   "metadata": {},
   "outputs": [
    {
     "ename": "RuntimeError",
     "evalue": "Cannot get current position label",
     "output_type": "error",
     "traceback": [
      "\u001b[1;31m---------------------------------------------------------------------------\u001b[0m",
      "\u001b[1;31mRuntimeError\u001b[0m                              Traceback (most recent call last)",
      "Cell \u001b[1;32mIn[2], line 67\u001b[0m\n\u001b[0;32m     65\u001b[0m c\u001b[38;5;241m.\u001b[39m_core\u001b[38;5;241m.\u001b[39msetTimeoutMs(\u001b[38;5;241m100000\u001b[39m)\n\u001b[0;32m     66\u001b[0m c\u001b[38;5;241m.\u001b[39mexposure \u001b[38;5;241m=\u001b[39m \u001b[38;5;241m100\u001b[39m\n\u001b[1;32m---> 67\u001b[0m \u001b[43mc\u001b[49m\u001b[38;5;241;43m.\u001b[39;49m\u001b[43mobjective\u001b[49m \u001b[38;5;241m=\u001b[39m \u001b[38;5;124m\"\u001b[39m\u001b[38;5;124m4x\u001b[39m\u001b[38;5;124m\"\u001b[39m\n",
      "File \u001b[1;32m~\\repos\\prismo\\src\\prismo\\control.py:329\u001b[0m, in \u001b[0;36mControl.__setattr__\u001b[1;34m(self, name, value)\u001b[0m\n\u001b[0;32m    327\u001b[0m \u001b[38;5;28;01mdef\u001b[39;00m \u001b[38;5;21m__setattr__\u001b[39m(\u001b[38;5;28mself\u001b[39m, name, value):\n\u001b[0;32m    328\u001b[0m     \u001b[38;5;28;01mfor\u001b[39;00m device \u001b[38;5;129;01min\u001b[39;00m \u001b[38;5;28mself\u001b[39m\u001b[38;5;241m.\u001b[39mdevices:\n\u001b[1;32m--> 329\u001b[0m         \u001b[38;5;28;01mif\u001b[39;00m name \u001b[38;5;241m==\u001b[39m device\u001b[38;5;241m.\u001b[39mname \u001b[38;5;129;01mand\u001b[39;00m \u001b[38;5;28;43misinstance\u001b[39;49m\u001b[43m(\u001b[49m\u001b[43mdevice\u001b[49m\u001b[43m,\u001b[49m\u001b[43m \u001b[49m\u001b[43mStateful\u001b[49m\u001b[43m)\u001b[49m:\n\u001b[0;32m    330\u001b[0m             device\u001b[38;5;241m.\u001b[39mstate \u001b[38;5;241m=\u001b[39m value\n\u001b[0;32m    331\u001b[0m             \u001b[38;5;28;01mreturn\u001b[39;00m\n",
      "File \u001b[1;32m~\\miniforge3\\lib\\typing.py:1506\u001b[0m, in \u001b[0;36m_ProtocolMeta.__instancecheck__\u001b[1;34m(cls, instance)\u001b[0m\n\u001b[0;32m   1504\u001b[0m     \u001b[38;5;28;01mreturn\u001b[39;00m \u001b[38;5;28;01mTrue\u001b[39;00m\n\u001b[0;32m   1505\u001b[0m \u001b[38;5;28;01mif\u001b[39;00m \u001b[38;5;28mcls\u001b[39m\u001b[38;5;241m.\u001b[39m_is_protocol:\n\u001b[1;32m-> 1506\u001b[0m     \u001b[38;5;28;01mif\u001b[39;00m \u001b[38;5;28;43mall\u001b[39;49m\u001b[43m(\u001b[49m\u001b[38;5;28;43mhasattr\u001b[39;49m\u001b[43m(\u001b[49m\u001b[43minstance\u001b[49m\u001b[43m,\u001b[49m\u001b[43m \u001b[49m\u001b[43mattr\u001b[49m\u001b[43m)\u001b[49m\u001b[43m \u001b[49m\u001b[38;5;129;43;01mand\u001b[39;49;00m\n\u001b[0;32m   1507\u001b[0m \u001b[43m            \u001b[49m\u001b[38;5;66;43;03m# All *methods* can be blocked by setting them to None.\u001b[39;49;00m\n\u001b[0;32m   1508\u001b[0m \u001b[43m            \u001b[49m\u001b[43m(\u001b[49m\u001b[38;5;129;43;01mnot\u001b[39;49;00m\u001b[43m \u001b[49m\u001b[38;5;28;43mcallable\u001b[39;49m\u001b[43m(\u001b[49m\u001b[38;5;28;43mgetattr\u001b[39;49m\u001b[43m(\u001b[49m\u001b[38;5;28;43mcls\u001b[39;49m\u001b[43m,\u001b[49m\u001b[43m \u001b[49m\u001b[43mattr\u001b[49m\u001b[43m,\u001b[49m\u001b[43m \u001b[49m\u001b[38;5;28;43;01mNone\u001b[39;49;00m\u001b[43m)\u001b[49m\u001b[43m)\u001b[49m\u001b[43m \u001b[49m\u001b[38;5;129;43;01mor\u001b[39;49;00m\n\u001b[0;32m   1509\u001b[0m \u001b[43m             \u001b[49m\u001b[38;5;28;43mgetattr\u001b[39;49m\u001b[43m(\u001b[49m\u001b[43minstance\u001b[49m\u001b[43m,\u001b[49m\u001b[43m \u001b[49m\u001b[43mattr\u001b[49m\u001b[43m)\u001b[49m\u001b[43m \u001b[49m\u001b[38;5;129;43;01mis\u001b[39;49;00m\u001b[43m \u001b[49m\u001b[38;5;129;43;01mnot\u001b[39;49;00m\u001b[43m \u001b[49m\u001b[38;5;28;43;01mNone\u001b[39;49;00m\u001b[43m)\u001b[49m\n\u001b[0;32m   1510\u001b[0m \u001b[43m            \u001b[49m\u001b[38;5;28;43;01mfor\u001b[39;49;00m\u001b[43m \u001b[49m\u001b[43mattr\u001b[49m\u001b[43m \u001b[49m\u001b[38;5;129;43;01min\u001b[39;49;00m\u001b[43m \u001b[49m\u001b[43m_get_protocol_attrs\u001b[49m\u001b[43m(\u001b[49m\u001b[38;5;28;43mcls\u001b[39;49m\u001b[43m)\u001b[49m\u001b[43m)\u001b[49m:\n\u001b[0;32m   1511\u001b[0m         \u001b[38;5;28;01mreturn\u001b[39;00m \u001b[38;5;28;01mTrue\u001b[39;00m\n\u001b[0;32m   1512\u001b[0m \u001b[38;5;28;01mreturn\u001b[39;00m \u001b[38;5;28msuper\u001b[39m()\u001b[38;5;241m.\u001b[39m\u001b[38;5;21m__instancecheck__\u001b[39m(instance)\n",
      "File \u001b[1;32m~\\miniforge3\\lib\\typing.py:1506\u001b[0m, in \u001b[0;36m<genexpr>\u001b[1;34m(.0)\u001b[0m\n\u001b[0;32m   1504\u001b[0m     \u001b[38;5;28;01mreturn\u001b[39;00m \u001b[38;5;28;01mTrue\u001b[39;00m\n\u001b[0;32m   1505\u001b[0m \u001b[38;5;28;01mif\u001b[39;00m \u001b[38;5;28mcls\u001b[39m\u001b[38;5;241m.\u001b[39m_is_protocol:\n\u001b[1;32m-> 1506\u001b[0m     \u001b[38;5;28;01mif\u001b[39;00m \u001b[38;5;28mall\u001b[39m(\u001b[38;5;28;43mhasattr\u001b[39;49m\u001b[43m(\u001b[49m\u001b[43minstance\u001b[49m\u001b[43m,\u001b[49m\u001b[43m \u001b[49m\u001b[43mattr\u001b[49m\u001b[43m)\u001b[49m \u001b[38;5;129;01mand\u001b[39;00m\n\u001b[0;32m   1507\u001b[0m             \u001b[38;5;66;03m# All *methods* can be blocked by setting them to None.\u001b[39;00m\n\u001b[0;32m   1508\u001b[0m             (\u001b[38;5;129;01mnot\u001b[39;00m \u001b[38;5;28mcallable\u001b[39m(\u001b[38;5;28mgetattr\u001b[39m(\u001b[38;5;28mcls\u001b[39m, attr, \u001b[38;5;28;01mNone\u001b[39;00m)) \u001b[38;5;129;01mor\u001b[39;00m\n\u001b[0;32m   1509\u001b[0m              \u001b[38;5;28mgetattr\u001b[39m(instance, attr) \u001b[38;5;129;01mis\u001b[39;00m \u001b[38;5;129;01mnot\u001b[39;00m \u001b[38;5;28;01mNone\u001b[39;00m)\n\u001b[0;32m   1510\u001b[0m             \u001b[38;5;28;01mfor\u001b[39;00m attr \u001b[38;5;129;01min\u001b[39;00m _get_protocol_attrs(\u001b[38;5;28mcls\u001b[39m)):\n\u001b[0;32m   1511\u001b[0m         \u001b[38;5;28;01mreturn\u001b[39;00m \u001b[38;5;28;01mTrue\u001b[39;00m\n\u001b[0;32m   1512\u001b[0m \u001b[38;5;28;01mreturn\u001b[39;00m \u001b[38;5;28msuper\u001b[39m()\u001b[38;5;241m.\u001b[39m\u001b[38;5;21m__instancecheck__\u001b[39m(instance)\n",
      "File \u001b[1;32m~\\repos\\prismo\\src\\prismo\\control.py:500\u001b[0m, in \u001b[0;36mObjective.state\u001b[1;34m(self)\u001b[0m\n\u001b[0;32m    498\u001b[0m     \u001b[38;5;28;01mreturn\u001b[39;00m \u001b[38;5;28mself\u001b[39m\u001b[38;5;241m.\u001b[39m_core\u001b[38;5;241m.\u001b[39mgetState(\u001b[38;5;28mself\u001b[39m\u001b[38;5;241m.\u001b[39mname)\n\u001b[0;32m    499\u001b[0m \u001b[38;5;28;01melse\u001b[39;00m:\n\u001b[1;32m--> 500\u001b[0m     \u001b[38;5;28;01mreturn\u001b[39;00m \u001b[38;5;28;43mself\u001b[39;49m\u001b[38;5;241;43m.\u001b[39;49m\u001b[43m_core\u001b[49m\u001b[38;5;241;43m.\u001b[39;49m\u001b[43mgetStateLabel\u001b[49m\u001b[43m(\u001b[49m\u001b[38;5;28;43mself\u001b[39;49m\u001b[38;5;241;43m.\u001b[39;49m\u001b[43mname\u001b[49m\u001b[43m)\u001b[49m\n",
      "\u001b[1;31mRuntimeError\u001b[0m: Cannot get current position label"
     ]
    }
   ],
   "source": [
    "config = {\n",
    "    \"valves\": {\n",
    "        \"ip\": \"192.168.1.2\",\n",
    "        \"device\": \"wago_valves\"\n",
    "    },\n",
    "    \"mux\": {\n",
    "        \"device\": \"mux\",\n",
    "        \"mapping\": {\n",
    "            \"0_0\": 47,\n",
    "            \"0_1\": 46,\n",
    "            \"1_0\": 45,\n",
    "            \"1_1\": 44,\n",
    "            \"2_0\": 43,\n",
    "            \"2_1\": 42,\n",
    "            \"3_0\": 41,\n",
    "            \"3_1\": 40,\n",
    "            \"waste\": 37,\n",
    "            \"io\": 36,\n",
    "        }\n",
    "    },\n",
    "    \"mc\": {\n",
    "        \"device\": \"minichip\",\n",
    "        \"mapping\": {\n",
    "            \"0_0\": 31,\n",
    "            \"0_1\": 30,\n",
    "            \"1_0\": 28,\n",
    "            \"1_1\": 27,\n",
    "            \"2_0\": 26,\n",
    "            \"2_1\": 25,\n",
    "            \"buttons\": 24,\n",
    "            \"sandwiches\": 29,\n",
    "        }\n",
    "    },\n",
    "    \"camera\": {\n",
    "        \"device\": \"zyla_camera\"\n",
    "    },\n",
    "    \"objective\": {\n",
    "        \"device\": \"ti2_objective\",\n",
    "        \"states\": [\"4x\", \"?\", \"4x\", \"??\", \"???\", \"????\"],\n",
    "        \"zooms\": [0, 10, 4, 0, 0, 0]\n",
    "    },\n",
    "    \"light\": {\n",
    "        \"device\": \"sola_light\",\n",
    "        \"port\": \"COM3\"\n",
    "    },\n",
    "    \"up_filter\": {\n",
    "        \"device\": \"ti2_filter1\",\n",
    "        \"states\": [\"mcherry\", \"egfp\", \"open1\", \"cy5\", \"brightfield\", \"open2\"]\n",
    "    },\n",
    "    \"down_filter\": {\n",
    "        \"device\": \"ti2_filter2\"\n",
    "    },\n",
    "    \"stage\": {\n",
    "        \"device\": \"asi_stage\",\n",
    "        \"port\": \"COM4\"\n",
    "    },\n",
    "    \"focus\": {\n",
    "        \"device\": \"ti2_focus\"\n",
    "    },\n",
    "    \"lightpath\": {\n",
    "        \"device\": \"ti2_lightpath\"\n",
    "    },\n",
    "}\n",
    "c = control.load(config, path=\"C:/Users/karlk/Micro-Manager-2.0\")\n",
    "c._core.setTimeoutMs(100000)\n",
    "c.exposure = 100\n",
    "c.objective = \"4x\""
   ]
  },
  {
   "cell_type": "code",
   "execution_count": 101,
   "id": "b45bc69d-ce41-45b8-85c3-bfda4ed70a12",
   "metadata": {},
   "outputs": [],
   "source": [
    "c.valves[46] = 1"
   ]
  },
  {
   "cell_type": "code",
   "execution_count": 105,
   "id": "a944d40f-1100-466c-b45f-c38a146299ec",
   "metadata": {},
   "outputs": [],
   "source": [
    "c.mc.io = \"open\""
   ]
  },
  {
   "cell_type": "code",
   "execution_count": null,
   "id": "10ed7e91-02cb-4742-b489-3f71692079ce",
   "metadata": {},
   "outputs": [],
   "source": [
    "def open_waste():\n",
    "    c.valves[43] = 1\n",
    "    c.valves[44] = 0\n",
    "\"1_0\": 45,\n",
    "\"1_1\": 44,\n",
    "\"2_0\": 43,\n",
    "\"2_1\": 42,"
   ]
  },
  {
   "cell_type": "code",
   "execution_count": 103,
   "id": "deaebb68-4da5-412b-a8c5-6ebb724ab78f",
   "metadata": {},
   "outputs": [],
   "source": [
    "c.valves[44] = 0"
   ]
  },
  {
   "cell_type": "code",
   "execution_count": 102,
   "id": "58e8a347-861b-4172-b497-ad87e37f9517",
   "metadata": {},
   "outputs": [],
   "source": [
    "c.mux = \"closed\""
   ]
  },
  {
   "cell_type": "code",
   "execution_count": null,
   "id": "2b0fafa1-59b7-4257-8563-075b7dcbc570",
   "metadata": {},
   "outputs": [],
   "source": [
    "import time\n",
    "pbs = 0\n",
    "bbsa = 1\n",
    "na = 2\n",
    "ab = 3\n",
    "c.mux = \"closed\"\n",
    "c.mc.snw = 0\n",
    "c.mc.btn = 0\n"
   ]
  },
  {
   "cell_type": "code",
   "execution_count": null,
   "id": "9bf9ef13-26f4-42fe-a896-62b34c89218c",
   "metadata": {},
   "outputs": [],
   "source": [
    "print('>> 1/18. Starting Device Patterning for devices {}. \\\n",
    "    Starting with all valves closed. NOTE: flow of non-biotinylated BSA \\\n",
    "    should have already been done')\n",
    "print('2/18. Opening sandwiches, outlet, bBSA inlet, and waste. \\\n",
    "    Flushing bBSA through inlet tree to waste for 30s')\n",
    "\n",
    "vc.openValves(devices, sandwichValves + outlet + bbsaValve + wasteValve)\n",
    "time.sleep(30)\n",
    "\n",
    "print('3/18. Done Flushing bBSA to waste. Flushing bBSA through \\\n",
    "    devices with buttons closed for 5min')\n",
    "vc.closeValves(devices, wasteValve)\n",
    "vc.openValves(devices, inletValve)\n",
    "time.sleep(300)\n",
    "\n",
    "print('4/18. Opened buttons with bBSA flowing through devices to waste for 35min')\n",
    "vc.openValves(devices, buttonValves)\n",
    "time.sleep(2100)\n",
    "\n",
    "print('5/18. Done Flowing bBSA through devices and closed inlet. \\\n",
    "    Flushing PBS through inlet tree to waste for 30s')\n",
    "vc.closeValves(devices, bbsaValve + inletValve)\n",
    "vc.openValves(devices, bufferValve + wasteValve)\n",
    "time.sleep(30)\n",
    "\n",
    "print('6/18. Done flowing PBS to waste. Flushing PBS through device \\\n",
    "    with  buttons open for 10min')\n",
    "vc.closeValves(devices,  wasteValve)\n",
    "vc.openValves(devices, inletValve)\n",
    "time.sleep(600)\n",
    "\n",
    "print('7/18. Done flushing PBS through devices. \\\n",
    "    Flowing neutravidin through inlet tree to waste for 30s')\n",
    "vc.closeValves(devices, bufferValve + inletValve)\n",
    "vc.openValves(devices, naValve + wasteValve)\n",
    "time.sleep(30)\n",
    "\n",
    "print('8/18. Done flushing Neutravidin to waste. \\\n",
    "    Flowing Neutravidin through devices with buttons open for 30min')\n",
    "vc.closeValves(devices, wasteValve)\n",
    "vc.openValves(devices, inletValve)\n",
    "time.sleep(1800)\n",
    "\n",
    "print('9/18. Done flowing Neutravidin through devices. \\\n",
    "    Flowing PBS through devices with buttons open for 10min')\n",
    "vc.closeValves(devices, naValve)\n",
    "vc.openValves(devices, bufferValve)\n",
    "time.sleep(600)\n",
    "\n",
    "print('10/18. Done flowing PBS through devices and closed buttons. \\\n",
    "    Flowing bBSA through the device for another 35min (quench walls only)')\n",
    "vc.closeValves(devices, bufferValve + buttonValves)\n",
    "vc.openValves(devices, bbsaValve)   \n",
    "time.sleep(2100)\n",
    "\n",
    "print('11/18. Done flowing bBSA through devices. \\\n",
    "    Flowing PBS through the device for 10min. **NEXT STEP IS ANTIBODY FLOWING**')\n",
    "vc.closeValves(devices, bbsaValve)\n",
    "vc.openValves(devices, bufferValve)\n",
    "time.sleep(600)\n",
    "\n",
    "print('12/18. Done flowing PBS through devices and closed inlet. \\\n",
    "    Flowing Antibody through inlet tree to waste for 30s')\n",
    "vc.closeValves(devices, bufferValve + inletValve)\n",
    "vc.openValves(devices, antibodyValve + wasteValve)\n",
    "time.sleep(30)\n",
    "        \n",
    "print('13/18. Done flowing Antibody through inlet tree. Flowing \\\n",
    "    Antibody through device for 2min')\n",
    "vc.closeValves(devices, wasteValve)\n",
    "vc.openValves(devices, inletValve)\n",
    "time.sleep(120)\n",
    "\n",
    "print('14/18. While flowing Antibody through devices, opened buttons. \\\n",
    "    Flowing for 13.3min')\n",
    "vc.openValves(devices, buttonValves)\n",
    "time.sleep(800)\n",
    "\n",
    "print('15/18. Closed buttons while flowing Antibody through device for 30s')\n",
    "vc.closeValves(devices, buttonValves)\n",
    "time.sleep(30)\n",
    "\n",
    "print('16/18. Done flowing Antibody through device. Flowing PBS through \\\n",
    "    inlet tree to waste for 30s')\n",
    "vc.closeValves(devices, antibodyValve + inletValve)\n",
    "vc.openValves(devices, bufferValve + wasteValve)\n",
    "time.sleep(30)      \n",
    "\n",
    "print('17/18. Done flowing PBS to waste. Flowing PBS through device for 10min')\n",
    "vc.closeValves(devices, wasteValve)\n",
    "vc.openValves(devices, inletValve)\n",
    "time.sleep(600)\n",
    "\n",
    "print('18/18. Closed the outlets')\n",
    "vc.closeValves(devices, outlet)\n",
    "\n",
    "print('>> Done with device patterning')\n"
   ]
  },
  {
   "cell_type": "code",
   "execution_count": 71,
   "id": "d3b2b6f5-77b8-4a21-9530-c7564c8b5630",
   "metadata": {},
   "outputs": [
    {
     "data": {
      "text/plain": [
       "(Viewer(camera=Camera(center=(0.0, 1023.5, 1023.5), zoom=0.28759765625, angles=(0.0, 0.0, 90.0), perspective=0.0, mouse_pan=True, mouse_zoom=True), cursor=Cursor(position=(1.0, 1.0), scaled=True, size=1, style=<CursorStyle.STANDARD: 'standard'>), dims=Dims(ndim=2, ndisplay=2, last_used=0, range=((0.0, 2048.0, 1.0), (0.0, 2048.0, 1.0)), current_step=(1023, 1023), order=(0, 1), axis_labels=('0', '1')), grid=GridCanvas(stride=1, shape=(-1, -1), enabled=False), layers=[<Image layer 'live' at 0x1f4a60882b0>], help='use <2> for transform', status='Ready', tooltip=Tooltip(visible=False, text=''), theme='dark', title='napari', mouse_over_canvas=False, mouse_move_callbacks=[], mouse_drag_callbacks=[], mouse_double_click_callbacks=[], mouse_wheel_callbacks=[<function dims_scroll at 0x000001F41026E9E0>], _persisted_mouse_event={}, _mouse_drag_gen={}, _mouse_wheel_gen={}, keymap={}),\n",
       " <napari._qt.qthreading.GeneratorWorker at 0x1f411e95ea0>)"
      ]
     },
     "execution_count": 71,
     "metadata": {},
     "output_type": "execute_result"
    }
   ],
   "source": [
    "gui.live(c)"
   ]
  },
  {
   "cell_type": "code",
   "execution_count": 68,
   "id": "fb934d58-2099-460e-8851-4ead5df2c413",
   "metadata": {},
   "outputs": [],
   "source": [
    "c.mc.snw = 0"
   ]
  },
  {
   "cell_type": "code",
   "execution_count": 10,
   "id": "2be4c9d1-8557-49d8-a886-df4e21adf611",
   "metadata": {},
   "outputs": [
    {
     "ename": "RuntimeError",
     "evalue": "Cannot get position label at index 0",
     "output_type": "error",
     "traceback": [
      "\u001b[1;31m---------------------------------------------------------------------------\u001b[0m",
      "\u001b[1;31mRuntimeError\u001b[0m                              Traceback (most recent call last)",
      "Cell \u001b[1;32mIn[10], line 1\u001b[0m\n\u001b[1;32m----> 1\u001b[0m \u001b[43mc\u001b[49m\u001b[38;5;241;43m.\u001b[39;49m\u001b[43m_core\u001b[49m\u001b[38;5;241;43m.\u001b[39;49m\u001b[43msetState\u001b[49m\u001b[43m(\u001b[49m\u001b[38;5;124;43m\"\u001b[39;49m\u001b[38;5;124;43mobjective\u001b[39;49m\u001b[38;5;124;43m\"\u001b[39;49m\u001b[43m,\u001b[49m\u001b[43m \u001b[49m\u001b[38;5;241;43m0\u001b[39;49m\u001b[43m)\u001b[49m\n",
      "\u001b[1;31mRuntimeError\u001b[0m: Cannot get position label at index 0"
     ]
    }
   ],
   "source": [
    "c._core.setState(\"objective\", 0)"
   ]
  },
  {
   "cell_type": "code",
   "execution_count": 7,
   "id": "1d0cbba2-bb4a-46f0-9d99-d21ff1542cb2",
   "metadata": {},
   "outputs": [
    {
     "data": {
      "text/plain": [
       "(Viewer(camera=Camera(center=(0.0, 1023.5, 1023.5), zoom=0.28759765625, angles=(0.0, 0.0, 90.0), perspective=0.0, mouse_pan=True, mouse_zoom=True), cursor=Cursor(position=(1.0, 1.0), scaled=True, size=1, style=<CursorStyle.STANDARD: 'standard'>), dims=Dims(ndim=2, ndisplay=2, last_used=0, range=((0.0, 2048.0, 1.0), (0.0, 2048.0, 1.0)), current_step=(1023, 1023), order=(0, 1), axis_labels=('0', '1')), grid=GridCanvas(stride=1, shape=(-1, -1), enabled=False), layers=[<Image layer 'live' at 0x1f420a64ee0>], help='use <2> for transform', status='Ready', tooltip=Tooltip(visible=False, text=''), theme='dark', title='napari', mouse_over_canvas=False, mouse_move_callbacks=[], mouse_drag_callbacks=[], mouse_double_click_callbacks=[], mouse_wheel_callbacks=[<function dims_scroll at 0x000001F41026E9E0>], _persisted_mouse_event={}, _mouse_drag_gen={}, _mouse_wheel_gen={}, keymap={}),\n",
       " <napari._qt.qthreading.GeneratorWorker at 0x1f420c7d480>)"
      ]
     },
     "execution_count": 7,
     "metadata": {},
     "output_type": "execute_result"
    }
   ],
   "source": [
    "gui.live(c)"
   ]
  },
  {
   "cell_type": "code",
   "execution_count": 11,
   "id": "572af461-5bb8-41ce-8f02-32925d4e4dfd",
   "metadata": {},
   "outputs": [],
   "source": [
    "c._core.loadDevice(\"dia\", \"NikonTi2\",\"DiaLamp\")"
   ]
  },
  {
   "cell_type": "code",
   "execution_count": null,
   "id": "a8b4ac01-3faf-4923-bc42-61a590c68f86",
   "metadata": {},
   "outputs": [],
   "source": [
    "pbs = 0\n"
   ]
  },
  {
   "cell_type": "code",
   "execution_count": 45,
   "id": "fdb221d3-bb8e-4d41-bf68-beac10fa6f2f",
   "metadata": {},
   "outputs": [],
   "source": [
    "c.mux = \"waste\""
   ]
  },
  {
   "cell_type": "code",
   "execution_count": 12,
   "id": "631f80f4-6dd7-4ec9-ba38-800d6621cb92",
   "metadata": {},
   "outputs": [],
   "source": [
    "c._core.initializeDevice(\"dia\")"
   ]
  },
  {
   "cell_type": "code",
   "execution_count": 13,
   "id": "53720f25-1ee3-4616-b7b9-ea75ddbd9f39",
   "metadata": {},
   "outputs": [],
   "source": [
    "c._core.setProperty(\"dia\", \"State\", \"1\")"
   ]
  },
  {
   "cell_type": "code",
   "execution_count": 198,
   "id": "c5a37c3b-7850-44bb-b06c-9c3126d6fede",
   "metadata": {},
   "outputs": [],
   "source": [
    "c.valves[26] = 1"
   ]
  },
  {
   "cell_type": "code",
   "execution_count": 18,
   "id": "cb696abd-eadb-4f0f-aac5-c05b2b02c499",
   "metadata": {},
   "outputs": [],
   "source": [
    "c.exposure = 1"
   ]
  },
  {
   "cell_type": "code",
   "execution_count": 146,
   "id": "15ca03f4-bb84-4ec7-8fed-d33ed80980e7",
   "metadata": {},
   "outputs": [],
   "source": [
    "for i in range(30, 40):\n",
    "    c.valves[i] = 1"
   ]
  },
  {
   "cell_type": "code",
   "execution_count": 173,
   "id": "b0850ff6-e2d2-400a-9335-fbe35cd7889d",
   "metadata": {},
   "outputs": [],
   "source": [
    "c._core.setProperty(\"dia\", \"State\", \"0\")"
   ]
  },
  {
   "cell_type": "code",
   "execution_count": 181,
   "id": "7ea35520-72e6-4bdb-9c83-540bc2e30e3a",
   "metadata": {},
   "outputs": [],
   "source": [
    "c.valves[40] = 1"
   ]
  },
  {
   "cell_type": "code",
   "execution_count": 184,
   "id": "68be3472-e500-4e2a-915b-98836a463ec4",
   "metadata": {},
   "outputs": [],
   "source": [
    "for i in range(30):\n",
    "    time.sleep(1)\n",
    "    for j in range(24, 32):\n",
    "        c.valves[j] = 0\n",
    "    time.sleep(1)\n",
    "    for j in range(24, 32):\n",
    "        c.valves[j] = 1"
   ]
  },
  {
   "cell_type": "code",
   "execution_count": 7,
   "id": "654e0916-5cc2-441b-95a9-c4ddc6397c35",
   "metadata": {},
   "outputs": [
    {
     "data": {
      "text/plain": [
       "(Viewer(camera=Camera(center=(0.0, 1023.5, 1023.5), zoom=0.28759765625, angles=(0.0, 0.0, 90.0), perspective=0.0, mouse_pan=True, mouse_zoom=True), cursor=Cursor(position=(1.0, 1.0), scaled=True, size=1, style=<CursorStyle.STANDARD: 'standard'>), dims=Dims(ndim=2, ndisplay=2, last_used=0, range=((0.0, 2048.0, 1.0), (0.0, 2048.0, 1.0)), current_step=(1023, 1023), order=(0, 1), axis_labels=('0', '1')), grid=GridCanvas(stride=1, shape=(-1, -1), enabled=False), layers=[<Image layer 'live' at 0x205a20769b0>], help='use <2> for transform', status='Ready', tooltip=Tooltip(visible=False, text=''), theme='dark', title='napari', mouse_over_canvas=False, mouse_move_callbacks=[], mouse_drag_callbacks=[], mouse_double_click_callbacks=[], mouse_wheel_callbacks=[<function dims_scroll at 0x0000020591D56B90>], _persisted_mouse_event={}, _mouse_drag_gen={}, _mouse_wheel_gen={}, keymap={}),\n",
       " <napari._qt.qthreading.GeneratorWorker at 0x205a20e6320>)"
      ]
     },
     "execution_count": 7,
     "metadata": {},
     "output_type": "execute_result"
    },
    {
     "name": "stderr",
     "output_type": "stream",
     "text": [
      "WARNING: Traceback (most recent call last):\n",
      "  File \"C:\\Users\\karlk\\miniforge3\\lib\\runpy.py\", line 196, in _run_module_as_main\n",
      "    return _run_code(code, main_globals, None,\n",
      "  File \"C:\\Users\\karlk\\miniforge3\\lib\\runpy.py\", line 86, in _run_code\n",
      "    exec(code, run_globals)\n",
      "  File \"C:\\Users\\karlk\\miniforge3\\lib\\site-packages\\ipykernel_launcher.py\", line 17, in <module>\n",
      "    app.launch_new_instance()\n",
      "  File \"C:\\Users\\karlk\\miniforge3\\lib\\site-packages\\traitlets\\config\\application.py\", line 1075, in launch_instance\n",
      "    app.start()\n",
      "  File \"C:\\Users\\karlk\\miniforge3\\lib\\site-packages\\ipykernel\\kernelapp.py\", line 739, in start\n",
      "    self.io_loop.start()\n",
      "  File \"C:\\Users\\karlk\\miniforge3\\lib\\site-packages\\tornado\\platform\\asyncio.py\", line 195, in start\n",
      "    self.asyncio_loop.run_forever()\n",
      "  File \"C:\\Users\\karlk\\miniforge3\\lib\\asyncio\\base_events.py\", line 603, in run_forever\n",
      "    self._run_once()\n",
      "  File \"C:\\Users\\karlk\\miniforge3\\lib\\asyncio\\base_events.py\", line 1909, in _run_once\n",
      "    handle._run()\n",
      "  File \"C:\\Users\\karlk\\miniforge3\\lib\\asyncio\\events.py\", line 80, in _run\n",
      "    self._context.run(self._callback, *self._args)\n",
      "  File \"C:\\Users\\karlk\\miniforge3\\lib\\site-packages\\tornado\\ioloop.py\", line 738, in _run_callback\n",
      "    ret = callback()\n",
      "  File \"C:\\Users\\karlk\\miniforge3\\lib\\site-packages\\ipykernel\\kernelbase.py\", line 487, in advance_eventloop\n",
      "    eventloop(self)\n",
      "  File \"C:\\Users\\karlk\\miniforge3\\lib\\site-packages\\ipykernel\\eventloops.py\", line 128, in loop_qt\n",
      "    el.exec() if hasattr(el, \"exec\") else el.exec_()\n",
      "  File \"C:\\Users\\karlk\\repos\\prismo\\src\\prismo\\gui.py\", line 32, in update_img\n",
      "    viewer.layers[0].data = img\n",
      "  File \"C:\\Users\\karlk\\miniforge3\\lib\\site-packages\\napari\\layers\\image\\image.py\", line 1118, in data\n",
      "    self._update_dims()\n",
      "  File \"C:\\Users\\karlk\\miniforge3\\lib\\site-packages\\napari\\layers\\base\\base.py\", line 780, in _update_dims\n",
      "    self._clear_extent()\n",
      "  File \"C:\\Users\\karlk\\miniforge3\\lib\\site-packages\\napari\\layers\\base\\base.py\", line 854, in _clear_extent\n",
      "    self.refresh()\n",
      "  File \"C:\\Users\\karlk\\miniforge3\\lib\\site-packages\\napari\\layers\\base\\base.py\", line 1298, in refresh\n",
      "    self.events.set_data()\n",
      "  File \"C:\\Users\\karlk\\miniforge3\\lib\\site-packages\\napari\\utils\\events\\event.py\", line 763, in __call__\n",
      "    self._invoke_callback(cb, event if pass_event else None)\n",
      "  File \"C:\\Users\\karlk\\miniforge3\\lib\\site-packages\\napari\\utils\\events\\event.py\", line 790, in _invoke_callback\n",
      "    cb()\n",
      "  File \"C:\\Users\\karlk\\miniforge3\\lib\\site-packages\\napari\\_vispy\\overlays\\bounding_box.py\", line 28, in _on_bounds_change\n",
      "    self.node.set_bounds(bounds[::-1])\n",
      "  File \"C:\\Users\\karlk\\miniforge3\\lib\\site-packages\\napari\\_vispy\\visuals\\bounding_box.py\", line 98, in set_bounds\n",
      "    self._set_bounds_2d(vertices)\n",
      "  File \"C:\\Users\\karlk\\miniforge3\\lib\\site-packages\\napari\\_vispy\\visuals\\bounding_box.py\", line 59, in _set_bounds_2d\n",
      "    self.line2d.set_data(pos=vertices, connect=edges)\n",
      "  File \"C:\\Users\\karlk\\miniforge3\\lib\\site-packages\\vispy\\visuals\\line\\line.py\", line 189, in set_data\n",
      "    self.update()\n",
      "  File \"C:\\Users\\karlk\\miniforge3\\lib\\site-packages\\vispy\\scene\\node.py\", line 331, in update\n",
      "    self.events.update()\n",
      "  File \"C:\\Users\\karlk\\miniforge3\\lib\\site-packages\\vispy\\util\\event.py\", line 453, in __call__\n",
      "    self._invoke_callback(cb, event)\n",
      "  File \"C:\\Users\\karlk\\miniforge3\\lib\\site-packages\\vispy\\util\\event.py\", line 471, in _invoke_callback\n",
      "    _handle_exception(self.ignore_callback_errors,\n",
      "  << caught exception here: >>\n",
      "  File \"C:\\Users\\karlk\\miniforge3\\lib\\site-packages\\vispy\\util\\event.py\", line 469, in _invoke_callback\n",
      "    cb(event)\n",
      "  File \"C:\\Users\\karlk\\miniforge3\\lib\\site-packages\\vispy\\visuals\\visual.py\", line 652, in _subv_update\n",
      "    self.update()\n",
      "  File \"C:\\Users\\karlk\\miniforge3\\lib\\site-packages\\vispy\\scene\\node.py\", line 334, in update\n",
      "    c.update(node=self)\n",
      "  File \"C:\\Users\\karlk\\miniforge3\\lib\\site-packages\\vispy\\scene\\canvas.py\", line 202, in update\n",
      "    super(SceneCanvas, self).update()\n",
      "  File \"C:\\Users\\karlk\\miniforge3\\lib\\site-packages\\vispy\\app\\canvas.py\", line 448, in update\n",
      "    self._backend._vispy_update()\n",
      "  File \"C:\\Users\\karlk\\miniforge3\\lib\\site-packages\\vispy\\app\\backends\\_qt.py\", line 480, in _vispy_update\n",
      "    self.update()\n",
      "RuntimeError: wrapped C/C++ object of type CanvasBackendDesktop has been deleted\n",
      "ERROR: Invoking <bound method CompoundVisual._subv_update of <BoundingBox at 0x205a2168e50>> for Event\n"
     ]
    }
   ],
   "source": [
    "gui.live(c)"
   ]
  },
  {
   "cell_type": "code",
   "execution_count": 8,
   "id": "a39598b0-84d0-4885-a82c-cf6990ee056a",
   "metadata": {},
   "outputs": [],
   "source": [
    "c.exposure = 1"
   ]
  },
  {
   "cell_type": "code",
   "execution_count": 182,
   "id": "614b5a79-e0bf-40b7-9e01-d1f07bdd288d",
   "metadata": {},
   "outputs": [],
   "source": [
    "c._core.setProperty(\"dia\", \"State\", \"0\")"
   ]
  },
  {
   "cell_type": "code",
   "execution_count": 116,
   "id": "984bfe03-173e-423b-94df-2c633eb84a2d",
   "metadata": {},
   "outputs": [
    {
     "data": {
      "text/plain": [
       "('0', '1')"
      ]
     },
     "execution_count": 116,
     "metadata": {},
     "output_type": "execute_result"
    }
   ],
   "source": [
    "c._core.getAllowedPropertyValues(\"dia\", \"State\")"
   ]
  },
  {
   "cell_type": "code",
   "execution_count": 93,
   "id": "5e6ff74c-e797-4eda-bfd8-4beb7a5d5fb1",
   "metadata": {},
   "outputs": [
    {
     "data": {
      "text/plain": [
       "'Lumencor Spectra Light Engine'"
      ]
     },
     "execution_count": 93,
     "metadata": {},
     "output_type": "execute_result"
    }
   ],
   "source": [
    "c._core.getProperty(\"light\", \"Description\")"
   ]
  },
  {
   "cell_type": "code",
   "execution_count": 76,
   "id": "d4c9237a-661d-4a41-b3a0-49c5abc9051f",
   "metadata": {},
   "outputs": [
    {
     "data": {
      "text/plain": [
       "('Description',\n",
       " 'Name',\n",
       " 'Port',\n",
       " 'SetLE_Type',\n",
       " 'State',\n",
       " 'White_Enable',\n",
       " 'White_Level')"
      ]
     },
     "execution_count": 76,
     "metadata": {},
     "output_type": "execute_result"
    }
   ],
   "source": [
    "c._core.getDevicePropertyNames(\"light\")"
   ]
  },
  {
   "cell_type": "code",
   "execution_count": 110,
   "id": "3ac2e2ab-a495-4dfd-a9be-33727b81ae4b",
   "metadata": {},
   "outputs": [],
   "source": [
    "c.valves[44] = 1"
   ]
  },
  {
   "cell_type": "code",
   "execution_count": 12,
   "id": "bd11ddce-66c7-4b43-b964-263a4c8b5918",
   "metadata": {},
   "outputs": [],
   "source": [
    "c.valves[28] = \"on\"\n",
    "time.sleep(1)\n",
    "c.valves[28] = \"off\""
   ]
  },
  {
   "cell_type": "code",
   "execution_count": 89,
   "id": "8771597d-c86d-4d90-8651-cdf285406671",
   "metadata": {},
   "outputs": [],
   "source": [
    "for i in range(24, 32):\n",
    "    c.valves[i] = \"off\""
   ]
  },
  {
   "cell_type": "code",
   "execution_count": 84,
   "id": "d11cca46-6390-49d0-b278-d8a178004e73",
   "metadata": {},
   "outputs": [],
   "source": [
    "c.mc.snw = \"open\""
   ]
  },
  {
   "cell_type": "code",
   "execution_count": 92,
   "id": "ffbb518f-b2fa-4164-a63d-f56210f8711e",
   "metadata": {},
   "outputs": [],
   "source": [
    "c.mc.btn = \"open\""
   ]
  },
  {
   "cell_type": "code",
   "execution_count": 91,
   "id": "4c44d5b3-1e42-4400-ae2d-6dbc7773ec90",
   "metadata": {},
   "outputs": [],
   "source": [
    "c.mc.snw = \"open\""
   ]
  },
  {
   "cell_type": "code",
   "execution_count": 15,
   "id": "893c11d7-c6b5-44f0-89d8-f636067ce7ac",
   "metadata": {},
   "outputs": [],
   "source": [
    "c._core.setProperty(\"down_filter\", \"State\", 4)"
   ]
  },
  {
   "cell_type": "code",
   "execution_count": 65,
   "id": "8abd5ee5-4295-47c4-ae74-3fc418afcac7",
   "metadata": {},
   "outputs": [],
   "source": [
    "c.light = 0"
   ]
  },
  {
   "cell_type": "code",
   "execution_count": 20,
   "id": "7bc05d85-8346-4f56-ba1f-9a5f48ca5d62",
   "metadata": {},
   "outputs": [],
   "source": [
    "c.wait()\n",
    "c.objective = 0"
   ]
  },
  {
   "cell_type": "code",
   "execution_count": 5,
   "id": "098789d4-6529-4a60-9a99-b26f3c0037ca",
   "metadata": {},
   "outputs": [],
   "source": [
    "c._core.setProperty(\"objective\", \"State\", \"4\")"
   ]
  },
  {
   "cell_type": "code",
   "execution_count": 28,
   "id": "0ac729e1-7074-4f01-ae3c-d20f4d531faa",
   "metadata": {},
   "outputs": [
    {
     "data": {
      "text/plain": [
       "'0'"
      ]
     },
     "execution_count": 28,
     "metadata": {},
     "output_type": "execute_result"
    }
   ],
   "source": [
    "c._core.getProperty(\"objective\", \"State\")"
   ]
  },
  {
   "cell_type": "code",
   "execution_count": 24,
   "id": "e83df2b3-c5c2-4489-8a18-aab9ceb67017",
   "metadata": {},
   "outputs": [
    {
     "data": {
      "text/plain": [
       "('0', '1', '2', '3', '4', '5')"
      ]
     },
     "execution_count": 24,
     "metadata": {},
     "output_type": "execute_result"
    }
   ],
   "source": [
    "c._core.getAllowedPropertyValues(\"objective\", \"State\")"
   ]
  },
  {
   "cell_type": "code",
   "execution_count": 6,
   "id": "1682c55c-10a7-4ddd-a0a5-ee3e079a103d",
   "metadata": {},
   "outputs": [
    {
     "data": {
      "text/plain": [
       "('Label', 'State')"
      ]
     },
     "execution_count": 6,
     "metadata": {},
     "output_type": "execute_result"
    }
   ],
   "source": [
    "c._core.getDevicePropertyNames(\"obj\")"
   ]
  },
  {
   "cell_type": "code",
   "execution_count": 171,
   "id": "bffa5192-e0cd-4584-89a9-035f879b4a3f",
   "metadata": {},
   "outputs": [],
   "source": [
    "c.valves[37] = 0"
   ]
  },
  {
   "cell_type": "code",
   "execution_count": 21,
   "id": "25bc6ff5-3022-48c7-a426-5edaf0123cc0",
   "metadata": {},
   "outputs": [],
   "source": [
    "c._core.setProperty(\"objective\", \"Magnification\", \"1.5x\")"
   ]
  },
  {
   "cell_type": "code",
   "execution_count": 9,
   "id": "0a10fddb-b2a8-41f7-8441-664ff8e7b039",
   "metadata": {},
   "outputs": [
    {
     "data": {
      "text/plain": [
       "('ZDrive',\n",
       " 'Nosepiece',\n",
       " 'FilterTurret1',\n",
       " 'Turret1Shutter',\n",
       " 'FilterTurret2',\n",
       " 'Turret2Shutter',\n",
       " 'LightPath',\n",
       " 'IntermediateMagnification',\n",
       " 'DiaLamp')"
      ]
     },
     "execution_count": 9,
     "metadata": {},
     "output_type": "execute_result"
    }
   ],
   "source": [
    "c._core.getInstalledDevices(\"ti2_scope\")"
   ]
  },
  {
   "cell_type": "code",
   "execution_count": 7,
   "id": "b453790b-89d2-4259-82ea-33777d1aff95",
   "metadata": {},
   "outputs": [
    {
     "data": {
      "text/plain": [
       "('0', '1', '2', '3', '4', '5')"
      ]
     },
     "execution_count": 7,
     "metadata": {},
     "output_type": "execute_result"
    }
   ],
   "source": [
    "c._core.getAllowedPropertyValues(\"obj\", \"State\")\n"
   ]
  },
  {
   "cell_type": "code",
   "execution_count": 44,
   "id": "72d40ece-96e5-464e-91d4-48c674d57df2",
   "metadata": {},
   "outputs": [],
   "source": [
    "res = gui.live(c)"
   ]
  },
  {
   "cell_type": "code",
   "execution_count": 45,
   "id": "2b7945b5-8b22-4a47-8d27-fbcd3ebb2e6f",
   "metadata": {},
   "outputs": [],
   "source": [
    "c.z = 5000"
   ]
  },
  {
   "cell_type": "code",
   "execution_count": 10,
   "id": "7bea503b-7cba-4cce-8df5-f30e065d34c3",
   "metadata": {},
   "outputs": [],
   "source": [
    "c.mc.btn = \"open\""
   ]
  },
  {
   "cell_type": "code",
   "execution_count": 64,
   "id": "524cf7af-33e5-4215-8efc-e50f824d366e",
   "metadata": {},
   "outputs": [
    {
     "name": "stderr",
     "output_type": "stream",
     "text": [
      "sys:1: RuntimeWarning: RuntimeError in aborted thread: Error in device \"camera\":  Snap Image Failure (25)\n"
     ]
    }
   ],
   "source": [
    "c.uv_shutter = \"closed\""
   ]
  },
  {
   "cell_type": "code",
   "execution_count": 72,
   "id": "9d067a39-95e5-4212-936b-30a1130b5071",
   "metadata": {},
   "outputs": [
    {
     "name": "stdout",
     "output_type": "stream",
     "text": [
      "[1 1 1 1]\n",
      "[0 0 0 0]\n"
     ]
    }
   ],
   "source": [
    "c.mux = \"closed\""
   ]
  },
  {
   "cell_type": "code",
   "execution_count": 20,
   "id": "df438c87-92c8-4e92-95e4-5364acbd3b7f",
   "metadata": {},
   "outputs": [],
   "source": [
    "c.right_filter = \"620\""
   ]
  },
  {
   "cell_type": "code",
   "execution_count": 32,
   "id": "6d354108-e0a2-402d-bcc6-a903a1769444",
   "metadata": {},
   "outputs": [
    {
     "data": {
      "text/plain": [
       "array([[123, 108, 118, ..., 127, 139, 133],\n",
       "       [129, 131, 130, ..., 127, 139, 122],\n",
       "       [135, 120, 140, ..., 124, 131, 136],\n",
       "       ...,\n",
       "       [120, 145, 104, ..., 141, 131, 125],\n",
       "       [124, 141, 112, ..., 126, 125, 147],\n",
       "       [132, 132, 128, ..., 133, 110, 127]], dtype=uint16)"
      ]
     },
     "execution_count": 32,
     "metadata": {},
     "output_type": "execute_result"
    }
   ],
   "source": [
    "for i in range(30):"
   ]
  },
  {
   "cell_type": "code",
   "execution_count": 109,
   "id": "543eaf66-b065-44e2-9078-6e7022e4cf49",
   "metadata": {
    "scrolled": true
   },
   "outputs": [
    {
     "name": "stdout",
     "output_type": "stream",
     "text": [
      "Error in device \"camera\":  Snap Image Failure (25)\n",
      "Error in device \"camera\":  Snap Image Failure (25)\n",
      "Error in device \"camera\":  Snap Image Failure (25)\n",
      "Error in device \"camera\":  Snap Image Failure (25)\n",
      "Error in device \"camera\":  Snap Image Failure (25)\n",
      "Error in device \"camera\":  Snap Image Failure (25)\n",
      "Error in device \"camera\":  Snap Image Failure (25)\n",
      "Error in device \"camera\":  Snap Image Failure (25)\n",
      "Error in device \"camera\":  Snap Image Failure (25)\n",
      "Error in device \"camera\":  Snap Image Failure (25)\n",
      "Error in device \"camera\":  Snap Image Failure (25)\n",
      "Error in device \"camera\":  Snap Image Failure (25)\n"
     ]
    }
   ],
   "source": [
    "# Want to have an easy way to specify exposures across channels\n",
    "c.exposure = 100"
   ]
  },
  {
   "cell_type": "code",
   "execution_count": 3,
   "id": "eeb9380a-7a28-4d88-b566-5720ebd4114f",
   "metadata": {},
   "outputs": [],
   "source": [
    "viewer, worker = gui.live(c)"
   ]
  },
  {
   "cell_type": "code",
   "execution_count": 4,
   "id": "782476ca-e421-412e-8366-99dcd6b9dcde",
   "metadata": {},
   "outputs": [],
   "source": [
    "c.z = 5000"
   ]
  },
  {
   "cell_type": "code",
   "execution_count": 6,
   "id": "5a89c602-aa98-4e14-94ca-650663aeae92",
   "metadata": {},
   "outputs": [
    {
     "ename": "TypeError",
     "evalue": "list indices must be integers or slices, not str",
     "output_type": "error",
     "traceback": [
      "\u001b[1;31m---------------------------------------------------------------------------\u001b[0m",
      "\u001b[1;31mTypeError\u001b[0m                                 Traceback (most recent call last)",
      "Cell \u001b[1;32mIn[6], line 1\u001b[0m\n\u001b[1;32m----> 1\u001b[0m \u001b[43mc\u001b[49m\u001b[38;5;241;43m.\u001b[39;49m\u001b[43mdevices\u001b[49m\u001b[43m[\u001b[49m\u001b[38;5;124;43m\"\u001b[39;49m\u001b[38;5;124;43mobjective\u001b[39;49m\u001b[38;5;124;43m\"\u001b[39;49m\u001b[43m]\u001b[49m\u001b[38;5;241m.\u001b[39mstate \u001b[38;5;241m=\u001b[39m \u001b[38;5;124m\"\u001b[39m\u001b[38;5;124ma\u001b[39m\u001b[38;5;124m\"\u001b[39m\n",
      "\u001b[1;31mTypeError\u001b[0m: list indices must be integers or slices, not str"
     ]
    }
   ],
   "source": [
    "c.devices[\"objective\"].state = \"a\""
   ]
  },
  {
   "cell_type": "code",
   "execution_count": 8,
   "id": "e5b09910-1b67-4194-aebe-18dd7c02b9aa",
   "metadata": {},
   "outputs": [],
   "source": [
    "c.exposure = 100"
   ]
  },
  {
   "cell_type": "code",
   "execution_count": 121,
   "id": "340875dd-754c-4ee2-889d-841408681c17",
   "metadata": {},
   "outputs": [],
   "source": [
    "c.right_filter = \"open\"\n",
    "c.top_filter = \"open1\"\n",
    "c.laser = \"closed\"\n",
    "c.light = 0\n",
    "c.exposure = 10"
   ]
  },
  {
   "cell_type": "markdown",
   "id": "9f5cfdd0-5f41-42a1-b292-b2b093d18d65",
   "metadata": {},
   "source": [
    "## Tiling"
   ]
  },
  {
   "cell_type": "code",
   "execution_count": 48,
   "id": "e06dcb7b-0d30-40bf-9897-9e040f051e4a",
   "metadata": {},
   "outputs": [],
   "source": [
    "c.up_filter = \"cy5\""
   ]
  },
  {
   "cell_type": "code",
   "execution_count": 66,
   "id": "85cb60de-0890-4a27-be61-39960ba39248",
   "metadata": {},
   "outputs": [],
   "source": [
    "c.light = 100"
   ]
  },
  {
   "cell_type": "code",
   "execution_count": 120,
   "id": "57b06555-f61e-45be-a72c-881e70c38efc",
   "metadata": {},
   "outputs": [
    {
     "name": "stdout",
     "output_type": "stream",
     "text": [
      "Error in device \"camera\":  Snap Image Failure (25)\n",
      "Error in device \"camera\":  Snap Image Failure (25)\n",
      "Error in device \"camera\":  Snap Image Failure (25)\n",
      "Error in device \"camera\":  Snap Image Failure (25)\n",
      "Error in device \"camera\":  Snap Image Failure (25)\n",
      "Error in device \"camera\":  Snap Image Failure (25)\n",
      "Error in device \"camera\":  Snap Image Failure (25)\n",
      "Error in device \"camera\":  Snap Image Failure (25)\n"
     ]
    }
   ],
   "source": [
    "c.right_filter = \"620\"\n",
    "c.top_filter = \"open1\"\n",
    "c.laser = \"open\"\n",
    "c.light = 0\n",
    "c.exposure = 100"
   ]
  },
  {
   "cell_type": "code",
   "execution_count": 112,
   "id": "aae954b3-e200-49ec-9233-2c759c82ec9d",
   "metadata": {},
   "outputs": [],
   "source": [
    "top_left = c.xy"
   ]
  },
  {
   "cell_type": "code",
   "execution_count": 113,
   "id": "62db7cb8-238e-49bd-b295-d2c8dea501cc",
   "metadata": {},
   "outputs": [],
   "source": [
    "bottom_right = c.xy"
   ]
  },
  {
   "cell_type": "code",
   "execution_count": 11,
   "id": "6d73f46e-639e-4fa9-8140-35ddccd7f9f6",
   "metadata": {},
   "outputs": [
    {
     "ename": "RuntimeError",
     "evalue": "Error in device \"focus\": (Error message unavailable) (-9)",
     "output_type": "error",
     "traceback": [
      "\u001b[1;31m---------------------------------------------------------------------------\u001b[0m",
      "\u001b[1;31mRuntimeError\u001b[0m                              Traceback (most recent call last)",
      "Cell \u001b[1;32mIn[11], line 1\u001b[0m\n\u001b[1;32m----> 1\u001b[0m \u001b[43mc\u001b[49m\u001b[38;5;241;43m.\u001b[39;49m\u001b[43mz\u001b[49m \u001b[38;5;241m=\u001b[39m \u001b[38;5;241m5000\u001b[39m\n",
      "File \u001b[1;32m~\\repos\\prismo\\src\\prismo\\control.py:313\u001b[0m, in \u001b[0;36mControl.__setattr__\u001b[1;34m(self, name, value)\u001b[0m\n\u001b[0;32m    311\u001b[0m         device\u001b[38;5;241m.\u001b[39mstate \u001b[38;5;241m=\u001b[39m value\n\u001b[0;32m    312\u001b[0m         \u001b[38;5;28;01mreturn\u001b[39;00m\n\u001b[1;32m--> 313\u001b[0m \u001b[38;5;28;43msuper\u001b[39;49m\u001b[43m(\u001b[49m\u001b[43mControl\u001b[49m\u001b[43m,\u001b[49m\u001b[43m \u001b[49m\u001b[38;5;28;43mself\u001b[39;49m\u001b[43m)\u001b[49m\u001b[38;5;241;43m.\u001b[39;49m\u001b[38;5;21;43m__setattr__\u001b[39;49m\u001b[43m(\u001b[49m\u001b[43mname\u001b[49m\u001b[43m,\u001b[49m\u001b[43m \u001b[49m\u001b[43mvalue\u001b[49m\u001b[43m)\u001b[49m\n",
      "File \u001b[1;32m~\\repos\\prismo\\src\\prismo\\control.py:264\u001b[0m, in \u001b[0;36mControl.z\u001b[1;34m(self, new_z)\u001b[0m\n\u001b[0;32m    262\u001b[0m \u001b[38;5;129m@z\u001b[39m\u001b[38;5;241m.\u001b[39msetter\n\u001b[0;32m    263\u001b[0m \u001b[38;5;28;01mdef\u001b[39;00m \u001b[38;5;21mz\u001b[39m(\u001b[38;5;28mself\u001b[39m, new_z):\n\u001b[1;32m--> 264\u001b[0m     \u001b[38;5;28;43mself\u001b[39;49m\u001b[38;5;241;43m.\u001b[39;49m\u001b[43m_focus\u001b[49m\u001b[38;5;241;43m.\u001b[39;49m\u001b[43mz\u001b[49m \u001b[38;5;241m=\u001b[39m new_z\n",
      "File \u001b[1;32m~\\repos\\prismo\\src\\prismo\\control.py:364\u001b[0m, in \u001b[0;36mFocus.z\u001b[1;34m(self, new_z)\u001b[0m\n\u001b[0;32m    362\u001b[0m \u001b[38;5;129m@z\u001b[39m\u001b[38;5;241m.\u001b[39msetter\n\u001b[0;32m    363\u001b[0m \u001b[38;5;28;01mdef\u001b[39;00m \u001b[38;5;21mz\u001b[39m(\u001b[38;5;28mself\u001b[39m, new_z):\n\u001b[1;32m--> 364\u001b[0m     \u001b[38;5;28;43mself\u001b[39;49m\u001b[38;5;241;43m.\u001b[39;49m\u001b[43m_core\u001b[49m\u001b[38;5;241;43m.\u001b[39;49m\u001b[43msetPosition\u001b[49m\u001b[43m(\u001b[49m\u001b[38;5;28;43mself\u001b[39;49m\u001b[38;5;241;43m.\u001b[39;49m\u001b[43mname\u001b[49m\u001b[43m,\u001b[49m\u001b[43m \u001b[49m\u001b[43mnew_z\u001b[49m\u001b[43m)\u001b[49m\n",
      "\u001b[1;31mRuntimeError\u001b[0m: Error in device \"focus\": (Error message unavailable) (-9)"
     ]
    }
   ],
   "source": [
    "c.z = 5000"
   ]
  },
  {
   "cell_type": "code",
   "execution_count": 60,
   "id": "f679db45-9294-4ff1-89cb-ae5c2fb9a463",
   "metadata": {},
   "outputs": [],
   "source": [
    "c.right_filter = \"open\""
   ]
  },
  {
   "cell_type": "code",
   "execution_count": 87,
   "id": "5e8b2ed6-1e05-434a-9818-6547e49cc4c0",
   "metadata": {},
   "outputs": [],
   "source": [
    "top_channels = [\"cy5\"]\n",
    "right_channels = [\"620\"]"
   ]
  },
  {
   "cell_type": "code",
   "execution_count": 96,
   "id": "75b7a7e7-adac-4109-9f72-d495f04313d6",
   "metadata": {},
   "outputs": [],
   "source": [
    "overlap_pixels = 100\n",
    "um_per_pixel = 1.6137\n",
    "img = c.snap()\n",
    "img_height_pixels = img.shape[0]\n",
    "img_width_pixels = img.shape[1]\n",
    "img_height_um = um_per_pixel * img.shape[0]\n",
    "img_width_um = um_per_pixel * img.shape[1]\n",
    "overlap_um = overlap_pixels * um_per_pixel\n",
    "delta_x = img_width_um - overlap_um\n",
    "delta_y = img_height_um - overlap_um\n",
    "xs = np.arange(top_left[0], bottom_right[0], delta_x)\n",
    "ys = np.arange(top_left[1], bottom_right[1], delta_y)\n",
    "\n",
    "canvas = np.zeros((len(top_channels) + len(right_channels),\n",
    "                (img_height_pixels - overlap_pixels) * len(ys) + overlap_pixels,\n",
    "                (img_width_pixels - overlap_pixels) * len(xs) + overlap_pixels), dtype=np.uint16)\n",
    "viewer, layers = napari.imshow(canvas, channel_axis=0, contrast_limits=[0, 65535], name=top_channels + right_channels)\n",
    "def update_canvas(d):\n",
    "    d, i, j, c = d[0], d[1], d[2], d[3]\n",
    "    row = i * (img_height_pixels - overlap_pixels)\n",
    "    col = j * (img_width_pixels - overlap_pixels)\n",
    "    viewer.layers[c].data[row:row + img_height_pixels, col:col + img_width_pixels] = d\n",
    "    viewer.layers[c].refresh()\n",
    "\n",
    "@thread_worker(connect={\"yielded\": update_canvas})\n",
    "def tile_images():\n",
    "    c.uv_filter = \"uv\"\n",
    "    for i, y in enumerate(ys):\n",
    "        for j, x in enumerate(xs):\n",
    "            c.xy = (x, y)\n",
    "            c._core.waitForDevice(\"stage\")\n",
    "            c.right_filter = \"open\"\n",
    "            c.laser = \"closed\"\n",
    "            c.light = 100\n",
    "            c.exposure = 1000\n",
    "            time.sleep(3)\n",
    "            for channel in top_channels:\n",
    "                c.up_filter = channel\n",
    "                time.sleep(1)\n",
    "                yield (c.snap(), i, j, channel)\n",
    "                c._core.waitForDevice(\"camera\")\n",
    "                time.sleep(1)\n",
    "\n",
    "            c.up_filter = \"open1\"\n",
    "            c.laser = \"open\"\n",
    "            c.exposure = 1000\n",
    "            c.light = 0\n",
    "            for channel in right_channels:\n",
    "                c.right_filter = channel\n",
    "                time.sleep(1)\n",
    "                yield (c.snap(), i, j, channel)\n",
    "                c._core.waitForDevice(\"camera\")\n",
    "                time.sleep(1)\n",
    "            time.sleep(1)"
   ]
  },
  {
   "cell_type": "code",
   "execution_count": 97,
   "id": "05ed226c-47a2-4656-9787-5d2e62c22935",
   "metadata": {},
   "outputs": [],
   "source": [
    "worker2 = tile_images()"
   ]
  },
  {
   "cell_type": "code",
   "execution_count": 19,
   "id": "0040ea4e-9be7-4bfa-9234-1cd38cb7aed9",
   "metadata": {},
   "outputs": [],
   "source": [
    "worker2.quit()"
   ]
  },
  {
   "cell_type": "code",
   "execution_count": 18,
   "id": "b6433c05-4806-40e7-8097-61dae4dac9a3",
   "metadata": {},
   "outputs": [
    {
     "name": "stdout",
     "output_type": "stream",
     "text": [
      "Error in device \"camera\":  Snap Image Failure (25)\n",
      "Error in device \"camera\":  Snap Image Failure (25)\n",
      "Error in device \"camera\":  Snap Image Failure (25)\n",
      "Error in device \"camera\":  Snap Image Failure (25)\n",
      "Error in device \"camera\":  Snap Image Failure (25)\n",
      "Error in device \"camera\":  Snap Image Failure (25)\n",
      "Error in device \"camera\":  Snap Image Failure (25)\n",
      "Error in device \"camera\":  Snap Image Failure (25)\n",
      "Error in device \"camera\":  Snap Image Failure (25)\n",
      "Error in device \"camera\":  Snap Image Failure (25)\n",
      "Error in device \"camera\":  Snap Image Failure (25)\n",
      "Error in device \"camera\":  Snap Image Failure (25)\n",
      "Error in device \"camera\":  Snap Image Failure (25)\n",
      "Error in device \"camera\":  Snap Image Failure (25)\n",
      "Error in device \"camera\":  Snap Image Failure (25)\n",
      "Error in device \"camera\":  Snap Image Failure (25)\n",
      "Error in device \"camera\":  Snap Image Failure (25)\n",
      "Error in device \"camera\":  Snap Image Failure (25)\n",
      "Error in device \"camera\":  Snap Image Failure (25)\n",
      "Error in device \"camera\":  Snap Image Failure (25)\n",
      "Error in device \"camera\":  Snap Image Failure (25)\n",
      "Error in device \"camera\":  Snap Image Failure (25)\n",
      "Error in device \"camera\":  Snap Image Failure (25)\n",
      "Error in device \"camera\":  Snap Image Failure (25)\n",
      "Error in device \"camera\":  Snap Image Failure (25)\n",
      "Error in device \"camera\":  Snap Image Failure (25)\n",
      "Error in device \"camera\":  Snap Image Failure (25)\n",
      "Error in device \"camera\":  Snap Image Failure (25)\n",
      "Error in device \"camera\":  Snap Image Failure (25)\n",
      "Error in device \"camera\":  Snap Image Failure (25)\n",
      "Error in device \"camera\":  Snap Image Failure (25)\n",
      "Error in device \"camera\":  Snap Image Failure (25)\n",
      "Error in device \"camera\":  Snap Image Failure (25)\n",
      "Error in device \"camera\":  Snap Image Failure (25)\n",
      "Error in device \"camera\":  Snap Image Failure (25)\n",
      "Error in device \"camera\":  Snap Image Failure (25)\n",
      "Error in device \"camera\":  Snap Image Failure (25)\n",
      "Error in device \"camera\":  Snap Image Failure (25)\n",
      "Error in device \"camera\":  Snap Image Failure (25)\n",
      "Error in device \"camera\":  Snap Image Failure (25)\n",
      "Error in device \"camera\":  Snap Image Failure (25)\n",
      "Error in device \"camera\":  Snap Image Failure (25)\n",
      "Error in device \"camera\":  Snap Image Failure (25)\n",
      "Error in device \"camera\":  Snap Image Failure (25)\n"
     ]
    }
   ],
   "source": [
    "c.devices[0].wait()"
   ]
  },
  {
   "cell_type": "code",
   "execution_count": 104,
   "id": "5f25620c-b133-49c2-ab45-19af40d14438",
   "metadata": {},
   "outputs": [],
   "source": [
    "c.laser = \"closed\""
   ]
  },
  {
   "cell_type": "code",
   "execution_count": 4,
   "id": "b796e34e-8ce3-4c9f-a3e7-4911b63c618b",
   "metadata": {},
   "outputs": [],
   "source": [
    "c.z = 5000"
   ]
  },
  {
   "cell_type": "code",
   "execution_count": 11,
   "id": "47574a9c-c3da-473c-b402-5e7ca8940aa7",
   "metadata": {},
   "outputs": [],
   "source": [
    "c.light = 0"
   ]
  },
  {
   "cell_type": "code",
   "execution_count": 3,
   "id": "ac77a419-8216-4e8f-9afd-4fd9739f2a3a",
   "metadata": {},
   "outputs": [
    {
     "data": {
      "text/plain": [
       "3.0048"
      ]
     },
     "execution_count": 3,
     "metadata": {},
     "output_type": "execute_result"
    }
   ],
   "source": [
    "c.exposure"
   ]
  },
  {
   "cell_type": "code",
   "execution_count": 20,
   "id": "cb2c3e4b-b8e0-4214-8b4d-f61604b820fa",
   "metadata": {},
   "outputs": [],
   "source": [
    "c.valves[47] = \"open\""
   ]
  },
  {
   "cell_type": "code",
   "execution_count": 11,
   "id": "2d4f0bee-5a1b-4912-888a-ed6b1b713540",
   "metadata": {},
   "outputs": [],
   "source": [
    "c.close()"
   ]
  },
  {
   "cell_type": "code",
   "execution_count": 33,
   "id": "e7a12512-1487-4397-bebf-b4d4a174b04e",
   "metadata": {},
   "outputs": [],
   "source": [
    "for i in range(48):\n",
    "    c.valves[i] = \"closed\"\n",
    "\n",
    "for i in range(48):\n",
    "    time.sleep(0.1)\n",
    "    c.valves[i] = \"open\""
   ]
  },
  {
   "cell_type": "code",
   "execution_count": 25,
   "id": "57640748-2734-417d-93e5-ebe369dce005",
   "metadata": {},
   "outputs": [],
   "source": [
    "c.z = 5000"
   ]
  },
  {
   "cell_type": "code",
   "execution_count": 32,
   "id": "f8e02188-1935-47cc-9a83-7cddc49ffda4",
   "metadata": {},
   "outputs": [],
   "source": [
    "c.valves[9] = \"closed\""
   ]
  },
  {
   "cell_type": "code",
   "execution_count": 102,
   "id": "91090b89-f9d7-4844-af62-c34cf501cb64",
   "metadata": {},
   "outputs": [],
   "source": [
    "layers[0].contrast_limits = [0, 65000]"
   ]
  },
  {
   "cell_type": "code",
   "execution_count": 103,
   "id": "6424f178-6827-42b5-ab45-467bf55debb0",
   "metadata": {},
   "outputs": [],
   "source": [
    "layers[1].contrast_limits = [0, 65000]"
   ]
  },
  {
   "cell_type": "code",
   "execution_count": 115,
   "id": "00b7a375-39ad-4d70-a37f-bc906a45da80",
   "metadata": {},
   "outputs": [
    {
     "data": {
      "text/plain": [
       "False"
      ]
     },
     "execution_count": 115,
     "metadata": {},
     "output_type": "execute_result"
    },
    {
     "name": "stdout",
     "output_type": "stream",
     "text": [
      "Error in device \"camera\":  Snap Image Failure (25)\n",
      "Error in device \"camera\":  Snap Image Failure (25)\n"
     ]
    }
   ],
   "source": [
    "c._core.isBufferOverflowed()"
   ]
  },
  {
   "cell_type": "code",
   "execution_count": 116,
   "id": "774871b5-65d1-4263-9e35-0026c6613efc",
   "metadata": {},
   "outputs": [
    {
     "data": {
      "text/plain": [
       "0"
      ]
     },
     "execution_count": 116,
     "metadata": {},
     "output_type": "execute_result"
    },
    {
     "name": "stdout",
     "output_type": "stream",
     "text": [
      "Error in device \"camera\":  Snap Image Failure (25)\n"
     ]
    }
   ],
   "source": [
    "c._core.getBufferTotalCapacity()"
   ]
  },
  {
   "cell_type": "code",
   "execution_count": 118,
   "id": "7356e4f7-9288-4a91-8204-bdd2eb907ab3",
   "metadata": {},
   "outputs": [
    {
     "data": {
      "text/plain": [
       "0"
      ]
     },
     "execution_count": 118,
     "metadata": {},
     "output_type": "execute_result"
    },
    {
     "name": "stdout",
     "output_type": "stream",
     "text": [
      "Error in device \"camera\":  Snap Image Failure (25)\n",
      "Error in device \"camera\":  Snap Image Failure (25)\n",
      "Error in device \"camera\":  Snap Image Failure (25)\n",
      "Error in device \"camera\":  Snap Image Failure (25)\n",
      "Error in device \"camera\":  Snap Image Failure (25)\n",
      "Error in device \"camera\":  Snap Image Failure (25)\n"
     ]
    }
   ],
   "source": [
    "c._core.getBufferFreeCapacity()"
   ]
  },
  {
   "cell_type": "code",
   "execution_count": 74,
   "id": "d3a81215-e7fc-4430-850b-cd9d79242372",
   "metadata": {},
   "outputs": [
    {
     "name": "stdout",
     "output_type": "stream",
     "text": [
      "[1 1 0 0]\n",
      "[0 0 1 1]\n"
     ]
    }
   ],
   "source": [
    "c.mux = \"open\""
   ]
  },
  {
   "cell_type": "code",
   "execution_count": 73,
   "id": "eb6b70a2-5a62-49e9-bdd0-9457ceca97fa",
   "metadata": {},
   "outputs": [
    {
     "name": "stdout",
     "output_type": "stream",
     "text": [
      "[0 0 0 0]\n",
      "[1 1 1 1]\n"
     ]
    }
   ],
   "source": [
    "c.mux = 3"
   ]
  },
  {
   "cell_type": "code",
   "execution_count": 63,
   "id": "2981822f-d558-456e-8852-7f58a744a928",
   "metadata": {},
   "outputs": [
    {
     "name": "stdout",
     "output_type": "stream",
     "text": [
      "[0 1 1 1]\n",
      "[1 0 0 0]\n",
      "[0 1 1 1]\n",
      "[1 0 0 0]\n"
     ]
    },
    {
     "data": {
      "text/plain": [
       "8"
      ]
     },
     "execution_count": 63,
     "metadata": {},
     "output_type": "execute_result"
    }
   ],
   "source": [
    "c.mux"
   ]
  },
  {
   "cell_type": "code",
   "execution_count": null,
   "id": "bf03bf1d-105b-4597-8a5f-545bddc13349",
   "metadata": {},
   "outputs": [],
   "source": []
  }
 ],
 "metadata": {
  "kernelspec": {
   "display_name": "Python 3 (ipykernel)",
   "language": "python",
   "name": "python3"
  },
  "language_info": {
   "codemirror_mode": {
    "name": "ipython",
    "version": 3
   },
   "file_extension": ".py",
   "mimetype": "text/x-python",
   "name": "python",
   "nbconvert_exporter": "python",
   "pygments_lexer": "ipython3",
   "version": "3.10.9"
  }
 },
 "nbformat": 4,
 "nbformat_minor": 5
}
