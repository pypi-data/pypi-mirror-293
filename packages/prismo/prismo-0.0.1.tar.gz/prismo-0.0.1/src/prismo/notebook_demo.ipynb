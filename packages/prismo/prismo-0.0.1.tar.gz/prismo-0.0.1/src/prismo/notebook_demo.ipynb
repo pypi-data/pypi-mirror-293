{
 "cells": [
  {
   "cell_type": "markdown",
   "id": "44573ad2-8bd6-4b6b-9da1-3967987d31bc",
   "metadata": {},
   "source": [
    "# Microscope Setup"
   ]
  },
  {
   "cell_type": "markdown",
   "id": "f9549344-fcf0-4bb5-bf4a-9ba08beede4e",
   "metadata": {},
   "source": [
    "## This set of commands imports the necessary software, connects to the instruments, and should set the Z-axis to 5000 for a rough focus. This step takes about 20 seconds so be patient."
   ]
  },
  {
   "cell_type": "code",
   "execution_count": 1,
   "id": "ca9dd0a9-a818-4021-bed3-34a50dc80dbd",
   "metadata": {},
   "outputs": [],
   "source": [
    "%load_ext autoreload\n",
    "%autoreload 2\n",
    "from napari.qt.threading import thread_worker\n",
    "import control\n",
    "import napari\n",
    "import gui\n",
    "import time\n",
    "import numpy as np\n",
    "import toml\n",
    "\n",
    "s = \"\"\"\n",
    "[camera]\n",
    "device = \"zyla_camera\"\n",
    "\n",
    "[objective]\n",
    "device = \"ti_objective\"\n",
    "states = [\"blank1\", \"4x\", \"blank2\", \"blank3\", \"10x\", \"blank4\"]\n",
    "zooms =  [0, 4, 0, 0, 10, 0]\n",
    "\n",
    "[lightpath]\n",
    "device = \"ti_lightpath\"\n",
    "states = [\"up\", \"left\", \"right\", \"down\"]\n",
    "\n",
    "[sola_light]\n",
    "device = \"sola_light\"\n",
    "port = \"COM4\"\n",
    "\n",
    "[up_filter]\n",
    "device = \"ti_filter1\"\n",
    "states = [\"mcherry\", \"egfp\", \"open1\", \"cy5\", \"brightfield\", \"open2\"]\n",
    "\n",
    "[down_filter]\n",
    "device = \"ti_filter2\"\n",
    "\n",
    "[stage]\n",
    "device = \"asi_stage\"\n",
    "port = \"COM5\"\n",
    "\n",
    "[focus]\n",
    "device = \"ti_focus\"\n",
    "\n",
    "[right_filter]\n",
    "device = \"lambda_filter2\"\n",
    "port = \"COM3\"\n",
    "states =  [\"open\", \"435\", \"474\", \"536\", \"546\", \"572\", \"620\", \"630\", \"650\", \"780\"]\n",
    "\n",
    "[uv_filter]\n",
    "device = \"lambda_filter1\"\n",
    "port = \"COM3\"\n",
    "states = [\"uv\", \"open1\", \"?\", \"315nm\", \"??\", \"340nm\", \"???\", \"open2\", \"????\", \"brightfield\"]\n",
    "\n",
    "[uv]\n",
    "device = \"lambda_shutter1\"\n",
    "port = \"COM3\"\n",
    "\n",
    "[ir]\n",
    "device = \"lambda_shutter2\"\n",
    "port = \"COM3\"\n",
    "\"\"\"\n",
    "\n",
    "conf = toml.loads(s)\n",
    "c = control.load(conf, path=\"C:/Program Files/Micro-Manager-2.0\")\n",
    "c._core.setTimeoutMs(100000)\n",
    "c.exposure = 100\n",
    "c.objective = \"4x\"\n",
    "c.z = 5000\n",
    "c.binning = 2\n",
    "c.lightpath = \"right\"\n",
    "c._core.setProperty(\"camera\", \"TriggerMode\", \"Software (Recommended for Live Mode)\")"
   ]
  },
  {
   "cell_type": "markdown",
   "id": "068e8a10-e543-4a3b-ae8e-46a7eb0ba709",
   "metadata": {},
   "source": [
    "# Live Imaging"
   ]
  },
  {
   "cell_type": "code",
   "execution_count": 6,
   "id": "47ff968c-255f-42fe-b10e-080f290d860f",
   "metadata": {},
   "outputs": [],
   "source": [
    "c.exposure = 300"
   ]
  },
  {
   "cell_type": "code",
   "execution_count": 10,
   "id": "43dd7225-f0e6-46d6-8b54-34af9241d3d4",
   "metadata": {},
   "outputs": [],
   "source": [
    "c.sola_light = 4"
   ]
  },
  {
   "cell_type": "code",
   "execution_count": 9,
   "id": "68c2dd1b-65fb-4ea4-97f5-4bd0921e331d",
   "metadata": {},
   "outputs": [],
   "source": [
    "c.uv = \"closed\"\n",
    "c.up_filter = \"brightfield\"\n",
    "c.sola_light = 4\n",
    "c.right_filter = \"open\"\n",
    "c.exposure = 30\n",
    "g = gui.live(c)"
   ]
  },
  {
   "cell_type": "markdown",
   "id": "227f01a2-975d-4eaf-9cb4-f1e13a45dd11",
   "metadata": {},
   "source": [
    "# Move the stage"
   ]
  },
  {
   "cell_type": "code",
   "execution_count": 17,
   "id": "9ab77beb-3bf1-4a12-ba5b-ba6df1bf89af",
   "metadata": {},
   "outputs": [],
   "source": [
    "c.xy = (0, 0)"
   ]
  },
  {
   "cell_type": "markdown",
   "id": "810f3205-1e07-462c-975e-568ef26e2628",
   "metadata": {},
   "source": [
    "# Pause the live imaging worker"
   ]
  },
  {
   "cell_type": "code",
   "execution_count": 11,
   "id": "65f07f5c-328e-4bb3-9d5f-e4a3741990ea",
   "metadata": {},
   "outputs": [],
   "source": [
    "g.pause()"
   ]
  },
  {
   "cell_type": "code",
   "execution_count": 12,
   "id": "9e20e415-5003-4896-bea5-c4964d3dd318",
   "metadata": {},
   "outputs": [],
   "source": [
    "c.x += 1000"
   ]
  },
  {
   "cell_type": "markdown",
   "id": "19e5879a-cb01-48ef-b395-18618b922a79",
   "metadata": {},
   "source": [
    "## Resume the live imaging worker"
   ]
  },
  {
   "cell_type": "code",
   "execution_count": 13,
   "id": "3daaf639-3904-4cc1-ac59-12c7a9484195",
   "metadata": {},
   "outputs": [],
   "source": [
    "g.resume()"
   ]
  },
  {
   "cell_type": "markdown",
   "id": "eca218ff-f1d0-47cc-a9d4-e456bcd9aa2a",
   "metadata": {},
   "source": [
    "## Tiled Acquisition"
   ]
  },
  {
   "cell_type": "code",
   "execution_count": null,
   "id": "d639ce53-b476-45ba-8c58-cc44a23b4f1d",
   "metadata": {},
   "outputs": [],
   "source": [
    "c.uv = \"open\"\n",
    "c.uv_filter = \"uv\"\n",
    "c.up_filter = \"open2\"\n",
    "c.sola_light = 0\n",
    "c.right_filter = \"620\"\n",
    "c.exposure = 100"
   ]
  },
  {
   "cell_type": "code",
   "execution_count": null,
   "id": "e75fd215-79ae-46cc-9f39-419e16ff272d",
   "metadata": {},
   "outputs": [],
   "source": [
    "channels = [\"cy5\", \"egfp\", \"435\", \"474\", \"536\", \"546\", \"572\", \"620\", \"630\", \"650\", \"780\"]\n",
    "def acq_func(xp, xs, ys):\n",
    "    for j in range(5):\n",
    "        for k, x in enumerate(xs):\n",
    "            for l, y in enumerate(ys):\n",
    "                c.xy = (x, y)\n",
    "                for i, chan in enumerate(channels):\n",
    "                    if chan == \"cy5\":\n",
    "                        c.uv = \"closed\"\n",
    "                        c.right_filter = \"open\"\n",
    "                        c.up_filter = chan\n",
    "                        c.exposure = 100\n",
    "                        c.sola_light = 50\n",
    "                    elif chan == \"egfp\":\n",
    "                        c.uv = \"closed\"\n",
    "                        c.right_filter = \"open\"\n",
    "                        c.up_filter = chan\n",
    "                        c.exposure = 500\n",
    "                        c.sola_light = 100\n",
    "                    else:\n",
    "                        c.uv = \"open\"\n",
    "                        c.up_filter = \"open2\"\n",
    "                        c.right_filter = chan\n",
    "                        c.sola_light = 0\n",
    "                        c.exposure = 1000\n",
    "    \n",
    "                    c.wait()\n",
    "                    xp.tile[i, j, k, l] = c.snap()\n",
    "                    yield\n",
    "                    \n",
    "g, xp = gui.acquire(c,\n",
    "                    file=\"test_file_9\",\n",
    "                    acq_func=acq_func,\n",
    "                    overlap=0.1,\n",
    "                    times=5,\n",
    "                    channels=channels)"
   ]
  },
  {
   "cell_type": "markdown",
   "id": "d635769d-4d42-4e20-94fe-a15586135a2e",
   "metadata": {},
   "source": [
    "# Accessing image data mid-collection"
   ]
  },
  {
   "cell_type": "code",
   "execution_count": null,
   "id": "b5a5e06f-8a81-41ba-ade9-6ae513effc46",
   "metadata": {},
   "outputs": [],
   "source": []
  }
 ],
 "metadata": {
  "kernelspec": {
   "display_name": "Python 3 (ipykernel)",
   "language": "python",
   "name": "python3"
  },
  "language_info": {
   "codemirror_mode": {
    "name": "ipython",
    "version": 3
   },
   "file_extension": ".py",
   "mimetype": "text/x-python",
   "name": "python",
   "nbconvert_exporter": "python",
   "pygments_lexer": "ipython3",
   "version": "3.10.9"
  }
 },
 "nbformat": 4,
 "nbformat_minor": 5
}
