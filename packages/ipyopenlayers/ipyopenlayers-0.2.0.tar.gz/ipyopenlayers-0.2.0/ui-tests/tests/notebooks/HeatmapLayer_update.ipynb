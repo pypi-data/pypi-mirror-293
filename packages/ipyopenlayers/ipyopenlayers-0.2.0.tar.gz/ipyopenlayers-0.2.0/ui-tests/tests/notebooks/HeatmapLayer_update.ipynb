{
 "cells": [
  {
   "cell_type": "code",
   "execution_count": 6,
   "id": "22ead368-75a9-45ca-a289-4b4d82cd1890",
   "metadata": {},
   "outputs": [],
   "source": [
    "from ipyopenlayers import Map,HeatmapLayer\n",
    "m = Map(center=[9.993566065893873, 47.226106632719905], zoom=5)\n",
    "m"
   ]
  },
  {
   "cell_type": "code",
   "execution_count": 11,
   "id": "983c7442-91b9-4608-90a7-faa573914a66",
   "metadata": {},
   "outputs": [],
   "source": [
    "points_data_france = [\n",
    "    [48.8566, 2.3522, 13.76],  # Paris\n",
    "    [45.7640, 4.8357, 13.72],  # Rhône\n",
    "    [43.2328, 5.4319, 13.70],  # Var \n",
    "    [47.2184, -1.5536, 13.62],  # Loire-Atlantique\n",
    "    [50.6292, 3.0573, 13.48],  # Nord\n",
    "    [45.1876, 5.7355, 13.44],  # Isère\n",
    "    [43.6108, 1.4110, 13.38],  # Haute-Garonne \n",
    "    [48.5839, 7.7455, 13.32],  # Bas-Rhin\n",
    "    [45.7595, 4.8357, 13.28],  # Rhône \n",
    "    [48.5734, 7.7521, 13.20],  # Bas-Rhin \n",
    "    [44.8378, -0.5792, 13.15],  # Gironde \n",
    "    [50.6319, 3.0573, 13.12],  # Nord \n",
    "    [43.6109, 3.8767, 13.05],  # Hérault \n",
    "    [48.8534, 2.3488, 13.00],  # Paris \n",
    "    [45.8336, 1.2611, 12.96],  # Corrèze\n",
    "    [47.9020, 1.9093, 12.92],  # Loiret\n",
    "    [48.8566, 2.3522, 12.88],  # Paris \n",
    "    [47.3220, 5.0415, 12.82],  # Côte-d'Or\n",
    "    [43.2951, 5.3655, 12.78],  # Bouches-du-Rhône \n",
    "    [48.5734, 7.7521, 12.74],  # Bas-Rhin \n",
    "    [47.7480, 7.3359, 12.70],  # Haut-Rhin\n",
    "    [47.2378, 6.0241, 12.65],  # Doubs\n",
    "    [49.2583, 4.0317, 12.60],  # Marne\n",
    "    [44.5633, 6.0716, 12.55],  # Hautes-Alpes\n",
    "    [48.2927, 4.0680, 12.50],  # Aube\n",
    "    [48.8566, 2.3522, 12.45],  # Paris \n",
    "    [45.5017, 4.5197, 12.40],  # Loire\n",
    "    [43.6109, 3.8772, 12.35],  # Hérault \n",
    "    [50.6292, 3.0573, 12.30],  # Nord \n",
    "    [48.8534, 2.3488, 12.25],  # Paris \n",
    "]\n",
    "heatmap_layer = HeatmapLayer(blur=20, radius=15, points=points_data_france)\n",
    "m.add_layer(heatmap_layer)"
   ]
  }
 ],
 "metadata": {
  "kernelspec": {
   "display_name": "Python 3 (ipykernel)",
   "language": "python",
   "name": "python3"
  },
  "language_info": {
   "codemirror_mode": {
    "name": "ipython",
    "version": 3
   },
   "file_extension": ".py",
   "mimetype": "text/x-python",
   "name": "python",
   "nbconvert_exporter": "python",
   "pygments_lexer": "ipython3",
   "version": "3.10.14"
  }
 },
 "nbformat": 4,
 "nbformat_minor": 5
}
