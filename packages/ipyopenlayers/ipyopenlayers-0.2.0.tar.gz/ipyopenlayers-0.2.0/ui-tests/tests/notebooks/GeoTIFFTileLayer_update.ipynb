{
 "cells": [
  {
   "cell_type": "code",
   "execution_count": 1,
   "id": "b83d101d-69cf-4df1-8ad3-5103b33d089e",
   "metadata": {},
   "outputs": [],
   "source": [
    "from ipyopenlayers import Map,GeoTIFFTileLayer\n",
    "m = Map(center=[5.314329221346643, 16.3625002926901], zoom=9)\n",
    "m"
   ]
  },
  {
   "cell_type": "code",
   "execution_count": 2,
   "id": "2719495a-edd2-4547-ac37-74e791513064",
   "metadata": {},
   "outputs": [
    {
     "data": {
      "application/vnd.jupyter.widget-view+json": {
       "model_id": "87aa7d5af3a24276a17cdf8af2926eae",
       "version_major": 2,
       "version_minor": 0
      },
      "text/plain": [
       "Map(center=[5.314329221346643, 16.3625002926901], zoom=9.0)"
      ]
     },
     "execution_count": 2,
     "metadata": {},
     "output_type": "execute_result"
    }
   ],
   "source": [
    "geo_tiff_layer = GeoTIFFTileLayer(url='https://sentinel-cogs.s3.us-west-2.amazonaws.com/sentinel-s2-l2a-cogs/36/Q/WD/2020/7/S2A_36QWD_20200701_0_L2A/TCI.tif')\n",
    "m.add_layer(geo_tiff_layer)"
   ]
  }
 ],
 "metadata": {
  "kernelspec": {
   "display_name": "Python 3 (ipykernel)",
   "language": "python",
   "name": "python3"
  },
  "language_info": {
   "codemirror_mode": {
    "name": "ipython",
    "version": 3
   },
   "file_extension": ".py",
   "mimetype": "text/x-python",
   "name": "python",
   "nbconvert_exporter": "python",
   "pygments_lexer": "ipython3",
   "version": "3.10.14"
  }
 },
 "nbformat": 4,
 "nbformat_minor": 5
}
