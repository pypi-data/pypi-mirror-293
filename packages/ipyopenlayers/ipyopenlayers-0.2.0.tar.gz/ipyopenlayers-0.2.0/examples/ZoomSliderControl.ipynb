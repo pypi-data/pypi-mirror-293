{
 "cells": [
  {
   "cell_type": "markdown",
   "id": "979a7129-889f-49a8-b486-2d188a8c9716",
   "metadata": {},
   "source": [
    "# Zoom Slider Control"
   ]
  },
  {
   "cell_type": "code",
   "execution_count": 2,
   "id": "fe8ae64d-1d15-434d-be79-439385062d3f",
   "metadata": {},
   "outputs": [
    {
     "data": {
      "application/vnd.jupyter.widget-view+json": {
       "model_id": "306c72eae40a4f008154d0b750de6bd6",
       "version_major": 2,
       "version_minor": 0
      },
      "text/plain": [
       "Map(center=[0, 0], controls=[ZoomSlider()], layers=[RasterTileLayer()])"
      ]
     },
     "execution_count": 2,
     "metadata": {},
     "output_type": "execute_result"
    }
   ],
   "source": [
    "from ipyopenlayers import Map, ZoomSlider, RasterTileLayer\n",
    "\n",
    "# Create a map with initial zoom level and center coordinates\n",
    "m = Map(center=[0, 0], zoom=2)\n",
    "\n",
    "layer= RasterTileLayer()\n",
    "m.add_layer(layer)\n",
    "# Add a ZoomSlider control to the map\n",
    "zoom_slider = ZoomSlider()\n",
    "m.add_control(zoom_slider)\n",
    "\n",
    "\n",
    "# Display the map\n",
    "m"
   ]
  }
 ],
 "metadata": {
  "kernelspec": {
   "display_name": "Python 3 (ipykernel)",
   "language": "python",
   "name": "python3"
  },
  "language_info": {
   "codemirror_mode": {
    "name": "ipython",
    "version": 3
   },
   "file_extension": ".py",
   "mimetype": "text/x-python",
   "name": "python",
   "nbconvert_exporter": "python",
   "pygments_lexer": "ipython3",
   "version": "3.9.19"
  }
 },
 "nbformat": 4,
 "nbformat_minor": 5
}
