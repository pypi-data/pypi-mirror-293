{
 "cells": [
  {
   "cell_type": "markdown",
   "id": "8ca48fb8-4e68-4b34-9074-2b9d3c7d153b",
   "metadata": {},
   "source": [
    "# Mouse Position Control"
   ]
  },
  {
   "cell_type": "code",
   "execution_count": 2,
   "id": "7d041d0b-ba93-4d0f-b381-1ba7dbc58fd1",
   "metadata": {},
   "outputs": [
    {
     "data": {
      "application/vnd.jupyter.widget-view+json": {
       "model_id": "b4013dda69c545998dd43efdc8a7282b",
       "version_major": 2,
       "version_minor": 0
      },
      "text/plain": [
       "Map(center=[0, 0], controls=[MousePosition()], layers=[RasterTileLayer()])"
      ]
     },
     "execution_count": 2,
     "metadata": {},
     "output_type": "execute_result"
    }
   ],
   "source": [
    "from ipyopenlayers import Map, MousePosition, RasterTileLayer\n",
    "\n",
    "\n",
    "# Create a map with initial zoom level and center coordinates\n",
    "m = Map(center=[0, 0], zoom=2)\n",
    "layer= RasterTileLayer()\n",
    "m.add_layer(layer)\n",
    "\n",
    "# Add a MousePositionControl to the map\n",
    "mouseposition_control = MousePosition()\n",
    "m.add_control(mouseposition_control)\n",
    "\n",
    "\n",
    "# Display the map\n",
    "m"
   ]
  }
 ],
 "metadata": {
  "kernelspec": {
   "display_name": "Python 3 (ipykernel)",
   "language": "python",
   "name": "python3"
  },
  "language_info": {
   "codemirror_mode": {
    "name": "ipython",
    "version": 3
   },
   "file_extension": ".py",
   "mimetype": "text/x-python",
   "name": "python",
   "nbconvert_exporter": "python",
   "pygments_lexer": "ipython3",
   "version": "3.9.19"
  }
 },
 "nbformat": 4,
 "nbformat_minor": 5
}
