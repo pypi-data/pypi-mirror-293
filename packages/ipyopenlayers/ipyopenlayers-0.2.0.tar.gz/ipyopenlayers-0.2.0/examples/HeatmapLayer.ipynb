{
 "cells": [
  {
   "cell_type": "markdown",
   "id": "68a33128-657d-45b6-a52f-c93455b6c74f",
   "metadata": {},
   "source": [
    "# HeatMap"
   ]
  },
  {
   "cell_type": "code",
   "execution_count": 1,
   "id": "22ead368-75a9-45ca-a289-4b4d82cd1890",
   "metadata": {},
   "outputs": [
    {
     "data": {
      "application/vnd.jupyter.widget-view+json": {
       "model_id": "a3d58586ab76416db69a938f7d716810",
       "version_major": 2,
       "version_minor": 0
      },
      "text/plain": [
       "Map(center=[9.993566065893873, 47.226106632719905], layers=[RasterTileLayer()], zoom=5.0)"
      ]
     },
     "execution_count": 1,
     "metadata": {},
     "output_type": "execute_result"
    }
   ],
   "source": [
    "from ipyopenlayers import Map,HeatmapLayer,RasterTileLayer\n",
    "m = Map(center=[9.993566065893873, 47.226106632719905], zoom=5)\n",
    "layer= RasterTileLayer()\n",
    "m.add_layer(layer)\n",
    "m"
   ]
  },
  {
   "cell_type": "code",
   "execution_count": 2,
   "id": "983c7442-91b9-4608-90a7-faa573914a66",
   "metadata": {},
   "outputs": [],
   "source": [
    "points_data_france = [\n",
    "    [42.3656, 9.1493, 16.79],  # Haute-Corse\n",
    "    [43.4527, 6.2649, 16.28],  # Var\n",
    "    [43.6043, 5.0123, 15.93],  # Bouches-du-Rhône\n",
    "    [42.6987, 2.8956, 15.87],  # Pyrénées-Orientales\n",
    "    [43.6119, 3.8772, 15.81],  # Hérault\n",
    "    [41.9264, 8.7364, 15.64],  # Corse-du-Sud\n",
    "    [44.8378, -0.5792, 15.28],  # Gironde\n",
    "    [43.8914, -1.2200, 15.2],  # Landes\n",
    "    [43.9493, 4.8055, 15.17],  # Vaucluse\n",
    "    [44.1004, 1.3555, 14.85],  # Tarn-et-Garonne\n",
    "    [44.3058, 0.6283, 14.85],  # Lot-et-Garonne\n",
    "    [43.6045, 1.4442, 14.75],  # Haute-Garonne\n",
    "    [43.9074, 4.5079, 14.65],  # Gard\n",
    "    [43.6205, 0.5898, 14.52],  # Gers\n",
    "    [43.7102, 7.2620, 14.41],  # Alpes-Maritimes\n",
    "    [45.7515, -0.6331, 14.34],  # Charente-Maritime\n",
    "    [44.6144, 1.9023, 14.05],  # Lot\n",
    "    [43.6043, 2.2344, 13.88],  # Tarn\n",
    "    [43.1566, 2.3605, 13.88],  # Aude\n",
    "    [43.2998, -0.3674, 13.85],  # Pyrénées-Atlantiques\n",
    "    # Continue for other locations as needed\n",
    "]\n",
    "heatmap_layer = HeatmapLayer(blur=20, radius=15, points=points_data_france)\n",
    "m.add_layer(heatmap_layer)"
   ]
  },
  {
   "cell_type": "code",
   "execution_count": null,
   "id": "02028e81-1e9a-4aee-b41e-d5dc2ae1a558",
   "metadata": {},
   "outputs": [],
   "source": []
  }
 ],
 "metadata": {
  "kernelspec": {
   "display_name": "Python 3 (ipykernel)",
   "language": "python",
   "name": "python3"
  },
  "language_info": {
   "codemirror_mode": {
    "name": "ipython",
    "version": 3
   },
   "file_extension": ".py",
   "mimetype": "text/x-python",
   "name": "python",
   "nbconvert_exporter": "python",
   "pygments_lexer": "ipython3",
   "version": "3.9.19"
  }
 },
 "nbformat": 4,
 "nbformat_minor": 5
}
