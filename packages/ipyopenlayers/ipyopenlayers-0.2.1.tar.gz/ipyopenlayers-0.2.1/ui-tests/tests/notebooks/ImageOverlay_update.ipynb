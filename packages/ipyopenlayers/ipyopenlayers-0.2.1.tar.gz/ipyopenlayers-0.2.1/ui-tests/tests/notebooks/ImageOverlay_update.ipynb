{
 "cells": [
  {
   "cell_type": "code",
   "execution_count": 2,
   "id": "c5c68c37-2412-45c5-a771-dc261557938c",
   "metadata": {},
   "outputs": [],
   "source": [
    "from ipyopenlayers import Map, ImageOverlay\n",
    "m = Map(center=[8.988, -0.686], zoom=3)\n",
    "m\n"
   ]
  },
  {
   "cell_type": "code",
   "execution_count": 19,
   "id": "d368179d-7568-4887-9f25-026cb09e2d04",
   "metadata": {},
   "outputs": [
    {
     "data": {
      "application/vnd.jupyter.widget-view+json": {
       "model_id": "93d11a5fc4b04fc8bedd2dd9a23db4ae",
       "version_major": 2,
       "version_minor": 0
      },
      "text/plain": [
       "Map(center=[8.988, -0.686], zoom=3.0)"
      ]
     },
     "execution_count": 19,
     "metadata": {},
     "output_type": "execute_result"
    }
   ],
   "source": [
    "image=ImageOverlay(image_url=\"https://i.imgur.com/06Q1fSz.png\")\n",
    "m.add_overlay(image)"
   ]
  }
 ],
 "metadata": {
  "kernelspec": {
   "display_name": "Python 3 (ipykernel)",
   "language": "python",
   "name": "python3"
  },
  "language_info": {
   "codemirror_mode": {
    "name": "ipython",
    "version": 3
   },
   "file_extension": ".py",
   "mimetype": "text/x-python",
   "name": "python",
   "nbconvert_exporter": "python",
   "pygments_lexer": "ipython3",
   "version": "3.10.14"
  }
 },
 "nbformat": 4,
 "nbformat_minor": 5
}
