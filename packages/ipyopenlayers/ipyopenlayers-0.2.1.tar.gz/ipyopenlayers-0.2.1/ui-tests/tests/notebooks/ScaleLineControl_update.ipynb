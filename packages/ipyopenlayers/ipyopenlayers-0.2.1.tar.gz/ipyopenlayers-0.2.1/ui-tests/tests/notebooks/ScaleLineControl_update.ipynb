{
 "cells": [
  {
   "cell_type": "code",
   "execution_count": 1,
   "id": "d241846c-7900-4bfd-83be-0fbb6acf612f",
   "metadata": {},
   "outputs": [
    {
     "data": {
      "application/vnd.jupyter.widget-view+json": {
       "model_id": "169cf4608afc42b48af447ec1a4e8bc9",
       "version_major": 2,
       "version_minor": 0
      },
      "text/plain": [
       "Map(center=[0, 0], zoom=2.0)"
      ]
     },
     "execution_count": 1,
     "metadata": {},
     "output_type": "execute_result"
    }
   ],
   "source": [
    "from ipyopenlayers import Map, ScaleLine\n",
    "\n",
    "\n",
    "# Create a map with initial zoom level and center coordinates\n",
    "m = Map(center=[0, 0], zoom=2)\n",
    "\n",
    "\n",
    "# Add a ScalelineControl to the map\n",
    "scaleline_control = ScaleLine()\n",
    "m.add_control(scaleline_control)\n",
    "\n",
    "\n",
    "# Display the map\n",
    "m"
   ]
  }
 ],
 "metadata": {
  "kernelspec": {
   "display_name": "Python 3 (ipykernel)",
   "language": "python",
   "name": "python3"
  },
  "language_info": {
   "codemirror_mode": {
    "name": "ipython",
    "version": 3
   },
   "file_extension": ".py",
   "mimetype": "text/x-python",
   "name": "python",
   "nbconvert_exporter": "python",
   "pygments_lexer": "ipython3",
   "version": "3.10.14"
  }
 },
 "nbformat": 4,
 "nbformat_minor": 5
}
