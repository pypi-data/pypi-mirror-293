{
 "cells": [
  {
   "cell_type": "code",
   "execution_count": 2,
   "id": "a6d5c461-1402-40e1-bee4-1cfd951d0f24",
   "metadata": {},
   "outputs": [],
   "source": [
    "from ipyopenlayers import Map, VideoOverlay\n",
    "m = Map(center=[0.0, 0.0], zoom=2)\n",
    "m"
   ]
  },
  {
   "cell_type": "code",
   "execution_count": 7,
   "id": "977b61ea-f1b4-4570-b9df-c06d3fdc7b33",
   "metadata": {},
   "outputs": [],
   "source": [
    "video=VideoOverlay(video_url=\"https://www.mapbox.com/bites/00188/patricia_nasa.webm\")\n",
    "m.add_overlay(video)\n"
   ]
  }
 ],
 "metadata": {
  "kernelspec": {
   "display_name": "Python 3 (ipykernel)",
   "language": "python",
   "name": "python3"
  },
  "language_info": {
   "codemirror_mode": {
    "name": "ipython",
    "version": 3
   },
   "file_extension": ".py",
   "mimetype": "text/x-python",
   "name": "python",
   "nbconvert_exporter": "python",
   "pygments_lexer": "ipython3",
   "version": "3.10.14"
  }
 },
 "nbformat": 4,
 "nbformat_minor": 5
}
