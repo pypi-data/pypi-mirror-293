{
 "cells": [
  {
   "cell_type": "code",
   "execution_count": 1,
   "id": "4ad66d70-5fc4-490e-a8a1-fd754cc575b5",
   "metadata": {},
   "outputs": [
    {
     "data": {
      "application/vnd.jupyter.widget-view+json": {
       "model_id": "d01087bd3ebd423bb5a4aff226f0731b",
       "version_major": 2,
       "version_minor": 0
      },
      "text/plain": [
       "Map(center=[0, 0], zoom=2.0)"
      ]
     },
     "execution_count": 1,
     "metadata": {},
     "output_type": "execute_result"
    }
   ],
   "source": [
    "from ipyopenlayers import Map, FullScreen\n",
    "\n",
    "\n",
    "# Create a map with initial zoom level and center coordinates\n",
    "m = Map(center=[0, 0], zoom=2)\n",
    "\n",
    "\n",
    "# Add a FullscreenControl to the map\n",
    "fullscreen_control = FullScreen()\n",
    "m.add_control(fullscreen_control)\n",
    "\n",
    "\n",
    "# Display the map\n",
    "m"
   ]
  }
 ],
 "metadata": {
  "kernelspec": {
   "display_name": "Python 3 (ipykernel)",
   "language": "python",
   "name": "python3"
  },
  "language_info": {
   "codemirror_mode": {
    "name": "ipython",
    "version": 3
   },
   "file_extension": ".py",
   "mimetype": "text/x-python",
   "name": "python",
   "nbconvert_exporter": "python",
   "pygments_lexer": "ipython3",
   "version": "3.10.14"
  }
 },
 "nbformat": 4,
 "nbformat_minor": 5
}
