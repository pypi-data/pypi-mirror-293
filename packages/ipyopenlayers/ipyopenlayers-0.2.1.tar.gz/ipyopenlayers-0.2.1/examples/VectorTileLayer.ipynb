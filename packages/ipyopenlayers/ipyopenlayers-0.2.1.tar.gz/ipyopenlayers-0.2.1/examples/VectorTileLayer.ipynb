{
 "cells": [
  {
   "cell_type": "markdown",
   "id": "dd871119-69ba-42b4-8287-e6f2478042be",
   "metadata": {},
   "source": [
    "# Vector Tile Layer"
   ]
  },
  {
   "cell_type": "code",
   "execution_count": 1,
   "id": "07e9fe79-7e05-4e9d-9d9c-e33b865588d8",
   "metadata": {},
   "outputs": [],
   "source": [
    "from ipyopenlayers import Map, VectorTileLayer, RasterTileLayer"
   ]
  },
  {
   "cell_type": "code",
   "execution_count": 2,
   "id": "a89dcba4-940a-487c-a3b5-6664399af7d7",
   "metadata": {},
   "outputs": [],
   "source": [
    "import configparser\n",
    "config = configparser.ConfigParser()\n",
    "config.read('.config.ini')\n",
    "key = config['DEFAULT']['key']"
   ]
  },
  {
   "cell_type": "code",
   "execution_count": 3,
   "id": "29e07326-af0d-4a79-b9b9-20c71496714b",
   "metadata": {},
   "outputs": [
    {
     "data": {
      "application/vnd.jupyter.widget-view+json": {
       "model_id": "0ffb306ce33b41c99044b9f70b25ebb5",
       "version_major": 2,
       "version_minor": 0
      },
      "text/plain": [
       "Map(center=[4.299875503991089, 46.85012303279379], layers=[RasterTileLayer()], zoom=0.0)"
      ]
     },
     "execution_count": 3,
     "metadata": {},
     "output_type": "execute_result"
    }
   ],
   "source": [
    "m = Map(center=[4.299875503991089, 46.85012303279379], zoom=0)\n",
    "layer= RasterTileLayer()\n",
    "m.add_layer(layer)\n",
    "m"
   ]
  },
  {
   "cell_type": "code",
   "execution_count": 4,
   "id": "4602b570-bcb3-42f3-a34f-4f71048eabdb",
   "metadata": {},
   "outputs": [],
   "source": [
    "#TopoJSON\n",
    "vector_layer = VectorTileLayer(\n",
    "    url='https://unpkg.com/world-atlas@1.1.4/world/50m.json',\n",
    "    source_format={\n",
    "        'type': 'TopoJSON',\n",
    "    }\n",
    ")\n",
    "m.add_layer(vector_layer)"
   ]
  },
  {
   "cell_type": "code",
   "execution_count": 7,
   "id": "d215e909-2c2d-4df2-9fe1-033e95e83f63",
   "metadata": {},
   "outputs": [],
   "source": [
    "m.remove_layer(vector_layer)\n"
   ]
  },
  {
   "cell_type": "code",
   "execution_count": 8,
   "id": "c1d6234d-ded9-45cb-902e-2b5ed9648cfb",
   "metadata": {},
   "outputs": [],
   "source": [
    "#MVT\n",
    "layer = VectorTileLayer(\n",
    "    url='https://basemaps.arcgis.com/arcgis/rest/services/World_Basemap_v2/VectorTileServer/tile/{z}/{y}/{x}.pbf',\n",
    "    source_format={\n",
    "        'type': 'MVT',\n",
    "    }\n",
    ")\n",
    "# Configuration des autres propriétés du layer\n",
    "layer.attribution =   '<a href=\"https://www.maptiler.com/copyright/\" target=\"_blank\">&copy; MapTiler</a> ' + '<a href=\"https://www.openstreetmap.org/copyright\" target=\"_blank\">&copy; OpenStreetMap contributors</a>'\n",
    "layer.opacity = 0.8\n",
    "layer.min_zoom = 1\n",
    "layer.max_zoom = 20\n",
    "m.add_layer(layer)"
   ]
  },
  {
   "cell_type": "code",
   "execution_count": 9,
   "id": "a7524fc5-9fff-4ae9-b472-c7f2829b8e0e",
   "metadata": {},
   "outputs": [],
   "source": [
    "m.remove_layer(layer)\n"
   ]
  },
  {
   "cell_type": "code",
   "execution_count": 10,
   "id": "e63ac8af-aac5-425b-b295-6871da865f19",
   "metadata": {},
   "outputs": [],
   "source": [
    "#GeoJSON\n",
    "layer_Geo = VectorTileLayer(\n",
    "    url='https://openlayers.org/data/vector/ecoregions.json',\n",
    "    source_format={\n",
    "        'type': 'GeoJSON',\n",
    "        #'geometry_name': '',  \n",
    "        #'layer_name': '',     \n",
    "        #'layers': ['', ''], \n",
    "    }\n",
    ")\n",
    "layer_Geo.attribution = \"© OpenStreetMap contributors\"\n",
    "layer_Geo.opacity = 0.8\n",
    "layer_Geo.min_zoom = 1\n",
    "layer_Geo.max_zoom = 20\n",
    "m.add_layer(layer_Geo)"
   ]
  },
  {
   "cell_type": "code",
   "execution_count": 11,
   "id": "a52b72ea-e25e-4367-aed3-0d662290bdb0",
   "metadata": {},
   "outputs": [],
   "source": [
    "layer_Geo.style= {\n",
    "    'strokeColor': '#FF4500',  # Orange Red for stroke\n",
    "    'strokeWidth': 2,          # Moderate width for visibility\n",
    "    'pointRadius': 8,          # Medium radius for points\n",
    "    'fillColor': '#2E8B57',    # Sea Green for fill\n",
    "    'pointFillColor': '#FFD700',  # Gold for point fill\n",
    "    'pointStrokeColor': '#4B0082', # Indigo for point stroke\n",
    "    'pointStrokeWidth': 1.5       # Slightly increased width for point stroke\n",
    "}"
   ]
  },
  {
   "cell_type": "code",
   "execution_count": 12,
   "id": "0dd0ff66-9a71-497e-8674-820d8003827c",
   "metadata": {},
   "outputs": [],
   "source": [
    "m.remove_layer(layer_Geo)"
   ]
  },
  {
   "cell_type": "code",
   "execution_count": 13,
   "id": "75d3ecb6-fc1f-4099-9aa6-932bb568d387",
   "metadata": {},
   "outputs": [],
   "source": [
    "#MVT\n",
    "layer_mvt = VectorTileLayer(\n",
    "    url='https://ahocevar.com/geoserver/gwc/service/tms/1.0.0/' +'ne:ne_10m_admin_0_countries@EPSG%3A900913@pbf/{z}/{x}/{-y}.pbf',\n",
    "    source_format={\n",
    "        'type': 'MVT',\n",
    "        #'geometry_name': '',  \n",
    "        #'layer_name': '',     \n",
    "        #'layers': ['', ''],\n",
    "    }\n",
    ")\n",
    "layer_mvt.attribution = \"© OpenStreetMap contributors\"\n",
    "layer_mvt.opacity = 0.8\n",
    "layer_mvt.min_zoom = 1\n",
    "layer_mvt.max_zoom = 20\n",
    "m.add_layer(layer_mvt)\n"
   ]
  },
  {
   "cell_type": "code",
   "execution_count": 14,
   "id": "e28a3acb-2007-4867-a340-1ad33fed8a94",
   "metadata": {},
   "outputs": [],
   "source": [
    "style = {\n",
    "    'strokeColor': '#6B8E23', \n",
    "    'strokeWidth': 2,        \n",
    "    'pointRadius': 8,         \n",
    "    'fillColor': '#9ACD32',\n",
    "    'pointFillColor': '#F4A460',\n",
    "    'pointStrokeColor': '#2E8B57',\n",
    "    'pointStrokeWidth': 1.5 \n",
    "};\n",
    "\n",
    "layer_mvt.style=style\n"
   ]
  },
  {
   "cell_type": "code",
   "execution_count": 15,
   "id": "a691d303-011e-42fd-b292-6c1ba9c50bb5",
   "metadata": {},
   "outputs": [],
   "source": [
    "layer_mvt.url='https://basemaps.arcgis.com/arcgis/rest/services/World_Basemap_v2/VectorTileServer/tile/{z}/{y}/{x}.pbf'\n"
   ]
  },
  {
   "cell_type": "code",
   "execution_count": 16,
   "id": "2a98882d-6ebd-4e77-8b5a-a69018a265cb",
   "metadata": {},
   "outputs": [],
   "source": [
    "m.remove_layer(layer_mvt)"
   ]
  },
  {
   "cell_type": "code",
   "execution_count": 17,
   "id": "96c74f55-0023-4df8-8bf0-12f38fe63da2",
   "metadata": {},
   "outputs": [],
   "source": [
    "layer_mvt.source_format={\n",
    "        'type': 'GeoJSON'}"
   ]
  },
  {
   "cell_type": "code",
   "execution_count": 18,
   "id": "eba620f4-7304-4005-a9ce-5984aedfac18",
   "metadata": {},
   "outputs": [],
   "source": [
    "layer_mvt.url='https://earthquake.usgs.gov/earthquakes/feed/v1.0/summary/all_week.geojson'\n",
    "m.add_layer(layer_mvt)"
   ]
  },
  {
   "cell_type": "code",
   "execution_count": 19,
   "id": "2c3ea211-2b6a-4d3c-996f-1a93eebfda6e",
   "metadata": {},
   "outputs": [],
   "source": [
    "layer_mvt.opacity = 0.1\n"
   ]
  },
  {
   "cell_type": "code",
   "execution_count": 20,
   "id": "cfef8f88-9d6e-492c-a707-6816337d6141",
   "metadata": {},
   "outputs": [],
   "source": [
    "m.remove_layer(layer_mvt)\n"
   ]
  }
 ],
 "metadata": {
  "kernelspec": {
   "display_name": "Python 3 (ipykernel)",
   "language": "python",
   "name": "python3"
  },
  "language_info": {
   "codemirror_mode": {
    "name": "ipython",
    "version": 3
   },
   "file_extension": ".py",
   "mimetype": "text/x-python",
   "name": "python",
   "nbconvert_exporter": "python",
   "pygments_lexer": "ipython3",
   "version": "3.9.19"
  }
 },
 "nbformat": 4,
 "nbformat_minor": 5
}
