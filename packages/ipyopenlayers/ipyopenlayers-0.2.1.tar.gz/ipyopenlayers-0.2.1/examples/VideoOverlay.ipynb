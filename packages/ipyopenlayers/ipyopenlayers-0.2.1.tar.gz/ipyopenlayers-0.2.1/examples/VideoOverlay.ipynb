{
 "cells": [
  {
   "cell_type": "markdown",
   "id": "fbd7d97e-ee97-462a-97dd-b6a643b6b30b",
   "metadata": {},
   "source": [
    "# Video Overlay"
   ]
  },
  {
   "cell_type": "code",
   "execution_count": 1,
   "id": "a6d5c461-1402-40e1-bee4-1cfd951d0f24",
   "metadata": {},
   "outputs": [
    {
     "data": {
      "application/vnd.jupyter.widget-view+json": {
       "model_id": "0351fe26341e4593b15cb9d372a4c3f2",
       "version_major": 2,
       "version_minor": 0
      },
      "text/plain": [
       "Map(center=[0.0, 0.0], layers=[RasterTileLayer()])"
      ]
     },
     "execution_count": 1,
     "metadata": {},
     "output_type": "execute_result"
    }
   ],
   "source": [
    "from ipyopenlayers import Map, VideoOverlay,RasterTileLayer\n",
    "m = Map(center=[0.0, 0.0])\n",
    "layer= RasterTileLayer()\n",
    "m.add_layer(layer)\n",
    "m"
   ]
  },
  {
   "cell_type": "code",
   "execution_count": 2,
   "id": "977b61ea-f1b4-4570-b9df-c06d3fdc7b33",
   "metadata": {},
   "outputs": [],
   "source": [
    "video=VideoOverlay(video_url=\"https://www.mapbox.com/bites/00188/patricia_nasa.webm\")\n",
    "m.add_overlay(video)"
   ]
  },
  {
   "cell_type": "code",
   "execution_count": 3,
   "id": "06f173e9-4e67-4996-97fc-43a24702d2d6",
   "metadata": {},
   "outputs": [],
   "source": [
    "video_o=VideoOverlay(video_url=\"https://static-assets.mapbox.com/mapbox-gl-js/drone.webm\",position=[-80,42])\n",
    "m.add_overlay(video_o)"
   ]
  },
  {
   "cell_type": "code",
   "execution_count": 4,
   "id": "9ba0823f-7f95-419e-a2f9-a12c116d16c2",
   "metadata": {},
   "outputs": [],
   "source": [
    "m.remove_overlay(video_o)"
   ]
  },
  {
   "cell_type": "code",
   "execution_count": 5,
   "id": "72b802cd-8066-48ca-aa4b-a467ae494eed",
   "metadata": {},
   "outputs": [],
   "source": [
    "video.video_url=\"https://static-assets.mapbox.com/mapbox-gl-js/drone.webm\""
   ]
  },
  {
   "cell_type": "code",
   "execution_count": 8,
   "id": "bf357393-aec1-43f0-a89b-9c6d7c02a02d",
   "metadata": {},
   "outputs": [],
   "source": [
    "video.position=[30,-20]"
   ]
  },
  {
   "cell_type": "code",
   "execution_count": 9,
   "id": "89a253a3-ab51-4e75-b3fa-e813cbaf2c34",
   "metadata": {},
   "outputs": [],
   "source": [
    "m.remove_overlay(video)"
   ]
  }
 ],
 "metadata": {
  "kernelspec": {
   "display_name": "Python 3 (ipykernel)",
   "language": "python",
   "name": "python3"
  },
  "language_info": {
   "codemirror_mode": {
    "name": "ipython",
    "version": 3
   },
   "file_extension": ".py",
   "mimetype": "text/x-python",
   "name": "python",
   "nbconvert_exporter": "python",
   "pygments_lexer": "ipython3",
   "version": "3.9.19"
  }
 },
 "nbformat": 4,
 "nbformat_minor": 5
}
