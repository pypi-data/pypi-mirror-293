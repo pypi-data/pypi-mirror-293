{
 "cells": [
  {
   "cell_type": "markdown",
   "id": "2997d7c5-f437-4d2e-ae97-92e718897e24",
   "metadata": {},
   "source": [
    "# Full Screen Control"
   ]
  },
  {
   "cell_type": "code",
   "execution_count": 4,
   "id": "4ad66d70-5fc4-490e-a8a1-fd754cc575b5",
   "metadata": {},
   "outputs": [
    {
     "data": {
      "application/vnd.jupyter.widget-view+json": {
       "model_id": "e8a321a5d10f4c39a7dd3db688eea45a",
       "version_major": 2,
       "version_minor": 0
      },
      "text/plain": [
       "Map(center=[0, 0], controls=[FullScreen()], layers=[RasterTileLayer()], zoom=0.0)"
      ]
     },
     "execution_count": 4,
     "metadata": {},
     "output_type": "execute_result"
    }
   ],
   "source": [
    "from ipyopenlayers import Map, FullScreen, RasterTileLayer\n",
    "\n",
    "# Create a map with initial zoom level and center coordinates\n",
    "m = Map(center=[0, 0], zoom=0)\n",
    "layer= RasterTileLayer()\n",
    "m.add_layer(layer)\n",
    "fullscreen_control = FullScreen()\n",
    "m.add_control(fullscreen_control)\n",
    "m"
   ]
  },
  {
   "cell_type": "code",
   "execution_count": null,
   "id": "b9f32ea9-06ce-4439-a2b1-b098a5289d45",
   "metadata": {},
   "outputs": [],
   "source": []
  }
 ],
 "metadata": {
  "kernelspec": {
   "display_name": "Python 3 (ipykernel)",
   "language": "python",
   "name": "python3"
  },
  "language_info": {
   "codemirror_mode": {
    "name": "ipython",
    "version": 3
   },
   "file_extension": ".py",
   "mimetype": "text/x-python",
   "name": "python",
   "nbconvert_exporter": "python",
   "pygments_lexer": "ipython3",
   "version": "3.9.19"
  }
 },
 "nbformat": 4,
 "nbformat_minor": 5
}
