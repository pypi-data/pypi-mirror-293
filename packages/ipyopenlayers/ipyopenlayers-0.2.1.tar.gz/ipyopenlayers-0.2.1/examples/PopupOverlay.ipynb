{
 "cells": [
  {
   "cell_type": "markdown",
   "id": "4b41bee0-b974-4e01-ba09-c6ea8ba548e2",
   "metadata": {},
   "source": [
    "# Popup Overlay"
   ]
  },
  {
   "cell_type": "code",
   "execution_count": 2,
   "id": "56149091-3b9f-416e-8e13-22e59a3e9c59",
   "metadata": {},
   "outputs": [
    {
     "data": {
      "application/vnd.jupyter.widget-view+json": {
       "model_id": "526427323cf64cc5bc9996814f363a9d",
       "version_major": 2,
       "version_minor": 0
      },
      "text/plain": [
       "Map(center=[-11.844178003179724, 37.31477334221525], zoom=0.0)"
      ]
     },
     "execution_count": 2,
     "metadata": {},
     "output_type": "execute_result"
    }
   ],
   "source": [
    "from ipyopenlayers import Map, PopupOverlay\n",
    "m = Map(center=[-11.844178003179724, 37.31477334221525], zoom=0)\n",
    "m\n"
   ]
  },
  {
   "cell_type": "code",
   "execution_count": 3,
   "id": "c598c0f4-cf58-4f5b-b610-36f1aacbb025",
   "metadata": {},
   "outputs": [],
   "source": [
    "# Create a PopupOverlay and set its position and content\n",
    "popup = PopupOverlay(position=[-120.06694821433305, 40.70520249808547], popup_content = 'United States of America')\n",
    "\n",
    "# Add the PopupOverlay to the map\n",
    "m.add_overlay(popup)"
   ]
  }
 ],
 "metadata": {
  "kernelspec": {
   "display_name": "Python 3 (ipykernel)",
   "language": "python",
   "name": "python3"
  },
  "language_info": {
   "codemirror_mode": {
    "name": "ipython",
    "version": 3
   },
   "file_extension": ".py",
   "mimetype": "text/x-python",
   "name": "python",
   "nbconvert_exporter": "python",
   "pygments_lexer": "ipython3",
   "version": "3.10.14"
  }
 },
 "nbformat": 4,
 "nbformat_minor": 5
}
