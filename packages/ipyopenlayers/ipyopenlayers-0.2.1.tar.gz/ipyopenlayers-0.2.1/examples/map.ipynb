{
 "cells": [
  {
   "cell_type": "markdown",
   "id": "641026fc-e087-4e8e-a8d3-338273644189",
   "metadata": {},
   "source": [
    "# Map"
   ]
  },
  {
   "cell_type": "code",
   "execution_count": 7,
   "id": "94284d6e",
   "metadata": {
    "vscode": {
     "languageId": "plaintext"
    }
   },
   "outputs": [
    {
     "data": {
      "application/vnd.jupyter.widget-view+json": {
       "model_id": "2fe473c94493460082701df614ff2268",
       "version_major": 2,
       "version_minor": 0
      },
      "text/plain": [
       "Map(center=[0.0, 0.0], zoom=2.0)"
      ]
     },
     "execution_count": 7,
     "metadata": {},
     "output_type": "execute_result"
    }
   ],
   "source": [
    "from ipyopenlayers import (\n",
    "    Map, RasterTileLayer\n",
    ")\n",
    "import configparser\n",
    "import requests\n",
    "import unicodedata\n",
    "\n",
    "m = Map(center=[0.0, 0.0], zoom=2)\n",
    "layer= RasterTileLayer()\n",
    "m.add_layer(layer)\n",
    "m"
   ]
  },
  {
   "cell_type": "code",
   "execution_count": 8,
   "id": "6ecd0ff6-93f3-4cd8-bc0a-8520aab07a84",
   "metadata": {},
   "outputs": [],
   "source": [
    "config = configparser.ConfigParser()\n",
    "config.read('../.env.ini')\n",
    "api_key = config['DEFAULT']['api_key']"
   ]
  },
  {
   "cell_type": "code",
   "execution_count": 9,
   "id": "c2a997b5-3f80-4e9c-8956-5dba704f7eae",
   "metadata": {},
   "outputs": [],
   "source": [
    "def get_country_from_coordinates_geoapify(**kwargs):\n",
    "    lon = kwargs.get('lon')\n",
    "    lat = kwargs.get('lat')\n",
    "    url = f\"https://api.geoapify.com/v1/geocode/reverse?lat={lat}&lon={lon}&apiKey={api_key}\"\n",
    "    \n",
    "    response = requests.get(url)\n",
    "    data = response.json()\n",
    "    \n",
    "    features = data.get('features', [])\n",
    "    if features:\n",
    "        first_feature = features[0]\n",
    "        properties = first_feature.get('properties', {})\n",
    "        country = properties.get('country', None)\n",
    "        normalized_name = country.split(' ')[0]\n",
    "        normalized_name = unicodedata.normalize('NFKD', normalized_name)\n",
    "        normalized_name = normalized_name.encode('ASCII', 'ignore').decode('utf-8')\n",
    "        print(f\"Country: {normalized_name}\")\n",
    "\n",
    "m.on_click(get_country_from_coordinates_geoapify)"
   ]
  }
 ],
 "metadata": {
  "kernelspec": {
   "display_name": "Python 3 (ipykernel)",
   "language": "python",
   "name": "python3"
  },
  "language_info": {
   "codemirror_mode": {
    "name": "ipython",
    "version": 3
   },
   "file_extension": ".py",
   "mimetype": "text/x-python",
   "name": "python",
   "nbconvert_exporter": "python",
   "pygments_lexer": "ipython3",
   "version": "3.12.4"
  }
 },
 "nbformat": 4,
 "nbformat_minor": 5
}
