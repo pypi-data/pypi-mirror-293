{
 "cells": [
  {
   "cell_type": "code",
   "execution_count": null,
   "id": "ff50ece2-3fbf-4ca2-8b3c-788aa442620e",
   "metadata": {},
   "outputs": [],
   "source": [
    "import matplotlib.pyplot as plt\n",
    "import mplhep as hep\n",
    "import ROOT as R\n",
    "from triggercalib import HltEff\n",
    "import uproot\n",
    "\n",
    "hep.style.use(\"LHCb2\")\n",
    "R.EnableImplicitMT(8)"
   ]
  },
  {
   "cell_type": "code",
   "execution_count": null,
   "id": "6004bf28-af71-499f-bba6-53a96841dbf4",
   "metadata": {},
   "outputs": [],
   "source": [
    "hlt_eff = HltEff(\n",
    "    \"bu2jpsik\",\n",
    "    \"root://eoslhcb.cern.ch//eos/lhcb/wg/rta/WP4/TriggerCalib/example_bu2jpsik_magdown_mc_example.root:Tuple/DecayTree\",\n",
    "    probe=\"Hlt1TrackMVA\",\n",
    "    tag=[\"Hlt1TrackMVA\", \"Hlt1TwoTrackMVA\"],\n",
    "    particle=\"B\",\n",
    "    binning={\n",
    "        \"B_PT\" : {\n",
    "            \"bins\" : [\n",
    "                n*1e3 for n in (\n",
    "                    2, 3, 4, 5, 6, 7, 8, 9, 10, 11, 12, 13,\n",
    "                    14, 15, 16, 17, 18, 19, 20, 21, 22, 25\n",
    "                )\n",
    "            ]\n",
    "        }\n",
    "    },\n",
    "    sideband={\n",
    "        \"B_DTF_PV_Jpsi_mass_const_M\": {\n",
    "            \"range\": [5280 - 150, 5280 + 150], # Define outer sideband edges as 5130 and 5430\n",
    "            \"sideband\": [5280 - 55, 5280 + 55], # Define inner sideband edges as 5225 and 5335 (signal window inferred between)\n",
    "        }\n",
    "    }\n",
    ")"
   ]
  },
  {
   "cell_type": "code",
   "execution_count": null,
   "id": "da6532a4-2233-40f7-b92f-81f3c85ba624",
   "metadata": {},
   "outputs": [],
   "source": [
    "tos_eff_hist = uproot.from_pyroot(hlt_eff[\"efficiencies\"][\"tos_efficiency_B_PT\"])\n",
    "\n",
    "# Prepare quantities for plot#\n",
    "values, bins = tos_eff_hist.to_numpy()\n",
    "errors = tos_eff_hist.errors()\n",
    "midpoints = (bins[1:] + bins[:-1]) / 2 / 1e3\n",
    "widths = (bins[1:] - bins[:-1]) / 2 / 1e3\n",
    "\n",
    "xmin = midpoints[0] - widths[0]\n",
    "xmax = midpoints[-1] + widths[-1]\n",
    "\n",
    "# Plot efficiency #\n",
    "plt.figure(figsize=(12,10))\n",
    "\n",
    "plt.plot((xmin, xmax), (1,1), color='k', ls='dashed', lw=2)\n",
    "plt.errorbar(\n",
    "    x=midpoints, y=values, xerr=widths, yerr=errors,\n",
    "    color='r', elinewidth=2, ls=\"none\", marker='.', markersize=8, \n",
    ")\n",
    "\n",
    "plt.xlim(xmin, xmax)\n",
    "plt.xlabel(r\"Transverse momentum, $p_T\\left(B^+\\right)$ / $\\mathrm{GeV}c^{-2}$\")\n",
    "\n",
    "plt.ylim(0, 1.1)\n",
    "plt.ylabel(r\"TOS efficiency, $\\varepsilon_\\mathrm{TOS}$\")\n",
    "\n",
    "hep.lhcb.label(loc=0, rlabel=r\"$B^+\\to J/\\psi\\left(\\mu\\mu\\right)K^+$ 2024 MC\")\n",
    "\n",
    "plt.show()"
   ]
  },
  {
   "cell_type": "code",
   "execution_count": null,
   "id": "5d14ec09-0114-49aa-a8e3-f8dec0a8f5ae",
   "metadata": {},
   "outputs": [],
   "source": []
  }
 ],
 "metadata": {
  "language_info": {
   "name": "python"
  }
 },
 "nbformat": 4,
 "nbformat_minor": 5
}
