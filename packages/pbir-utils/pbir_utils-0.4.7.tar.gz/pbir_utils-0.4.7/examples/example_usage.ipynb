{
 "cells": [
  {
   "cell_type": "markdown",
   "metadata": {},
   "source": [
    "# Install dependencies"
   ]
  },
  {
   "cell_type": "code",
   "execution_count": null,
   "metadata": {},
   "outputs": [],
   "source": [
    "!pip install --upgrade pbir-utils -q"
   ]
  },
  {
   "cell_type": "markdown",
   "metadata": {},
   "source": [
    "# Import Libraries"
   ]
  },
  {
   "cell_type": "code",
   "execution_count": null,
   "metadata": {},
   "outputs": [],
   "source": [
    "import pbir_utils as pbir"
   ]
  },
  {
   "cell_type": "markdown",
   "metadata": {},
   "source": [
    "# Initialize Path Variables"
   ]
  },
  {
   "cell_type": "code",
   "execution_count": null,
   "metadata": {},
   "outputs": [],
   "source": [
    "pbip_directory = r\"C:\\DEV\\Power BI Report\"\n",
    "csv_path = r\"C:\\DEV\\Attribute_Mapping.csv\"\n",
    "output_csv_path  = r\"C:\\DEV\\output.csv\"\n",
    "pbir_report_folder = r'C:\\DEV\\Power BI Report\\Report Name.Report'"
   ]
  },
  {
   "cell_type": "markdown",
   "metadata": {},
   "source": [
    "# Example 1: Batch update attributes in PBIR project\n",
    "Performs a batch update on all components of a Power BI Enhanced Report Format (PBIR) project by processing JSON files in the specified directory. This function updates table and column references in PBIR files based on mappings provided in a CSV file. It is designed to handle the PBIR folder structure where report components are divided into individual JSON files.\n",
    "\n",
    "**Parameters:**\n",
    "- `directory_path` (str): The path to the root directory of the PBIR project (typically the 'definition' folder). This directory should contain all the JSON files representing different components of the PBIR project.\n",
    "- `csv_path` (str): The path to the `Attribute_Mapping.csv` file that contains mappings for updating table and column names. This CSV file should include the following columns:\n",
    "\n",
    "  - `old_tbl`: Old table names\n",
    "  - `old_col`: Old column names\n",
    "  - `new_tbl`: New table names (optional if the table name is unchanged)\n",
    "  - `new_col`: New column names\n",
    "\n",
    "  The `Attribute_Mapping.csv` file should be formatted as follows:\n",
    "\n",
    "  | old_tbl   | old_col         | new_tbl    | new_col        |\n",
    "  |-----------|-----------------|------------|----------------|\n",
    "  | Sale      | sale_id         | Sales      | Sale Id        |\n",
    "  | Sale      | order_date      | Sales      | OrderDate      |\n",
    "  | Date      |                 | Dates      |                |\n",
    "  | Product   | product_name    |            | Product Name   |\n",
    "  | Product   | product_id      |            | Product ID     |\n",
    "\n",
    "  This format enables you to document changes to table and column names within the Semantic Model. If a table name remains unchanged, specifying `new_tbl` is optional. Similarly, if only the table name has changed but the column names remain the same, you do not need to specify `old_col` and `new_col`."
   ]
  },
  {
   "cell_type": "code",
   "execution_count": null,
   "metadata": {},
   "outputs": [],
   "source": [
    "pbir.batch_update_pbir_project(pbip_directory, csv_path)"
   ]
  },
  {
   "cell_type": "markdown",
   "metadata": {},
   "source": [
    "# Example 2: Export attribute metadata to CSV\n",
    "Exports metadata from Power BI Enhanced Report Format (PBIR) into a CSV file. The function processes JSON files within a specified directory to extract detailed information about tables, columns, measures, their DAX expressions, and their usage contexts. It consolidates this information and writes it to a CSV file, which provides a structured view of the PBIR report's metadata.\n",
    "\n",
    "**Parameters:**\n",
    "- `directory_path` (str): The path to the directory containing PBIR JSON files to be processed. You can even specify a parent folder that includes multiple reports within its subdirectories.\n",
    "- `csv_output_path` (str): The path where the output CSV file will be saved."
   ]
  },
  {
   "cell_type": "code",
   "execution_count": null,
   "metadata": {},
   "outputs": [],
   "source": [
    "pbir.export_pbir_metadata_to_csv(\n",
    "    directory_path=pbip_directory, \n",
    "    csv_output_path=output_csv_path\n",
    ")"
   ]
  },
  {
   "cell_type": "markdown",
   "metadata": {},
   "source": [
    "# Example 3: Display Report Wireframe\n",
    "The function generates and displays interactive wireframes for a report using Dash and Plotly. This function visualizes the layout of pages and their visual components.\n",
    "\n",
    "### Parameters:\n",
    "- **`root_folder` (str)**: The path to the root folder of the PBIR report. This folder should contain the `definition/pages` subfolder where the JSON files for pages and visuals are located.\n",
    "\n",
    "- **`pages` (list, optional)**: A list of page names to include in the wireframe visualization. If this list is empty or not provided, all pages will be included. For example: `pages=['Overview', 'Detail']`.\n",
    "\n",
    "- **`visual_types` (list, optional)**: A list of visual types to include in the visualization. Visuals not matching these types will be excluded. If this list is empty or not provided, all visual types will be included. For example: `visual_types=['slicer', 'tableEx']`.\n",
    "\n",
    "- **`visual_ids` (list, optional)**: A list of visual IDs to include. Only visuals with these IDs will be displayed. If this list is empty or not provided, all visuals will be included. For example: `visual_ids=['f0a86ce15d6071a24950', '0b80818ed5eede98baa8']`.\n",
    "\n",
    "- **`show_hidden` (bool, optional)**: Determines whether to display hidden visuals. Set to `True` to show hidden visuals, or `False` to exclude them. Default is `True`.\n",
    "\n",
    "### Behavior:\n",
    "The `pages`, `visual_types`, and `visual_ids` parameters work with an AND logic, meaning that only visuals matching all specified criteria will be shown. For example, setting `pages=['Overview']` and `visual_types=['slicer']` will display only `slicer` visuals on the `Overview` page.\n"
   ]
  },
  {
   "cell_type": "code",
   "execution_count": null,
   "metadata": {},
   "outputs": [],
   "source": [
    "pbir.display_report_wireframes(\n",
    "    report_path=pbir_report_folder,\n",
    "    pages=[],\n",
    "    visual_types=[],\n",
    "    visual_ids=[],\n",
    "    show_hidden=True\n",
    ")"
   ]
  },
  {
   "cell_type": "markdown",
   "metadata": {},
   "source": [
    "# Example 4: Disable Visual Interactions\n",
    "This function disables interactions between visuals based on the provided parameters.\n",
    "\n",
    "### Parameters:\n",
    "\n",
    "- **`report_path` (str)**: The path to the root folder of the PBIR report.\n",
    "\n",
    "- **`pages` (list, optional)**: List of page names to process. If not provided, all pages will be processed. For example: `pages=['Overview']`.\n",
    "\n",
    "- **`source_visual_ids` (list, optional)**: List of specific source visual IDs. If not provided, all visuals will be used as sources. For example: `source_visual_ids=['f0a86ce15d6071a24950', '0b80818ed5eede98baa8']`.\n",
    "\n",
    "- **`source_visual_types` (list, optional)**: List of source visual types. If not provided, all visuals will be used as sources. For example: `source_visual_types=['slicer']`.\n",
    "\n",
    "- **`target_visual_ids` (list, optional)**: List of specific target visual IDs. If not provided, all visuals will be used as targets. For example: `target_visual_ids=['p05f7ce15d6071a24950']`.\n",
    "\n",
    "- **`target_visual_types` (list, optional)**: List of target visual types. If not provided, all visuals will be used as targets. For example: `target_visual_types=['tableEx']`.\n",
    "\n",
    "- **`update_type` (str, optional)**: Determines how interactions are managed. Options include:\n",
    "  - **`\"Upsert\"`**: Disables any existing interactions that match the specified source/target parameters and inserts new combinations. Interactions not part of the specified source/target parameters will remain unchanged. This is the *default option*.\n",
    "  - **`\"Insert\"`**: Inserts new interactions based on the source/target parameters without modifying existing interactions.\n",
    "  - **`\"Overwrite\"`**: Replaces all existing interactions with the new ones that match the specified source/target parameters, removing any interactions not part of the new configuration.\n",
    "\n",
    "### Behavior:\n",
    "\n",
    "1. **If Only `report_path` Is Provided:**\n",
    "   - The function will disable interactions between all visuals across all pages in the report. This means that no visuals on any page will interact with each other.\n",
    "\n",
    "2. **If `report_path` and `pages` Are Provided:**\n",
    "   - The function will disable interactions between all visuals but only on the specified pages. Visuals on pages not listed will remain unaffected.\n",
    "\n",
    "3. **If `source_visual_ids` or `source_visual_types` Are Provided:**\n",
    "   - The function will disable interactions from the specified source visuals (IDs or types) to all other visuals (targets) on the pages specified. For example, if `source_visual_ids` includes `['p05f7ce15d6071a24950']`, interactions involving `p05f7ce15d6071a24950` to all other visuals (or specified target visuals/types) will be disabled on the page.\n",
    "\n",
    "4. **If `target_visual_ids` or `target_visual_types` Are Provided:**\n",
    "   - The function will disable interactions from all source visuals to the specified target visuals. For instance, if `target_visual_ids` includes `['f0a86ce15d6071a24950']`, interactions from all source visuals (or specified source visuals/types) to `f0a86ce15d6071a24950` will be disabled on the page."
   ]
  },
  {
   "cell_type": "code",
   "execution_count": null,
   "metadata": {},
   "outputs": [],
   "source": [
    "pbir.disable_visual_interactions(\n",
    "    report_path=pbir_report_folder,\n",
    "    pages=[],\n",
    "    source_visual_ids=[],\n",
    "    source_visual_types=[],\n",
    "    target_visual_ids=[],\n",
    "    target_visual_types=[],\n",
    "    update_type=\"Upsert\"\n",
    ")"
   ]
  },
  {
   "cell_type": "markdown",
   "metadata": {},
   "source": [
    "# Example 4: Remove report level Measures\n",
    "This function scans through a Power BI PBIR Report and removes report-level measures. It can remove all measures or a specified list of measures, with an option to check if the measures are used in any visuals before removal.\n",
    "\n",
    "## Parameters\n",
    "\n",
    "- **`report_path` (str)**: The file system path to the folder containing the PowerBI report.\n",
    "\n",
    "- **`measure_names` (Optional[list])**: A list of measure names that you want to remove from the report. **If this parameter is `None` or an empty list, all measures in the report will be considered for removal**. \n",
    "\n",
    "- **`check_visual_usage` (bool)**: A flag indicating whether to only remove measures that are not used in any visuals within the report.\n",
    "    - **True**: Only remove a measure if neither the measure itself nor any of its dependent measures are used in any visuals. (default behavior if not specified)\n",
    "    - **False**: Measures will be removed regardless of their usage in visuals."
   ]
  },
  {
   "cell_type": "code",
   "execution_count": null,
   "metadata": {},
   "outputs": [],
   "source": [
    "pbir.remove_measures(\n",
    "    report_path=pbir_report_folder, \n",
    "    measure_names=[], \n",
    "    check_visual_usage=True\n",
    ")"
   ]
  },
  {
   "cell_type": "markdown",
   "metadata": {},
   "source": [
    "# Example 5: Generate measure dependencies report\n",
    "This function generates a dependency tree for measures in a Power BI report, *focusing only on measures that have dependencies on other measures*. \n",
    "\n",
    "## Parameters\n",
    "\n",
    "- **`report_path` (str)**: The file system path to the folder containing the PowerBI report.\n",
    "\n",
    "- **`measure_names` (Optional[list])**: \n",
    "    - This is an optional list of measure names that you want to analyze. \n",
    "    - If you pass a list of measure names, the function will only analyze the dependencies for those specific measures.\n",
    "    - If you pass `None` (default) or an empty list `[]`, the function will analyze all measures in the report.\n",
    "\n",
    "- **`include_visual_ids` (bool)**: This boolean flag determines whether to include the IDs of visuals that use the measures being analyzed.\n",
    "    - **True**: The function will append the visual IDs in square brackets after each measure in the dependency tree.\n",
    "    - **False**: Visual IDs will be excluded (default behavior if not specified)"
   ]
  },
  {
   "cell_type": "code",
   "execution_count": null,
   "metadata": {},
   "outputs": [],
   "source": [
    "print(\n",
    "    pbir.generate_measure_dependencies_report(\n",
    "        report_path=pbir_report_folder, measure_names=[], include_visual_ids=True\n",
    "    )\n",
    ")"
   ]
  }
 ],
 "metadata": {
  "kernelspec": {
   "display_name": ".venv",
   "language": "python",
   "name": "python3"
  },
  "language_info": {
   "codemirror_mode": {
    "name": "ipython",
    "version": 3
   },
   "file_extension": ".py",
   "mimetype": "text/x-python",
   "name": "python",
   "nbconvert_exporter": "python",
   "pygments_lexer": "ipython3",
   "version": "3.12.5"
  }
 },
 "nbformat": 4,
 "nbformat_minor": 2
}
