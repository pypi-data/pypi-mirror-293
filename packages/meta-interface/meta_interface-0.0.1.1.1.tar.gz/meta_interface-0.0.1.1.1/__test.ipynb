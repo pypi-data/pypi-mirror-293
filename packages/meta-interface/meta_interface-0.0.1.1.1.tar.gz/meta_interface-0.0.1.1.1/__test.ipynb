{
 "cells": [
  {
   "cell_type": "code",
   "execution_count": 18,
   "metadata": {},
   "outputs": [
    {
     "name": "stdout",
     "output_type": "stream",
     "text": [
      "test-Base\n",
      "123\n"
     ]
    }
   ],
   "source": [
    "from src.interface import Interface, defaultmethod\n",
    "\n",
    "class Base:\n",
    "    def test(self):\n",
    "        print('test-Base')\n",
    "\n",
    "class IBase(Interface[Base]):\n",
    "    @defaultmethod\n",
    "    def my_abstract_method(self):\n",
    "        self.test()\n",
    "        print(123)\n",
    "\n",
    "class C(Base, metaclass=IBase):...\n",
    "\n",
    "C().my_abstract_method()"
   ]
  }
 ],
 "metadata": {
  "kernelspec": {
   "display_name": "pytorch",
   "language": "python",
   "name": "python3"
  },
  "language_info": {
   "codemirror_mode": {
    "name": "ipython",
    "version": 3
   },
   "file_extension": ".py",
   "mimetype": "text/x-python",
   "name": "python",
   "nbconvert_exporter": "python",
   "pygments_lexer": "ipython3",
   "version": "3.10.0"
  }
 },
 "nbformat": 4,
 "nbformat_minor": 2
}
