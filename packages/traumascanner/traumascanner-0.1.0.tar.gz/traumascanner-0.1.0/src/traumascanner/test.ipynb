{
 "cells": [
  {
   "cell_type": "code",
   "execution_count": 2,
   "metadata": {},
   "outputs": [],
   "source": [
    "import os\n",
    "\n",
    "import re\n",
    "import pandas as pd\n",
    "import numpy as np\n",
    "import seaborn as sns\n",
    "import datetime as datetime\n",
    "import matplotlib.pyplot as plt\n",
    "\n",
    "from text_targets import partial_trauma_targets, exact_trauma_targets, fp_trauma_phrases, negative_hemorrhage_phrases\n",
    "from import_data import import_radiology_reports, rename_radiology_reports_columns \n",
    "from traumascanner import traumascanner"
   ]
  },
  {
   "cell_type": "code",
   "execution_count": 3,
   "metadata": {},
   "outputs": [
    {
     "name": "stderr",
     "output_type": "stream",
     "text": [
      "/home/mrh1996/.local/lib/python3.7/site-packages/IPython/core/interactiveshell.py:3473: DtypeWarning: Columns (11) have mixed types.Specify dtype option on import or set low_memory=False.\n",
      "  if (await self.run_code(code, result,  async_=asy)):\n"
     ]
    }
   ],
   "source": [
    "rad_reports = import_radiology_reports('/share/nubar/Neurotrauma/hematoma_expansion/NU_TBI/data/processed/suid_rad_reports.csv')"
   ]
  },
  {
   "cell_type": "raw",
   "metadata": {},
   "source": [
    "def traumascanner(path_to_csv = path_to_csv, \n",
    "                  id_column = id_column, \n",
    "                  text_column = text_column, \n",
    "                  eval_partial_trauma_targets = True, \n",
    "                  eval_exact_trauma_targets = True):\n",
    "\n",
    "    rad_reports = import_radiology_reports(path_to_csv)\n",
    "\n",
    "    rad_reports = rename_radiology_reports_columns(rad_reports, id_column, text_column)\n",
    "\n",
    "    if eval_partial_trauma_targets == True:\n",
    "        print('eval partial_trauma_targets')\n",
    "        # identify reports that have a partial-text match to at least one of the trauma_targets\n",
    "        potential_tbi_trauma = rad_reports[rad_reports['report_text'].str.contains('|'.join(partial_trauma_targets), case = False, regex = True)]\n",
    "        print(potential_tbi_trauma[[\"report_text\"]].nunique())\n",
    "    \n",
    "    if eval_exact_trauma_targets == True:\n",
    "        print('eval exact_trauma_targets')\n",
    "        ## exact-text matching\n",
    "        # initialize an empty DataFrame to store the results\n",
    "        exact_results_df = pd.DataFrame()\n",
    "\n",
    "        for word in exact_trauma_targets:\n",
    "            exact_match_result = rad_reports[rad_reports[\"report_text\"].str.contains(fr'\\b{word}\\b', case=False, regex=True)]\n",
    "            exact_results_df = pd.concat([exact_results_df, exact_match_result])\n",
    "\n",
    "    # combine the dataframe of reports that matched our exact or partial-text matching criteria\n",
    "    if eval_partial_trauma_targets == True & eval_exact_trauma_targets == True:\n",
    "        report_matches = [potential_tbi_trauma, exact_results_df]\n",
    "\n",
    "        # combine dataframes and drop any duplicated reports which may appear in both\n",
    "        potential_tbi_trauma_reports = pd.concat(report_matches).drop_duplicates()\n",
    "\n",
    "        return(potential_tbi_trauma_reports)"
   ]
  },
  {
   "cell_type": "code",
   "execution_count": 4,
   "metadata": {},
   "outputs": [
    {
     "name": "stderr",
     "output_type": "stream",
     "text": [
      "/home/mrh1996/.local/lib/python3.7/site-packages/IPython/core/interactiveshell.py:3553: DtypeWarning: Columns (11) have mixed types.Specify dtype option on import or set low_memory=False.\n",
      "  exec(code_obj, self.user_global_ns, self.user_ns)\n"
     ]
    },
    {
     "name": "stdout",
     "output_type": "stream",
     "text": [
      "eval partial_trauma_targets\n",
      "eval exact_trauma_targets\n"
     ]
    }
   ],
   "source": [
    "test = traumascanner(path_to_csv = '/share/nubar/Neurotrauma/hematoma_expansion/NU_TBI/data/processed/suid_rad_reports.csv',\n",
    "              id_column = 'report_num_temp',\n",
    "              text_column = 'report',\n",
    "              eval_partial_trauma_targets = True,\n",
    "              eval_exact_trauma_targets = True)"
   ]
  }
 ],
 "metadata": {
  "kernelspec": {
   "display_name": "tbi-env",
   "language": "python",
   "name": "tbi-env"
  },
  "language_info": {
   "codemirror_mode": {
    "name": "ipython",
    "version": 3
   },
   "file_extension": ".py",
   "mimetype": "text/x-python",
   "name": "python",
   "nbconvert_exporter": "python",
   "pygments_lexer": "ipython3",
   "version": "3.7.0"
  }
 },
 "nbformat": 4,
 "nbformat_minor": 2
}
