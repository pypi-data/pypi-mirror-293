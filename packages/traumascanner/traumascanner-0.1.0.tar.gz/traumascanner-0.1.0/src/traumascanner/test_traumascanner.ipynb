{
 "cells": [
  {
   "cell_type": "code",
   "execution_count": 1,
   "metadata": {},
   "outputs": [],
   "source": [
    "import os\n",
    "\n",
    "import re\n",
    "import pandas as pd\n",
    "import numpy as np\n",
    "\n",
    "from text_targets import partial_trauma_targets, exact_trauma_targets, fp_trauma_phrases, fp_trauma_phrases_strings, negative_hemorrhage_phrases, rescue_phrases\n",
    "from import_data import import_radiology_reports, rename_radiology_reports_columns \n",
    "from export_data import save_dataset\n",
    "from apply_targets import sentence_has_target, report_has_target\n",
    "from traumascanner import traumascanner"
   ]
  },
  {
   "cell_type": "code",
   "execution_count": 2,
   "metadata": {},
   "outputs": [
    {
     "name": "stdout",
     "output_type": "stream",
     "text": [
      "Python 3.7.16\n"
     ]
    }
   ],
   "source": [
    "!python --version"
   ]
  },
  {
   "cell_type": "code",
   "execution_count": 6,
   "metadata": {
    "collapsed": true,
    "jupyter": {
     "outputs_hidden": true
    },
    "tags": []
   },
   "outputs": [
    {
     "name": "stdout",
     "output_type": "stream",
     "text": [
      "Package                  Version\n",
      "------------------------ -----------\n",
      "absl-py                  1.4.0\n",
      "accelerate               0.20.3\n",
      "anyio                    3.6.2\n",
      "argon2-cffi              21.3.0\n",
      "argon2-cffi-bindings     21.2.0\n",
      "attrs                    22.1.0\n",
      "Babel                    2.11.0\n",
      "backcall                 0.2.0\n",
      "beautifulsoup4           4.11.1\n",
      "blast-ct                 0.1.1\n",
      "bleach                   5.0.1\n",
      "blis                     0.7.10\n",
      "brotlipy                 0.7.0\n",
      "cachetools               5.3.0\n",
      "catalogue                2.0.9\n",
      "certifi                  2020.6.20\n",
      "cffi                     1.15.1\n",
      "charset-normalizer       2.0.4\n",
      "click                    8.1.6\n",
      "conda                    4.14.0\n",
      "conda-package-handling   2.0.2\n",
      "conda_package_streaming  0.7.0\n",
      "confection               0.1.1\n",
      "cryptography             39.0.1\n",
      "cymem                    2.0.7\n",
      "debugpy                  1.6.4\n",
      "decorator                5.1.1\n",
      "defusedxml               0.7.1\n",
      "en-core-web-sm           3.6.0\n",
      "entrypoints              0.4\n",
      "fastjsonschema           2.16.2\n",
      "filelock                 3.12.2\n",
      "fsspec                   2023.1.0\n",
      "google-auth              2.16.0\n",
      "google-auth-oauthlib     0.4.6\n",
      "grpcio                   1.51.1\n",
      "huggingface-hub          0.16.4\n",
      "idna                     3.4\n",
      "importlib-metadata       5.1.0\n",
      "importlib-resources      5.10.1\n",
      "ipykernel                6.16.2\n",
      "ipython                  7.34.0\n",
      "ipython-genutils         0.2.0\n",
      "jedi                     0.18.2\n",
      "Jinja2                   3.1.2\n",
      "json5                    0.9.10\n",
      "jsonschema               4.17.3\n",
      "jupyter_client           7.4.8\n",
      "jupyter_core             4.12.0\n",
      "jupyter-server           1.23.3\n",
      "jupyterlab               3.5.1\n",
      "jupyterlab-pygments      0.2.2\n",
      "jupyterlab_server        2.16.5\n",
      "langcodes                3.3.0\n",
      "Markdown                 3.4.1\n",
      "MarkupSafe               2.1.1\n",
      "matplotlib-inline        0.1.6\n",
      "mistune                  2.0.4\n",
      "murmurhash               1.0.9\n",
      "nbclassic                0.4.8\n",
      "nbclient                 0.7.2\n",
      "nbconvert                7.2.6\n",
      "nbformat                 5.7.0\n",
      "nbstripout               0.6.1\n",
      "nest-asyncio             1.5.6\n",
      "networkx                 1.11\n",
      "notebook                 6.5.2\n",
      "notebook_shim            0.2.2\n",
      "numpy                    1.21.6\n",
      "nvidia-cublas-cu11       11.10.3.66\n",
      "nvidia-cuda-nvrtc-cu11   11.7.99\n",
      "nvidia-cuda-runtime-cu11 11.7.99\n",
      "nvidia-cudnn-cu11        8.5.0.96\n",
      "oauthlib                 3.2.2\n",
      "packaging                22.0\n",
      "pandas                   1.3.5\n",
      "pandocfilters            1.5.0\n",
      "parso                    0.8.3\n",
      "pathy                    0.10.2\n",
      "peft                     0.3.0\n",
      "pexpect                  4.8.0\n",
      "pickleshare              0.7.5\n",
      "pip                      21.2.2\n",
      "pkgutil_resolve_name     1.3.10\n",
      "preshed                  3.0.8\n",
      "prometheus-client        0.15.0\n",
      "prompt-toolkit           3.0.36\n",
      "protobuf                 3.20.3\n",
      "psutil                   5.9.4\n",
      "ptyprocess               0.7.0\n",
      "pyasn1                   0.4.8\n",
      "pyasn1-modules           0.2.8\n",
      "pyConTextNLP             0.6.2.0\n",
      "pycosat                  0.6.4\n",
      "pycparser                2.21\n",
      "pydantic                 1.10.12\n",
      "Pygments                 2.13.0\n",
      "pyOpenSSL                23.0.0\n",
      "pyrsistent               0.19.2\n",
      "PySocks                  1.7.1\n",
      "python-dateutil          2.8.2\n",
      "pytz                     2022.7\n",
      "PyYAML                   6.0.1\n",
      "pyzmq                    24.0.1\n",
      "regex                    2023.8.8\n",
      "requests                 2.28.1\n",
      "requests-oauthlib        1.3.1\n",
      "rsa                      4.9\n",
      "ruamel-yaml-conda        0.15.100\n",
      "safetensors              0.3.3\n",
      "scipy                    1.7.3\n",
      "Send2Trash               1.8.0\n",
      "sentencepiece            0.1.99\n",
      "setuptools               65.6.3\n",
      "SimpleITK                1.2.4\n",
      "six                      1.16.0\n",
      "smart-open               6.3.0\n",
      "sniffio                  1.3.0\n",
      "soupsieve                2.3.2.post1\n",
      "spacy                    3.6.1\n",
      "spacy-legacy             3.0.12\n",
      "spacy-loggers            1.0.4\n",
      "srsly                    2.4.7\n",
      "tbi-extractor            0.3.1\n",
      "tensorboard              2.11.2\n",
      "tensorboard-data-server  0.6.1\n",
      "tensorboard-plugin-wit   1.8.1\n",
      "terminado                0.17.1\n",
      "thinc                    8.1.11\n",
      "tinycss2                 1.2.1\n",
      "tokenizers               0.13.3\n",
      "tomli                    2.0.1\n",
      "toolz                    0.12.0\n",
      "torch                    1.13.1\n",
      "tornado                  6.2\n",
      "traitlets                5.7.1\n",
      "transformers             4.30.2\n",
      "typer                    0.9.0\n",
      "typing_extensions        4.4.0\n",
      "urllib3                  1.26.14\n",
      "wasabi                   1.1.2\n",
      "wcwidth                  0.2.5\n",
      "webencodings             0.5.1\n",
      "websocket-client         1.4.2\n",
      "Werkzeug                 2.2.3\n",
      "wheel                    0.37.1\n",
      "zipp                     3.11.0\n",
      "zstandard                0.19.0\n"
     ]
    }
   ],
   "source": [
    "!pip3 list"
   ]
  },
  {
   "cell_type": "code",
   "execution_count": 4,
   "metadata": {},
   "outputs": [
    {
     "name": "stderr",
     "output_type": "stream",
     "text": [
      "/home/mrh1996/.local/lib/python3.7/site-packages/IPython/core/interactiveshell.py:3473: DtypeWarning: Columns (11) have mixed types.Specify dtype option on import or set low_memory=False.\n",
      "  if (await self.run_code(code, result,  async_=asy)):\n"
     ]
    }
   ],
   "source": [
    "rad_reports = import_radiology_reports('/share/nubar/Neurotrauma/hematoma_expansion/NU_TBI/data/processed/suid_rad_reports.csv')"
   ]
  },
  {
   "cell_type": "code",
   "execution_count": 5,
   "metadata": {
    "tags": []
   },
   "outputs": [
    {
     "name": "stderr",
     "output_type": "stream",
     "text": [
      "/home/mrh1996/.local/lib/python3.7/site-packages/IPython/core/interactiveshell.py:3553: DtypeWarning: Columns (11) have mixed types.Specify dtype option on import or set low_memory=False.\n",
      "  exec(code_obj, self.user_global_ns, self.user_ns)\n"
     ]
    },
    {
     "name": "stdout",
     "output_type": "stream",
     "text": [
      "Searching for radiology reports with partial matches to trauma target keyword list\n",
      "Est. number of partially matched reports: 38684\n",
      "Searching for radiology reports with exact matches to trauma target keyword list\n",
      "Est. number of exact matched reports: 7296\n",
      "combining potential and exact matches\n",
      "identifying reports that are false positives for trauma\n"
     ]
    },
    {
     "name": "stderr",
     "output_type": "stream",
     "text": [
      "/share/nubar/Neurotrauma/hematoma_expansion/traumaScanner/traumascanner/src/traumascanner/traumascanner.py:121: SettingWithCopyWarning: \n",
      "A value is trying to be set on a copy of a slice from a DataFrame.\n",
      "Try using .loc[row_indexer,col_indexer] = value instead\n",
      "\n",
      "See the caveats in the documentation: https://pandas.pydata.org/pandas-docs/stable/user_guide/indexing.html#returning-a-view-versus-a-copy\n",
      "  potential_trauma_fp['matching_sentences'] = potential_trauma_fp['report_text'].apply(get_matching_sentences, regex_phrases = fp_trauma_phrases)\n"
     ]
    },
    {
     "name": "stdout",
     "output_type": "stream",
     "text": [
      "number of patients after removing false trauma reports\n",
      "31264\n",
      "number of reports after removing false trauma reports\n",
      "41357\n",
      "identify and remove reports that indicate an absence of post-traumatic hemorrhage\n",
      "num unique reports without hemorrhage 36257\n",
      "num unique patients without no hemorrhage 30095\n",
      "filter dataset for patients with likely post-traumatic hemorrhage\n",
      "printing sample size of reports and patients before excluding the no hemorrhage patients\n",
      "number of unique reports with potential post-traumatic hemorrhage: 5100\n",
      "number of unique patients with potential post-traumatic hemorrhage: 2337\n",
      "number of rescued reports: 586\n",
      "number of total reports: 5686\n",
      "number of unique reports with post-traumatic hemorrhage: 5686\n",
      "number of unique patients with post-traumatic hemorrhage: 2395\n",
      "saving processed dataset to: /share/nubar/Neurotrauma/hematoma_expansion/traumaScanner/traumascanner/output_dir\n"
     ]
    }
   ],
   "source": [
    "potential_tbi_trauma_reports, potential_trauma_fp, potential_tbi_no_hem, rescue_additional_reports, post_traumatic_hem_reports = traumascanner(\n",
    "    path_to_data = '/share/nubar/Neurotrauma/hematoma_expansion/NU_TBI/data/processed/suid_rad_reports.csv',\n",
    "                            patient_id_column = 'unique_study_id',\n",
    "                            scan_id_column = 'report_num_temp',\n",
    "                            text_column = 'report',\n",
    "                            eval_partial_trauma_targets = True,\n",
    "                            eval_exact_trauma_targets = True,\n",
    "                            path_to_output_dir = \"/share/nubar/Neurotrauma/hematoma_expansion/traumaScanner/traumascanner/output_dir\"\n",
    ")"
   ]
  },
  {
   "cell_type": "code",
   "execution_count": null,
   "metadata": {},
   "outputs": [],
   "source": [
    "pd.set_option('display.max_rows', None)\n",
    "pd.set_option('display.max_columns', None)\n",
    "pd.set_option('display.max_colwidth', None)"
   ]
  },
  {
   "cell_type": "code",
   "execution_count": null,
   "metadata": {
    "tags": []
   },
   "outputs": [],
   "source": [
    "post_traumatic_hem_reports[['report_num', 'report_text', 'matching_sentences', 'matching_regex']].tail(5)"
   ]
  },
  {
   "cell_type": "code",
   "execution_count": null,
   "metadata": {
    "tags": []
   },
   "outputs": [],
   "source": [
    "potential_trauma_fp.head(20)"
   ]
  },
  {
   "cell_type": "code",
   "execution_count": null,
   "metadata": {},
   "outputs": [],
   "source": [
    "len(potential_trauma_fp)"
   ]
  },
  {
   "cell_type": "code",
   "execution_count": null,
   "metadata": {},
   "outputs": [],
   "source": [
    "len(post_traumatic_hem_reports)"
   ]
  },
  {
   "cell_type": "code",
   "execution_count": null,
   "metadata": {
    "tags": []
   },
   "outputs": [],
   "source": [
    "post_traumatic_hem_reports.tail()"
   ]
  },
  {
   "cell_type": "markdown",
   "metadata": {},
   "source": [
    "### Testing"
   ]
  },
  {
   "cell_type": "code",
   "execution_count": null,
   "metadata": {},
   "outputs": [],
   "source": [
    "list1 = ['trauma', 'hit', 'rodeo', 'tSAH']"
   ]
  },
  {
   "cell_type": "code",
   "execution_count": null,
   "metadata": {},
   "outputs": [],
   "source": [
    "exact_trauma_targets"
   ]
  },
  {
   "cell_type": "code",
   "execution_count": null,
   "metadata": {},
   "outputs": [],
   "source": [
    "from add_targets import add_target_list, add_regex_list"
   ]
  },
  {
   "cell_type": "code",
   "execution_count": null,
   "metadata": {},
   "outputs": [],
   "source": [
    "new_list = add_target_list(target_list_to_update = exact_trauma_targets, list_of_new_targets = list1)"
   ]
  },
  {
   "cell_type": "code",
   "execution_count": null,
   "metadata": {},
   "outputs": [],
   "source": [
    "new_list = add_targets"
   ]
  }
 ],
 "metadata": {
  "kernelspec": {
   "display_name": "tbi-env",
   "language": "python",
   "name": "tbi-env"
  },
  "language_info": {
   "codemirror_mode": {
    "name": "ipython",
    "version": 3
   },
   "file_extension": ".py",
   "mimetype": "text/x-python",
   "name": "python",
   "nbconvert_exporter": "python",
   "pygments_lexer": "ipython3",
   "version": "3.7.0"
  }
 },
 "nbformat": 4,
 "nbformat_minor": 4
}
